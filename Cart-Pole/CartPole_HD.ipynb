{
 "cells": [
  {
   "attachments": {},
   "cell_type": "markdown",
   "metadata": {},
   "source": [
    "# Libraries"
   ]
  },
  {
   "cell_type": "code",
   "execution_count": 1,
   "metadata": {},
   "outputs": [
    {
     "name": "stderr",
     "output_type": "stream",
     "text": [
      "c:\\Users\\Student\\Desktop\\vs_git\\.virtualenvs\\venv\\lib\\site-packages\\ale_py\\roms\\utils.py:90: DeprecationWarning: SelectableGroups dict interface is deprecated. Use select.\n",
      "  for external in metadata.entry_points().get(self.group, []):\n"
     ]
    },
    {
     "name": "stdout",
     "output_type": "stream",
     "text": [
      "WARNING:tensorflow:\n",
      "The TensorFlow contrib module will not be included in TensorFlow 2.0.\n",
      "For more information, please see:\n",
      "  * https://github.com/tensorflow/community/blob/master/rfcs/20180907-contrib-sunset.md\n",
      "  * https://github.com/tensorflow/addons\n",
      "  * https://github.com/tensorflow/io (for I/O related ops)\n",
      "If you depend on functionality not listed there, please file an issue.\n",
      "\n"
     ]
    },
    {
     "name": "stderr",
     "output_type": "stream",
     "text": [
      "c:\\Users\\Student\\Desktop\\vs_git\\.virtualenvs\\venv\\lib\\site-packages\\stable_baselines\\__init__.py:33: UserWarning: stable-baselines is in maintenance mode, please use [Stable-Baselines3 (SB3)](https://github.com/DLR-RM/stable-baselines3) for an up-to-date version. You can find a [migration guide](https://stable-baselines3.readthedocs.io/en/master/guide/migration.html) in SB3 documentation.\n",
      "  \"stable-baselines is in maintenance mode, please use [Stable-Baselines3 (SB3)](https://github.com/DLR-RM/stable-baselines3) for an up-to-date version. You can find a [migration guide](https://stable-baselines3.readthedocs.io/en/master/guide/migration.html) in SB3 documentation.\"\n"
     ]
    }
   ],
   "source": [
    "import tensorflow as tf\n",
    "import gym\n",
    "import numpy as np\n",
    "from stable_baselines import DQN #type: ignore\n",
    "from copy import deepcopy\n",
    "import math\n",
    "from gym.spaces import Discrete, Dict, Box\n",
    "from gym import spaces\n",
    "from random import seed\n",
    "import random \n",
    "from gym import Env\n",
    "from datetime import datetime\n",
    "import sys\n",
    "import time\n",
    "import pickle\n",
    "import stable_baselines\n",
    "import sklearn\n",
    "from sklearn import tree , svm \n",
    "import pandas as pd\n",
    "from sklearn.model_selection import train_test_split\n",
    "from sklearn.naive_bayes import GaussianNB , CategoricalNB\n",
    "from sklearn.neighbors import KNeighborsClassifier\n",
    "from sklearn import preprocessing\n",
    "from sklearn.metrics import confusion_matrix\n",
    "from sklearn.metrics import plot_confusion_matrix #type: ignore\n",
    "import matplotlib.pyplot as plt\n",
    "from sklearn import metrics\n",
    "from sklearn.metrics import accuracy_score\n",
    "from itertools import product\n",
    "from sklearn.utils import resample\n",
    "from sklearn.model_selection import KFold , RepeatedKFold\n",
    "from sklearn.metrics import f1_score\n",
    "from sklearn import impute\n",
    "import statistics\n",
    "from scipy import stats\n",
    "from copy import deepcopy\n",
    "from sklearn.ensemble import ExtraTreesClassifier\n",
    "from sklearn.metrics import classification_report\n",
    "from sklearn.ensemble import RandomForestClassifier\n",
    "from math import ceil\n",
    "import copy\n",
    "import sys\n",
    "from sklearn.metrics import jaccard_score\n",
    "import time\n",
    "import multiprocessing\n",
    "from pymoo.algorithms.nsga2 import calc_crowding_distance\n",
    "sys.path.append('lib/')\n",
    "import subprocess\n",
    "import logging\n",
    "from sklearn.utils import shuffle\n",
    "import csv\n",
    "from csv import reader\n",
    "import os\n",
    "from sklearn.metrics import balanced_accuracy_score, precision_score, recall_score\n",
    "from tqdm import tqdm\n",
    "\n",
    "class StoreWrapper(gym.Wrapper):\n",
    "  ''''\n",
    "  :param env: (gym.Env) Gym environment that will be wrapped\n",
    "  :param max_steps: (int) Max number of steps per episode\n",
    "  '''\n",
    "  def __init__(self, env):\n",
    "    # Call the parent constructor, so we can access self.env later\n",
    "    super(StoreWrapper, self).__init__(env)\n",
    "    self.max_steps = 200\n",
    "    # Counter of steps per episode\n",
    "    self.current_step = 0\n",
    "    self.mem = []\n",
    "    self.TotalReward = 0.0 \n",
    "    self.env = env\n",
    "    self.first_state = 0\n",
    "    self.first_obs = 0\n",
    "    self.prev_obs = 0 \n",
    "    self.states_list = []\n",
    "    self.info = {}\n",
    "  \n",
    "  def reset(self):\n",
    "    \"\"\"\n",
    "    Reset the environment \n",
    "    \"\"\"\n",
    "    # Reset the counter\n",
    "    self.current_step = 0\n",
    "    obs =self.env.reset()\n",
    "    self.TotalReward = 0.0\n",
    "    self.first_obs = obs\n",
    "    return obs\n",
    "\n",
    "  def step(self, action):\n",
    "    \"\"\"\n",
    "    In this function we store the initial state as well as the memory of the agent\n",
    "    :param action: ([float] or int) Action taken by the agent\n",
    "    :return: (np.ndarray, float, bool, dict) observation, reward, is the episode over?, additional informations\n",
    "    \"\"\"\n",
    "    if self.current_step == 0: #store initial state\n",
    "      self.prev_obs = self.first_obs\n",
    "      self.first_state = deepcopy(self.env)\n",
    "      self.states_list.append(self.first_state)\n",
    "    self.current_step += 1\n",
    "    obs, reward, done, info = self.env.step(action)\n",
    "    self.TotalReward += reward\n",
    "    self.mem.append(tuple((self.prev_obs,action)))\n",
    "    self.prev_obs = obs\n",
    "    if self.current_step >= self.max_steps:\n",
    "      done = True\n",
    "      # Update the info dict to signal that the limit was exceeded\n",
    "    if done:\n",
    "      self.mem.append(tuple(('done',self.TotalReward)))\n",
    "    self.info['mem'] = self.mem\n",
    "    self.info['state'] = self.states_list\n",
    "    # self.mem.append(tuple(obs,action))\n",
    "    return obs, reward, done, info\n",
    "\n",
    "  def set_state(self, state):\n",
    "    \"\"\"\n",
    "    :param state: initial state of the episode\n",
    "    :return: environment is updated and observations is returned\n",
    "    \"\"\"\n",
    "    self.env = deepcopy(state)\n",
    "    obs = np.array(list(self.env.unwrapped.state))\n",
    "    self.current_step = 0\n",
    "    self.TotalReward = 0.0\n",
    "    self.first_obs = obs\n",
    "    return obs\n",
    "\n",
    "def abstract_state(model,state1,d):\n",
    "  if type(state1) == str:\n",
    "    if state1 == 'done':\n",
    "      return 'end'\n",
    "  q_value1 = model.step_model.step([state1])\n",
    "  return( ceil(q_value1[1][0][0]/d), ceil(q_value1[1][0][1]/d))\n",
    "\n",
    "def abstract_state_general(model,state1,d):\n",
    "  if type(state1) == str:\n",
    "    if state1 == 'done':\n",
    "      return 'end'\n",
    "  q_values = model.step_model.step([state1])\n",
    "  return tuple([ceil(q_value/d) for q_value in q_values[1][0]])\n",
    "\n",
    "def Abstract_classes(ep,abstraction_d,model):\n",
    "  d=abstraction_d\n",
    "  abs_states1=[]\n",
    "  for episode in ep:\n",
    "    for state,action in episode:\n",
    "      abs_st = abstract_state(model,state,d)\n",
    "      if abs_st == 'end':\n",
    "        continue\n",
    "      abs_states1.append(abs_st)\n",
    "  unique1=list(set(abs_states1))\n",
    "  uni1 = np.array(unique1)\n",
    "  a=len(abs_states1)\n",
    "  b=len(set(abs_states1))\n",
    "  print(\"abstract states:\",b)\n",
    "  print(\"Concrete states\",a)\n",
    "  print(\"ratio\",b/a)\n",
    "  return unique1,uni1\n",
    "\n",
    "def is_functional_fault(episode,epsilon):\n",
    "  for state, _ in episode:\n",
    "    if type(state) == str:\n",
    "      if state == 'done':\n",
    "        return False\n",
    "    if abs(state[0]) >= (2.4-epsilon):\n",
    "      return True\n",
    "  # no functional fault is obsereved\n",
    "  return False\n",
    "\n",
    "def is_reward_fault(episode,threshold):\n",
    "  last_state = episode[-1]\n",
    "  assert last_state[0] == 'done'\n",
    "  if last_state[1] < threshold:\n",
    "    return True\n",
    "  else:\n",
    "    return False\n",
    "\n",
    "def ML_first_representation_func_based(Abs_d,functional_func,reward_func,model,input_episodes,unique1,epsilon,threshold):\n",
    "  \"\"\"\n",
    "  TO-DO : fix epsilon and threshold\n",
    "  \"\"\"\n",
    "  d = Abs_d\n",
    "  data1_x_b=[]\n",
    "  data1_y_b= [] \n",
    "  data1_y_f_b = []\n",
    "  for i, episode in enumerate(input_episodes):\n",
    "    record = np.zeros(len(unique1))\n",
    "    temp_flag = False\n",
    "    for state, action in episode:\n",
    "      ab = abstract_state(model,state,d)\n",
    "      if ab == 'end':\n",
    "        assert not temp_flag, f'Episode data problem, two terminations in one episode. Episode number{i}'\n",
    "        temp_flag = True\n",
    "        # print(action)\n",
    "        # print(functional_func(episode))\n",
    "        if functional_func(episode,epsilon):\n",
    "          data1_y_f_b.append(1)\n",
    "        else:\n",
    "          data1_y_f_b.append(0)\n",
    "        if reward_func(episode,threshold):\n",
    "          data1_y_b.append(1)\n",
    "        else:\n",
    "          data1_y_b.append(0)\n",
    "        # print(\"end\\n\\n\\n\")\n",
    "        # print(len(data1_y_b),\"len(input_episodes)\",len(input_episodes))\n",
    "        continue\n",
    "        # print(state[0])\n",
    "      ind = unique1.index(ab)\n",
    "      record[ind] = 1\n",
    "      # print(state, action)\n",
    "      assert len(data1_y_b)<len(input_episodes), \"assert\"\n",
    "      # if you want the frequency go with the next line \n",
    "      # record[ind] += 1\n",
    "    data1_x_b.append(record)\n",
    "\n",
    "  return data1_x_b, data1_y_b, data1_y_f_b\n",
    "\n",
    "\n",
    "def ML_first_representation(Abs_d,epsilon_functional_fault_boarder,model,ep,unique1):\n",
    "  d = Abs_d\n",
    "  # epsilon = 0.05\n",
    "  epsilon = epsilon_functional_fault_boarder\n",
    "  data1_x_b=[]\n",
    "  data1_y_b= [] \n",
    "  data1_y_f_b = []\n",
    "  functional_fault = False\n",
    "  reward_fault_threshold = 70\n",
    "  for episode in ep:\n",
    "    record = np.zeros(len(unique1))\n",
    "    for state, action in episode:\n",
    "      ab = abstract_state(model,state,d)\n",
    "      if ab == 'end':\n",
    "        # print(action)\n",
    "        if functional_fault:\n",
    "          data1_y_f_b.append(1)\n",
    "        else:\n",
    "          data1_y_f_b.append(0)\n",
    "        if action >= reward_fault_threshold:\n",
    "          data1_y_b.append(0)\n",
    "        else:\n",
    "          data1_y_b.append(1)\n",
    "        functional_fault=False\n",
    "        continue\n",
    "      if abs(state[0]) >= (2.4-epsilon) :\n",
    "        functional_fault = True\n",
    "      ind = unique1.index(ab)\n",
    "      # if len(w[0])>1:\n",
    "        # print('error len is greater than 1')\n",
    "      record[ind] = 1\n",
    "      # if you want the frequency go with the next line \n",
    "      # record[ind] += 1\n",
    "    data1_x_b.append(record)\n",
    "\n",
    "  return data1_x_b, data1_y_b, data1_y_f_b\n",
    "\n",
    "#report function to check the performance metrics of the model\n",
    "def report(model2,x_train, y_train,x_test, y_test):\n",
    "  print(\"********************** reporting the result of the model **************************\")\n",
    "  print('The score for train data is {0}'.format(model2.score(x_train,y_train)))\n",
    "  print('The score for test data is {0}'.format(model2.score(x_test,y_test)))\n",
    "\n",
    "\n",
    "  predictions_train = model2.predict(x_train)\n",
    "  predictions_test = model2.predict(x_test)\n",
    "\n",
    "  print(\"\\n\\n--------------------------------------recall---------------------------------\")\n",
    "\n",
    "  print('the test recall for the class yes is {0}'.format(metrics.recall_score(y_test,predictions_test, pos_label=1)))\n",
    "  print('the test recall for the class no is {0}'.format(metrics.recall_score(y_test,predictions_test, pos_label=0)))\n",
    "\n",
    "  print('the training recall for the class yes is {0}'.format(metrics.recall_score(y_train,predictions_train, pos_label=1)))\n",
    "  print('the training recall for the class no is {0}'.format(metrics.recall_score(y_train,predictions_train, pos_label=0)))\n",
    "\n",
    "\n",
    "  print(\"\\n\\n--------------------------------------precision------------------------------\")\n",
    "\n",
    "\n",
    "  print('the test precision for the class yes is {0}'.format(metrics.precision_score(y_test,predictions_test, pos_label=1)))\n",
    "  print('the test precision for the class no is {0}'.format(metrics.precision_score(y_test,predictions_test, pos_label=0)))\n",
    "\n",
    "  print('the training precision for the class yes is {0}'.format(metrics.precision_score(y_train,predictions_train, pos_label=1)))\n",
    "  print('the training precision for the class no is {0}'.format(metrics.precision_score(y_train,predictions_train, pos_label=0)))\n",
    "\n",
    "  print(\"\\n\\n\")\n",
    "  print(classification_report(y_test, predictions_test, target_names=['NO ','yes']))\n",
    "\n",
    "  tn, fp, fn, tp = confusion_matrix(y_test, predictions_test).ravel()\n",
    "  specificity = tn / (tn+fp)\n",
    "  print(\"\\n\\nspecifity :\",specificity)\n",
    "  print(\"\\n\\n--------------------------------------confusion----------------------------\")\n",
    "  CM = metrics.confusion_matrix(y_test, predictions_test)\n",
    "  print(\"The confusion Matrix:\")\n",
    "  print(CM)\n",
    "  print('the accuracy score in {0}\\n\\n'.format(accuracy_score(y_test, predictions_test)))\n",
    "  print(\"********************** plotting the confusion matrix & ROC curve **************************\")\n",
    "  plot_confusion_matrix(model2, x_test, y_test) #type: ignore\n",
    "  metrics.plot_roc_curve(model2, x_test, y_test)  #type: ignore\n",
    "  plt.show()\n",
    "\n",
    "\n",
    "\n",
    "def random_test_2(model, env, Num):\n",
    "  obs=env.reset()\n",
    "  counter = 1\n",
    "  episode_reward = 0.0\n",
    "  end =-1\n",
    "  lastpoint = -1\n",
    "  for i in range(Num):\n",
    "    action, _ = model.predict(obs, deterministic=True)\n",
    "    obs, reward, done, info = env.step(action)\n",
    "    episode_reward += reward\n",
    "    if done:\n",
    "      counter += 1\n",
    "      end = i\n",
    "      episode_reward = 0.0\n",
    "      obs = env.reset()\n",
    "  iter = deepcopy(counter)\n",
    "  u=1\n",
    "  while iter>1:\n",
    "    if env.info['mem'][-u][0]=='done': \n",
    "      lastpoint = -u\n",
    "      iter -= 1\n",
    "    u+=1\n",
    "  assert lastpoint != -1\n",
    "  assert end != -1\n",
    "  fin =Num - end\n",
    "  start = -Num -counter\n",
    "  randomtest = env.info['mem'][lastpoint:-fin] \n",
    "  ran_state = env.info['state'][(-counter+1):-1] \n",
    "  return randomtest , ran_state\n",
    "\n",
    "def fix_testing(testing_episodes,testing_states,Env2):\n",
    "  # TO DO: fix data typr for if condition change to nparray\n",
    "  buffer =[] \n",
    "  episodes_set = []\n",
    "  j=0\n",
    "  for i in range(len(testing_episodes)):\n",
    "    if testing_episodes[i][0] == 'done':\n",
    "      if i == 0:\n",
    "        continue\n",
    "      buffer.append(testing_episodes[i])\n",
    "      episodes_set.append(buffer)\n",
    "      buffer=[]\n",
    "    else:\n",
    "      buffer.append(testing_episodes[i])\n",
    "  if not (np.array(episodes_set[0][0][0])== np.array(Env2.set_state(testing_states[0]),dtype=\"float32\")).all():\n",
    "    del testing_states[0]\n",
    "  if not (np.array(episodes_set[0][0][0])==np.array(Env2.set_state(testing_states[0]),dtype=\"float32\")).all():\n",
    "    assert False, 'problem in starting states'\n",
    "  if len(episodes_set)!=len(testing_states):\n",
    "    del testing_states[-1]\n",
    "  if len(episodes_set)!=len(testing_states):\n",
    "    assert False, 'problem in data prepration'\n",
    "  return episodes_set , testing_states\n",
    "\n",
    "\n",
    "\n"
   ]
  },
  {
   "cell_type": "code",
   "execution_count": 3,
   "metadata": {},
   "outputs": [
    {
     "name": "stdout",
     "output_type": "stream",
     "text": [
      "Loading a model without an environment, this model cannot be trained until it has a valid environment.\n"
     ]
    }
   ],
   "source": [
    "#Address of the trained RL model \n",
    "Dataset_path = \"Path to the dataset\"\n",
    "\n",
    "Drive_model  =f\"{Dataset_path}/Trained_agent/dqn-168.pkl\"\n",
    "\n",
    "\n",
    "env2 = gym.make('CartPole-v1')\n",
    "env2 = StoreWrapper(env2)\n",
    "model = DQN('MlpPolicy',env=env2, verbose=1)\n",
    "model = model.load(Drive_model)\n",
    "#########################################################  Read DATA and Load Model #############\n"
   ]
  },
  {
   "attachments": {},
   "cell_type": "markdown",
   "metadata": {},
   "source": [
    "# generate training data"
   ]
  },
  {
   "cell_type": "code",
   "execution_count": 10,
   "metadata": {},
   "outputs": [
    {
     "name": "stderr",
     "output_type": "stream",
     "text": [
      "c:\\Users\\Student\\Desktop\\vs_git\\.virtualenvs\\venv\\lib\\site-packages\\ipykernel_launcher.py:317: FutureWarning: elementwise comparison failed; returning scalar instead, but in the future will perform elementwise comparison\n",
      "c:\\Users\\Student\\Desktop\\vs_git\\.virtualenvs\\venv\\lib\\site-packages\\ipykernel_launcher.py:335: FutureWarning: elementwise comparison failed; returning scalar instead, but in the future will perform elementwise comparison\n"
     ]
    },
    {
     "name": "stdout",
     "output_type": "stream",
     "text": [
      "Reward fault rate: 0.0\n",
      "Functional fault rate: 0.09772727272727273\n",
      "Average Reward: 193.16454545454545\n",
      "Average Lenght: 193.16454545454545\n",
      "Number of episodes: 2200\n",
      "Number of functional faulty episodes: 215\n"
     ]
    }
   ],
   "source": [
    "EPSILON = 0.05\n",
    "THRESHOLD = 70\n",
    "TRAINING_SIZE = 2200\n",
    "\n",
    "RT,RTS = random_test_2(model,env2,500_000)\n",
    "FRT,FRTS = fix_testing(RT,RTS,env2)\n",
    "\n",
    "if len(FRT) < TRAINING_SIZE:\n",
    "    assert False, \"Not enough data for training increase the number of random test\"\n",
    "else:\n",
    "    FRT = FRT[:TRAINING_SIZE]\n",
    "    FRTS = FRTS[:TRAINING_SIZE]\n",
    "\n",
    "\n",
    "RF=0\n",
    "FF=0\n",
    "Buff_reward = 0\n",
    "Buff_len = 0\n",
    "for test_episode in FRT:\n",
    "    Buff_reward += test_episode[-1][1]\n",
    "    Buff_len += (len(test_episode)-1)\n",
    "    if is_functional_fault(test_episode,EPSILON):\n",
    "        FF+=1\n",
    "    if is_reward_fault(test_episode,THRESHOLD):\n",
    "        RF+=1\n",
    "\n",
    "\n",
    "Functional_Fault_rate = FF/len(FRT)\n",
    "Reward_Fault_rate = RF/len(FRT)\n",
    "print(\"Reward fault rate:\",Reward_Fault_rate)\n",
    "print(\"Functional fault rate:\",Functional_Fault_rate)\n",
    "print(\"Average Reward:\",Buff_reward/len(FRT))\n",
    "print(\"Average Lenght:\",Buff_len/len(FRT))\n",
    "print(\"Number of episodes:\",len(FRT))\n",
    "print(\"Number of functional faulty episodes:\",FF)"
   ]
  },
  {
   "cell_type": "code",
   "execution_count": 15,
   "metadata": {},
   "outputs": [],
   "source": [
    "#save frt:random episodes and frts:initial state of random episodes as pickle file\n",
    "\n",
    "with open('Data_final/Random_episodes/FRT_68_training.pkl', 'wb') as f:\n",
    "    pickle.dump(FRT, f)\n",
    "with open('Data_final/Random_episodes/FRTS_68_training.pkl', 'wb') as f:\n",
    "    pickle.dump(FRTS, f)\n"
   ]
  },
  {
   "attachments": {},
   "cell_type": "markdown",
   "metadata": {},
   "source": [
    "# Testing Data Generation"
   ]
  },
  {
   "cell_type": "code",
   "execution_count": 20,
   "metadata": {},
   "outputs": [
    {
     "name": "stderr",
     "output_type": "stream",
     "text": [
      "c:\\Users\\Student\\Desktop\\vs_git\\.virtualenvs\\venv\\lib\\site-packages\\ipykernel_launcher.py:317: FutureWarning: elementwise comparison failed; returning scalar instead, but in the future will perform elementwise comparison\n",
      "c:\\Users\\Student\\Desktop\\vs_git\\.virtualenvs\\venv\\lib\\site-packages\\ipykernel_launcher.py:335: FutureWarning: elementwise comparison failed; returning scalar instead, but in the future will perform elementwise comparison\n"
     ]
    },
    {
     "name": "stdout",
     "output_type": "stream",
     "text": [
      "Reward fault rate: 0.0\n",
      "Functional fault rate: 0.099\n",
      "Average Reward: 192.99\n",
      "Average Lenght: 192.99\n",
      "Number of episodes: 1000\n",
      "Number of functional faults: 99\n"
     ]
    }
   ],
   "source": [
    "EPSILON = 0.05\n",
    "THRESHOLD = 70\n",
    "TEST_SIZE = 1000\n",
    "\n",
    "RT,RTS = random_test_2(model,env2,200_000)\n",
    "FRT,FRTS = fix_testing(RT,RTS,env2)\n",
    "\n",
    "if len(FRT) < TEST_SIZE:\n",
    "    assert False, \"Not enough data for training increase the number of random test\"\n",
    "else:\n",
    "    FRT = FRT[:TEST_SIZE]\n",
    "    FRTS = FRTS[:TEST_SIZE]\n",
    "\n",
    "\n",
    "RF=0\n",
    "FF=0\n",
    "Buff_reward = 0\n",
    "Buff_len = 0\n",
    "for test_episode in FRT:\n",
    "    Buff_reward += test_episode[-1][1]\n",
    "    Buff_len += (len(test_episode)-1)\n",
    "    if is_functional_fault(test_episode,EPSILON):\n",
    "        FF+=1\n",
    "    if is_reward_fault(test_episode,THRESHOLD):\n",
    "        RF+=1\n",
    "\n",
    "\n",
    "Functional_Fault_rate = FF/len(FRT)\n",
    "Reward_Fault_rate = RF/len(FRT)\n",
    "print(\"Reward fault rate:\",Reward_Fault_rate)\n",
    "print(\"Functional fault rate:\",Functional_Fault_rate)\n",
    "print(\"Average Reward:\",Buff_reward/len(FRT))\n",
    "print(\"Average Lenght:\",Buff_len/len(FRT))\n",
    "print(\"Number of episodes:\",len(FRT))\n",
    "print(\"Number of functional faults:\",FF)\n",
    "#save frt and frts as pickle file\n",
    "\n",
    "with open('Data_final/Random_episodes/FRT_test_68.pkl', 'wb') as f:\n",
    "    pickle.dump(FRT, f)\n",
    "with open('Data_final/Random_episodes/FRTS_test_68.pkl', 'wb') as f:\n",
    "    pickle.dump(FRTS, f)\n"
   ]
  },
  {
   "cell_type": "code",
   "execution_count": null,
   "metadata": {},
   "outputs": [
    {
     "name": "stdout",
     "output_type": "stream",
     "text": [
      "Reward fault rate: 0.0\n",
      "Functional fault rate: 0.099\n",
      "Average Reward: 192.99\n",
      "Average Lenght: 192.99\n",
      "Number of episodes: 1000\n",
      "Number of functional faults: 99\n",
      "Number of reward faults: 0\n",
      "Min length: 118\n"
     ]
    }
   ],
   "source": [
    "##Extracting test dataset stats, specially minimum length of episodes\n",
    "\n",
    "EPSILON = 0.05\n",
    "THRESHOLD = 70\n",
    "\n",
    "with open(f'C:/Users/Student/Desktop/vs_git/HazardDetection/Final/Data_final/Random_episodes/FRT_test_68.pkl', 'rb') as file2:\n",
    "    FRT = pickle.load(file2)\n",
    "\n",
    "RF=0\n",
    "FF=0\n",
    "Buff_reward = 0\n",
    "Buff_len = 0\n",
    "min_len = 1000\n",
    "\n",
    "for test_episode in FRT:\n",
    "    Buff_reward += test_episode[-1][1]\n",
    "    Buff_len += (len(test_episode)-1)\n",
    "    min_len = min(min_len,len(test_episode)-1)\n",
    "    if is_functional_fault(test_episode,EPSILON):\n",
    "        FF+=1\n",
    "    if is_reward_fault(test_episode,THRESHOLD):\n",
    "        RF+=1\n",
    "\n",
    "\n",
    "Functional_Fault_rate = FF/len(FRT)\n",
    "Reward_Fault_rate = RF/len(FRT)\n",
    "print(\"Reward fault rate:\",Reward_Fault_rate)\n",
    "print(\"Functional fault rate:\",Functional_Fault_rate)\n",
    "print(\"Average Reward:\",Buff_reward/len(FRT))\n",
    "print(\"Average Lenght:\",Buff_len/len(FRT))\n",
    "print(\"Number of episodes:\",len(FRT))\n",
    "print(\"Number of functional faults:\",FF)\n",
    "print(\"Number of reward faults:\",RF)\n",
    "print(\"Min length:\",min_len)\n",
    "\n",
    "\n"
   ]
  },
  {
   "cell_type": "markdown",
   "metadata": {},
   "source": [
    "# Functions"
   ]
  },
  {
   "cell_type": "code",
   "execution_count": null,
   "metadata": {},
   "outputs": [],
   "source": [
    "def translator(episode,model, d, unique5):\n",
    "  \"\"\"\n",
    "  this function takes the concrete episodes and returns the encoded episodes \n",
    "  based on the presence and absence of the individuals  \n",
    "  :param 'episode': input episode\n",
    "  :param 'model': RL model\n",
    "  :param 'd': abstraction level = 1\n",
    "  :param 'unique5': abstract classes \n",
    "  :return: encoded episodse based on the presence and absence\n",
    "\n",
    "  \"\"\"\n",
    "  d=d\n",
    "  record = np.zeros(len(unique5))\n",
    "  for state, action in episode:\n",
    "    ab = abstract_state(model,state,d)\n",
    "    if ab == 'end':\n",
    "      continue\n",
    "    if ab in unique5:\n",
    "      ind = unique5.index(ab)\n",
    "      record[ind] = 1\n",
    "  return [record]\n",
    "\n",
    "def episode_player(episodes,d, abs_classes, model, monitor) -> list:\n",
    "  ''' This function replays the episodes and returns the risk of each step in each episode\n",
    "  :param 'episodes': input episodes\n",
    "  :param 'd': abstraction level \n",
    "  :param 'abs_classes': abstract classes\n",
    "  :param 'model': RL model\n",
    "  :param 'monitor': ML model\n",
    "  :return: risk of each step in each episode\n",
    "  \n",
    "  '''\n",
    "  episodes_risk=[]\n",
    "  for episode in episodes:\n",
    "    risk_array=[]\n",
    "    for step in range(len(episode)-1):\n",
    "      monitoring_data = translator(episode[:step],model,d,abs_classes)\n",
    "      Risk = monitor.predict_proba(monitoring_data)\n",
    "      risk_array.append(Risk[0][1])\n",
    "    episodes_risk.append(risk_array)\n",
    "  return episodes_risk\n",
    "\n",
    "def single_episode_player(episode,d, abs_classes, model, monitor) -> list:\n",
    "  ''' This function replays one episodes and returns the risk of each step in episode\n",
    "  :param 'episode': input episode\n",
    "  :param 'd': abstraction level\n",
    "  :param 'abs_classes': abstract classes\n",
    "  :param 'model': RL model\n",
    "  :param 'monitor': ML model\n",
    "  :return: risk of each step in episode\n",
    "  '''\n",
    "  risk_array=[]\n",
    "  for step in range(len(episode)-1):\n",
    "    monitoring_data = translator(episode[:step],model,d,abs_classes)\n",
    "    Risk = monitor.predict_proba(monitoring_data)\n",
    "    risk_array.append(Risk[0][1])\n",
    "  return risk_array\n",
    "\n",
    "\n",
    "def position_extractor(episode):\n",
    "    position =[]\n",
    "    for i in range(len(episode)-1):\n",
    "        position.append(episode[i][0][0])\n",
    "    return position\n",
    "    \n",
    "def velocity_extractor(episode):\n",
    "    velocity =[]\n",
    "    for i in range(len(episode)-1):\n",
    "        velocity.append(episode[i][0][1])\n",
    "    return velocity\n",
    "def angle_extractor(episode):\n",
    "    angle =[]\n",
    "    for i in range(len(episode)-1):\n",
    "        angle.append(episode[i][0][2])\n",
    "    return angle\n",
    "def angular_v_extractor(episode):\n",
    "    angular_v =[]\n",
    "    for i in range(len(episode)-1):\n",
    "        angular_v.append(episode[i][0][3])\n",
    "    return angular_v\n",
    "\n",
    "\n",
    "\n",
    "def Plot_all(data,abstraction_level,unique1,RL_model,Monitor,save=False,show=True,data_chunk=0,path='C:/Users/Student/Desktop/vs_git/HazardDetection/CartPole/Plots_CartPole'):\n",
    "    '''plot risk and position snd velocity in one figure with 3 subplots\n",
    "    '''\n",
    "    ## TODO: write a function to return the setteings of the environment and the model\n",
    "\n",
    "    fig, axs = plt.subplots(5,figsize=(20, 18))\n",
    "    for i in range(len(data)):\n",
    "        axs[0].plot([i for i in range(len(data[i])-1)], single_episode_player(data[i],abstraction_level,unique1,RL_model,Monitor), label = f\"Episode {i}\")\n",
    "        axs[1].plot([i for i in range(len(data[i])-1)], position_extractor(data[i]), label = f\"Episode {i}\")\n",
    "        axs[2].plot([i for i in range(len(data[i])-1)], velocity_extractor(data[i]), label = f\"Episode {i}\")\n",
    "        axs[3].plot([i for i in range(len(data[i])-1)], angle_extractor(data[i]), label = f\"Episode {i}\")\n",
    "        axs[4].plot([i for i in range(len(data[i])-1)], angular_v_extractor(data[i]) ,label = f\"Episode {i}\")\n",
    "    axs[0].legend()\n",
    "    #plot title and labels\n",
    "    axs[0].set_title('Risk')\n",
    "    axs[1].legend()\n",
    "    axs[1].set_title('Position')\n",
    "    axs[2].set_title('Velocity')\n",
    "    axs[3].set_title('Angle')\n",
    "    axs[4].set_title('Angular Velocity')\n",
    "    axs[2].legend()\n",
    "    axs[3].legend()\n",
    "    axs[4].legend()\n",
    "    #set range of y axis\n",
    "    axs[0].set_ylim(-0.1, 1.1)\n",
    "    \n",
    "    current_time = datetime.now()\n",
    "    ID = current_time.strftime(\"%Y%m%d%H%M%S\")\n",
    "    if save:\n",
    "        fig.savefig(f'{path}/RPVAA2_C{data_chunk}_{ID}.png')\n",
    "    #close the plot\n",
    "    plt.close()\n",
    "\n",
    "def translate_episode_steps(episode,HD_model,translator,d,abs_classes):\n",
    "    translated_episode = []\n",
    "    for i in range(len(episode)-1):\n",
    "        translated_episode.append(translator(episode[:i],HD_model,d,abs_classes))\n",
    "    return translated_episode\n",
    "\n",
    "def translate_multiple_episodes_steps(episodes,HD_model,translator,d,abs_classes):\n",
    "    translated_episodes = []\n",
    "    for episode in episodes:\n",
    "        translated_buffer = []\n",
    "        for i in range(len(episode)-1):\n",
    "            translated_buffer.append(translator(episode[:i],HD_model,d,abs_classes))\n",
    "        translated_episodes.append(translated_buffer)\n",
    "    return translated_episodes\n"
   ]
  },
  {
   "cell_type": "code",
   "execution_count": 22,
   "metadata": {},
   "outputs": [
    {
     "name": "stdout",
     "output_type": "stream",
     "text": [
      "Loading a model without an environment, this model cannot be trained until it has a valid environment.\n",
      "Number of episodes: 2200\n",
      "\n",
      "\n",
      "\n",
      "#########################################\n",
      "Abstraction level: 5\n",
      "abstract states: 32\n",
      "Concrete states 424962\n",
      "ratio 7.530085042897953e-05\n",
      "********************** reporting the result of the model **************************\n",
      "The score for train data is 0.9324675324675324\n",
      "The score for test data is 0.9136363636363637\n",
      "\n",
      "\n",
      "--------------------------------------recall---------------------------------\n",
      "the test recall for the class yes is 0.7631578947368421\n",
      "the test recall for the class no is 0.9332191780821918\n",
      "the training recall for the class yes is 0.8489208633093526\n",
      "the training recall for the class no is 0.940756602426838\n",
      "\n",
      "\n",
      "--------------------------------------precision------------------------------\n",
      "the test precision for the class yes is 0.5979381443298969\n",
      "the test precision for the class no is 0.9680284191829485\n",
      "the training precision for the class yes is 0.5870646766169154\n",
      "the training precision for the class no is 0.9843166542195668\n",
      "\n",
      "\n",
      "\n",
      "              precision    recall  f1-score   support\n",
      "\n",
      "         NO        0.97      0.93      0.95       584\n",
      "         yes       0.60      0.76      0.67        76\n",
      "\n",
      "    accuracy                           0.91       660\n",
      "   macro avg       0.78      0.85      0.81       660\n",
      "weighted avg       0.93      0.91      0.92       660\n",
      "\n",
      "\n",
      "\n",
      "specifity : 0.9332191780821918\n",
      "\n",
      "\n",
      "--------------------------------------confusion----------------------------\n",
      "The confusion Matrix:\n",
      "[[545  39]\n",
      " [ 18  58]]\n",
      "the accuracy score in 0.9136363636363637\n",
      "\n",
      "\n",
      "********************** plotting the confusion matrix & ROC curve **************************\n"
     ]
    },
    {
     "name": "stderr",
     "output_type": "stream",
     "text": [
      "c:\\Users\\Student\\Desktop\\vs_git\\.virtualenvs\\venv\\lib\\site-packages\\sklearn\\utils\\deprecation.py:87: FutureWarning: Function plot_confusion_matrix is deprecated; Function `plot_confusion_matrix` is deprecated in 1.0 and will be removed in 1.2. Use one of the class methods: ConfusionMatrixDisplay.from_predictions or ConfusionMatrixDisplay.from_estimator.\n",
      "  warnings.warn(msg, category=FutureWarning)\n",
      "c:\\Users\\Student\\Desktop\\vs_git\\.virtualenvs\\venv\\lib\\site-packages\\sklearn\\utils\\deprecation.py:87: FutureWarning: Function plot_roc_curve is deprecated; Function `plot_roc_curve` is deprecated in 1.0 and will be removed in 1.2. Use one of the class methods: RocCurveDisplay.from_predictions or RocCurveDisplay.from_estimator.\n",
      "  warnings.warn(msg, category=FutureWarning)\n"
     ]
    },
    {
     "data": {
      "image/png": "[encoded data removed]",
      "text/plain": [
       "<Figure size 432x288 with 2 Axes>"
      ]
     },
     "metadata": {
      "needs_background": "light"
     },
     "output_type": "display_data"
    },
    {
     "data": {
      "image/png": "[encoded data removed]",
      "text/plain": [
       "<Figure size 432x288 with 1 Axes>"
      ]
     },
     "metadata": {
      "needs_background": "light"
     },
     "output_type": "display_data"
    },
    {
     "name": "stdout",
     "output_type": "stream",
     "text": [
      "Number of test episodes: 1000\n"
     ]
    },
    {
     "name": "stderr",
     "output_type": "stream",
     "text": [
      "Plotting: 100%|██████████| 20/20 [24:46<00:00, 74.31s/it]\n"
     ]
    },
    {
     "name": "stdout",
     "output_type": "stream",
     "text": [
      "\n",
      "\n",
      "\n",
      "#########################################\n",
      "Abstraction level: 4\n",
      "abstract states: 34\n",
      "Concrete states 424962\n",
      "ratio 8.000715358079075e-05\n",
      "********************** reporting the result of the model **************************\n",
      "The score for train data is 0.8779220779220779\n",
      "The score for test data is 0.8848484848484849\n",
      "\n",
      "\n",
      "--------------------------------------recall---------------------------------\n",
      "the test recall for the class yes is 0.9342105263157895\n",
      "the test recall for the class no is 0.8784246575342466\n",
      "the training recall for the class yes is 0.920863309352518\n",
      "the training recall for the class no is 0.8736616702355461\n",
      "\n",
      "\n",
      "--------------------------------------precision------------------------------\n",
      "the test precision for the class yes is 0.5\n",
      "the test precision for the class no is 0.9903474903474904\n",
      "the training precision for the class yes is 0.419672131147541\n",
      "the training precision for the class no is 0.9910931174089069\n",
      "\n",
      "\n",
      "\n",
      "              precision    recall  f1-score   support\n",
      "\n",
      "         NO        0.99      0.88      0.93       584\n",
      "         yes       0.50      0.93      0.65        76\n",
      "\n",
      "    accuracy                           0.88       660\n",
      "   macro avg       0.75      0.91      0.79       660\n",
      "weighted avg       0.93      0.88      0.90       660\n",
      "\n",
      "\n",
      "\n",
      "specifity : 0.8784246575342466\n",
      "\n",
      "\n",
      "--------------------------------------confusion----------------------------\n",
      "The confusion Matrix:\n",
      "[[513  71]\n",
      " [  5  71]]\n",
      "the accuracy score in 0.8848484848484849\n",
      "\n",
      "\n",
      "********************** plotting the confusion matrix & ROC curve **************************\n"
     ]
    },
    {
     "name": "stderr",
     "output_type": "stream",
     "text": [
      "c:\\Users\\Student\\Desktop\\vs_git\\.virtualenvs\\venv\\lib\\site-packages\\sklearn\\utils\\deprecation.py:87: FutureWarning: Function plot_confusion_matrix is deprecated; Function `plot_confusion_matrix` is deprecated in 1.0 and will be removed in 1.2. Use one of the class methods: ConfusionMatrixDisplay.from_predictions or ConfusionMatrixDisplay.from_estimator.\n",
      "  warnings.warn(msg, category=FutureWarning)\n",
      "c:\\Users\\Student\\Desktop\\vs_git\\.virtualenvs\\venv\\lib\\site-packages\\sklearn\\utils\\deprecation.py:87: FutureWarning: Function plot_roc_curve is deprecated; Function `plot_roc_curve` is deprecated in 1.0 and will be removed in 1.2. Use one of the class methods: RocCurveDisplay.from_predictions or RocCurveDisplay.from_estimator.\n",
      "  warnings.warn(msg, category=FutureWarning)\n"
     ]
    },
    {
     "data": {
      "image/png": "[encoded data removed]",
      "text/plain": [
       "<Figure size 432x288 with 2 Axes>"
      ]
     },
     "metadata": {
      "needs_background": "light"
     },
     "output_type": "display_data"
    },
    {
     "data": {
      "image/png": "[encoded data removed]",
      "text/plain": [
       "<Figure size 432x288 with 1 Axes>"
      ]
     },
     "metadata": {
      "needs_background": "light"
     },
     "output_type": "display_data"
    },
    {
     "name": "stdout",
     "output_type": "stream",
     "text": [
      "Number of test episodes: 1000\n"
     ]
    },
    {
     "name": "stderr",
     "output_type": "stream",
     "text": [
      "Plotting: 100%|██████████| 20/20 [25:27<00:00, 76.36s/it]\n"
     ]
    },
    {
     "name": "stdout",
     "output_type": "stream",
     "text": [
      "\n",
      "\n",
      "\n",
      "#########################################\n",
      "Abstraction level: 3\n",
      "abstract states: 43\n",
      "Concrete states 424962\n",
      "ratio 0.00010118551776394125\n",
      "********************** reporting the result of the model **************************\n",
      "The score for train data is 0.8064935064935065\n",
      "The score for test data is 0.7575757575757576\n",
      "\n",
      "\n",
      "--------------------------------------recall---------------------------------\n",
      "the test recall for the class yes is 0.8289473684210527\n",
      "the test recall for the class no is 0.7482876712328768\n",
      "the training recall for the class yes is 0.9280575539568345\n",
      "the training recall for the class no is 0.7944325481798715\n",
      "\n",
      "\n",
      "--------------------------------------precision------------------------------\n",
      "the test precision for the class yes is 0.3\n",
      "the test precision for the class no is 0.9711111111111111\n",
      "the training precision for the class yes is 0.30935251798561153\n",
      "the training precision for the class no is 0.9910952804986642\n",
      "\n",
      "\n",
      "\n",
      "              precision    recall  f1-score   support\n",
      "\n",
      "         NO        0.97      0.75      0.85       584\n",
      "         yes       0.30      0.83      0.44        76\n",
      "\n",
      "    accuracy                           0.76       660\n",
      "   macro avg       0.64      0.79      0.64       660\n",
      "weighted avg       0.89      0.76      0.80       660\n",
      "\n",
      "\n",
      "\n",
      "specifity : 0.7482876712328768\n",
      "\n",
      "\n",
      "--------------------------------------confusion----------------------------\n",
      "The confusion Matrix:\n",
      "[[437 147]\n",
      " [ 13  63]]\n",
      "the accuracy score in 0.7575757575757576\n",
      "\n",
      "\n",
      "********************** plotting the confusion matrix & ROC curve **************************\n"
     ]
    },
    {
     "name": "stderr",
     "output_type": "stream",
     "text": [
      "c:\\Users\\Student\\Desktop\\vs_git\\.virtualenvs\\venv\\lib\\site-packages\\sklearn\\utils\\deprecation.py:87: FutureWarning: Function plot_confusion_matrix is deprecated; Function `plot_confusion_matrix` is deprecated in 1.0 and will be removed in 1.2. Use one of the class methods: ConfusionMatrixDisplay.from_predictions or ConfusionMatrixDisplay.from_estimator.\n",
      "  warnings.warn(msg, category=FutureWarning)\n",
      "c:\\Users\\Student\\Desktop\\vs_git\\.virtualenvs\\venv\\lib\\site-packages\\sklearn\\utils\\deprecation.py:87: FutureWarning: Function plot_roc_curve is deprecated; Function `plot_roc_curve` is deprecated in 1.0 and will be removed in 1.2. Use one of the class methods: RocCurveDisplay.from_predictions or RocCurveDisplay.from_estimator.\n",
      "  warnings.warn(msg, category=FutureWarning)\n"
     ]
    },
    {
     "data": {
      "image/png": "[encoded data removed]",
      "text/plain": [
       "<Figure size 432x288 with 2 Axes>"
      ]
     },
     "metadata": {
      "needs_background": "light"
     },
     "output_type": "display_data"
    },
    {
     "data": {
      "image/png": "[encoded data removed]",
      "text/plain": [
       "<Figure size 432x288 with 1 Axes>"
      ]
     },
     "metadata": {
      "needs_background": "light"
     },
     "output_type": "display_data"
    },
    {
     "name": "stdout",
     "output_type": "stream",
     "text": [
      "Number of test episodes: 1000\n"
     ]
    },
    {
     "name": "stderr",
     "output_type": "stream",
     "text": [
      "Plotting: 100%|██████████| 20/20 [26:05<00:00, 78.26s/it]\n"
     ]
    },
    {
     "name": "stdout",
     "output_type": "stream",
     "text": [
      "\n",
      "\n",
      "\n",
      "#########################################\n",
      "Abstraction level: 2\n",
      "abstract states: 67\n",
      "Concrete states 424962\n",
      "ratio 0.0001576611555856759\n",
      "********************** reporting the result of the model **************************\n",
      "The score for train data is 0.9701298701298702\n",
      "The score for test data is 0.9318181818181818\n",
      "\n",
      "\n",
      "--------------------------------------recall---------------------------------\n",
      "the test recall for the class yes is 0.7105263157894737\n",
      "the test recall for the class no is 0.9606164383561644\n",
      "the training recall for the class yes is 0.9424460431654677\n",
      "the training recall for the class no is 0.9728765167737331\n",
      "\n",
      "\n",
      "--------------------------------------precision------------------------------\n",
      "the test precision for the class yes is 0.7012987012987013\n",
      "the test precision for the class no is 0.9622641509433962\n",
      "the training precision for the class yes is 0.7751479289940828\n",
      "the training precision for the class no is 0.9941648431801605\n",
      "\n",
      "\n",
      "\n",
      "              precision    recall  f1-score   support\n",
      "\n",
      "         NO        0.96      0.96      0.96       584\n",
      "         yes       0.70      0.71      0.71        76\n",
      "\n",
      "    accuracy                           0.93       660\n",
      "   macro avg       0.83      0.84      0.83       660\n",
      "weighted avg       0.93      0.93      0.93       660\n",
      "\n",
      "\n",
      "\n",
      "specifity : 0.9606164383561644\n",
      "\n",
      "\n",
      "--------------------------------------confusion----------------------------\n",
      "The confusion Matrix:\n",
      "[[561  23]\n",
      " [ 22  54]]\n",
      "the accuracy score in 0.9318181818181818\n",
      "\n",
      "\n",
      "********************** plotting the confusion matrix & ROC curve **************************\n"
     ]
    },
    {
     "name": "stderr",
     "output_type": "stream",
     "text": [
      "c:\\Users\\Student\\Desktop\\vs_git\\.virtualenvs\\venv\\lib\\site-packages\\sklearn\\utils\\deprecation.py:87: FutureWarning: Function plot_confusion_matrix is deprecated; Function `plot_confusion_matrix` is deprecated in 1.0 and will be removed in 1.2. Use one of the class methods: ConfusionMatrixDisplay.from_predictions or ConfusionMatrixDisplay.from_estimator.\n",
      "  warnings.warn(msg, category=FutureWarning)\n",
      "c:\\Users\\Student\\Desktop\\vs_git\\.virtualenvs\\venv\\lib\\site-packages\\sklearn\\utils\\deprecation.py:87: FutureWarning: Function plot_roc_curve is deprecated; Function `plot_roc_curve` is deprecated in 1.0 and will be removed in 1.2. Use one of the class methods: RocCurveDisplay.from_predictions or RocCurveDisplay.from_estimator.\n",
      "  warnings.warn(msg, category=FutureWarning)\n"
     ]
    },
    {
     "data": {
      "image/png": "[encoded data removed]",
      "text/plain": [
       "<Figure size 432x288 with 2 Axes>"
      ]
     },
     "metadata": {
      "needs_background": "light"
     },
     "output_type": "display_data"
    },
    {
     "data": {
      "image/png": "[encoded data removed]",
      "text/plain": [
       "<Figure size 432x288 with 1 Axes>"
      ]
     },
     "metadata": {
      "needs_background": "light"
     },
     "output_type": "display_data"
    },
    {
     "name": "stdout",
     "output_type": "stream",
     "text": [
      "Number of test episodes: 1000\n"
     ]
    },
    {
     "name": "stderr",
     "output_type": "stream",
     "text": [
      "Plotting: 100%|██████████| 20/20 [24:23<00:00, 73.15s/it]\n"
     ]
    },
    {
     "name": "stdout",
     "output_type": "stream",
     "text": [
      "\n",
      "\n",
      "\n",
      "#########################################\n",
      "Abstraction level: 1.5\n",
      "abstract states: 82\n",
      "Concrete states 424962\n",
      "ratio 0.00019295842922426005\n",
      "********************** reporting the result of the model **************************\n",
      "The score for train data is 0.9844155844155844\n",
      "The score for test data is 0.9333333333333333\n",
      "\n",
      "\n",
      "--------------------------------------recall---------------------------------\n",
      "the test recall for the class yes is 0.7368421052631579\n",
      "the test recall for the class no is 0.958904109589041\n",
      "the training recall for the class yes is 0.9856115107913669\n",
      "the training recall for the class no is 0.9842969307637401\n",
      "\n",
      "\n",
      "--------------------------------------precision------------------------------\n",
      "the test precision for the class yes is 0.7\n",
      "the test precision for the class no is 0.9655172413793104\n",
      "the training precision for the class yes is 0.8616352201257862\n",
      "the training precision for the class no is 0.998551774076756\n",
      "\n",
      "\n",
      "\n",
      "              precision    recall  f1-score   support\n",
      "\n",
      "         NO        0.97      0.96      0.96       584\n",
      "         yes       0.70      0.74      0.72        76\n",
      "\n",
      "    accuracy                           0.93       660\n",
      "   macro avg       0.83      0.85      0.84       660\n",
      "weighted avg       0.93      0.93      0.93       660\n",
      "\n",
      "\n",
      "\n",
      "specifity : 0.958904109589041\n",
      "\n",
      "\n",
      "--------------------------------------confusion----------------------------\n",
      "The confusion Matrix:\n",
      "[[560  24]\n",
      " [ 20  56]]\n",
      "the accuracy score in 0.9333333333333333\n",
      "\n",
      "\n",
      "********************** plotting the confusion matrix & ROC curve **************************\n"
     ]
    },
    {
     "name": "stderr",
     "output_type": "stream",
     "text": [
      "c:\\Users\\Student\\Desktop\\vs_git\\.virtualenvs\\venv\\lib\\site-packages\\sklearn\\utils\\deprecation.py:87: FutureWarning: Function plot_confusion_matrix is deprecated; Function `plot_confusion_matrix` is deprecated in 1.0 and will be removed in 1.2. Use one of the class methods: ConfusionMatrixDisplay.from_predictions or ConfusionMatrixDisplay.from_estimator.\n",
      "  warnings.warn(msg, category=FutureWarning)\n",
      "c:\\Users\\Student\\Desktop\\vs_git\\.virtualenvs\\venv\\lib\\site-packages\\sklearn\\utils\\deprecation.py:87: FutureWarning: Function plot_roc_curve is deprecated; Function `plot_roc_curve` is deprecated in 1.0 and will be removed in 1.2. Use one of the class methods: RocCurveDisplay.from_predictions or RocCurveDisplay.from_estimator.\n",
      "  warnings.warn(msg, category=FutureWarning)\n"
     ]
    },
    {
     "data": {
      "image/png": "[encoded data removed]",
      "text/plain": [
       "<Figure size 432x288 with 2 Axes>"
      ]
     },
     "metadata": {
      "needs_background": "light"
     },
     "output_type": "display_data"
    },
    {
     "data": {
      "image/png": "[encoded data removed]",
      "text/plain": [
       "<Figure size 432x288 with 1 Axes>"
      ]
     },
     "metadata": {
      "needs_background": "light"
     },
     "output_type": "display_data"
    },
    {
     "name": "stdout",
     "output_type": "stream",
     "text": [
      "Number of test episodes: 1000\n"
     ]
    },
    {
     "name": "stderr",
     "output_type": "stream",
     "text": [
      "Plotting: 100%|██████████| 20/20 [24:15<00:00, 72.79s/it]\n"
     ]
    },
    {
     "name": "stdout",
     "output_type": "stream",
     "text": [
      "\n",
      "\n",
      "\n",
      "#########################################\n",
      "Abstraction level: 1\n",
      "abstract states: 115\n",
      "Concrete states 424962\n",
      "ratio 0.0002706124312291452\n",
      "********************** reporting the result of the model **************************\n",
      "The score for train data is 0.9948051948051948\n",
      "The score for test data is 0.9484848484848485\n",
      "\n",
      "\n",
      "--------------------------------------recall---------------------------------\n",
      "the test recall for the class yes is 0.6447368421052632\n",
      "the test recall for the class no is 0.988013698630137\n",
      "the training recall for the class yes is 0.9928057553956835\n",
      "the training recall for the class no is 0.9950035688793719\n",
      "\n",
      "\n",
      "--------------------------------------precision------------------------------\n",
      "the test precision for the class yes is 0.875\n",
      "the test precision for the class no is 0.9552980132450332\n",
      "the training precision for the class yes is 0.9517241379310345\n",
      "the training precision for the class no is 0.9992831541218637\n",
      "\n",
      "\n",
      "\n",
      "              precision    recall  f1-score   support\n",
      "\n",
      "         NO        0.96      0.99      0.97       584\n",
      "         yes       0.88      0.64      0.74        76\n",
      "\n",
      "    accuracy                           0.95       660\n",
      "   macro avg       0.92      0.82      0.86       660\n",
      "weighted avg       0.95      0.95      0.95       660\n",
      "\n",
      "\n",
      "\n",
      "specifity : 0.988013698630137\n",
      "\n",
      "\n",
      "--------------------------------------confusion----------------------------\n",
      "The confusion Matrix:\n",
      "[[577   7]\n",
      " [ 27  49]]\n",
      "the accuracy score in 0.9484848484848485\n",
      "\n",
      "\n",
      "********************** plotting the confusion matrix & ROC curve **************************\n"
     ]
    },
    {
     "name": "stderr",
     "output_type": "stream",
     "text": [
      "c:\\Users\\Student\\Desktop\\vs_git\\.virtualenvs\\venv\\lib\\site-packages\\sklearn\\utils\\deprecation.py:87: FutureWarning: Function plot_confusion_matrix is deprecated; Function `plot_confusion_matrix` is deprecated in 1.0 and will be removed in 1.2. Use one of the class methods: ConfusionMatrixDisplay.from_predictions or ConfusionMatrixDisplay.from_estimator.\n",
      "  warnings.warn(msg, category=FutureWarning)\n",
      "c:\\Users\\Student\\Desktop\\vs_git\\.virtualenvs\\venv\\lib\\site-packages\\sklearn\\utils\\deprecation.py:87: FutureWarning: Function plot_roc_curve is deprecated; Function `plot_roc_curve` is deprecated in 1.0 and will be removed in 1.2. Use one of the class methods: RocCurveDisplay.from_predictions or RocCurveDisplay.from_estimator.\n",
      "  warnings.warn(msg, category=FutureWarning)\n"
     ]
    },
    {
     "data": {
      "image/png": "[encoded data removed]",
      "text/plain": [
       "<Figure size 432x288 with 2 Axes>"
      ]
     },
     "metadata": {
      "needs_background": "light"
     },
     "output_type": "display_data"
    },
    {
     "data": {
      "image/png": "[encoded data removed]",
      "text/plain": [
       "<Figure size 432x288 with 1 Axes>"
      ]
     },
     "metadata": {
      "needs_background": "light"
     },
     "output_type": "display_data"
    },
    {
     "name": "stdout",
     "output_type": "stream",
     "text": [
      "Number of test episodes: 1000\n"
     ]
    },
    {
     "name": "stderr",
     "output_type": "stream",
     "text": [
      "Plotting: 100%|██████████| 20/20 [25:10<00:00, 75.53s/it]\n"
     ]
    },
    {
     "name": "stdout",
     "output_type": "stream",
     "text": [
      "\n",
      "\n",
      "\n",
      "#########################################\n",
      "Abstraction level: 0.8\n",
      "abstract states: 140\n",
      "Concrete states 424962\n",
      "ratio 0.00032944122062678543\n",
      "********************** reporting the result of the model **************************\n",
      "The score for train data is 0.9961038961038962\n",
      "The score for test data is 0.943939393939394\n",
      "\n",
      "\n",
      "--------------------------------------recall---------------------------------\n",
      "the test recall for the class yes is 0.6447368421052632\n",
      "the test recall for the class no is 0.9828767123287672\n",
      "the training recall for the class yes is 1.0\n",
      "the training recall for the class no is 0.9957173447537473\n",
      "\n",
      "\n",
      "--------------------------------------precision------------------------------\n",
      "the test precision for the class yes is 0.8305084745762712\n",
      "the test precision for the class no is 0.9550748752079867\n",
      "the training precision for the class yes is 0.9586206896551724\n",
      "the training precision for the class no is 1.0\n",
      "\n",
      "\n",
      "\n",
      "              precision    recall  f1-score   support\n",
      "\n",
      "         NO        0.96      0.98      0.97       584\n",
      "         yes       0.83      0.64      0.73        76\n",
      "\n",
      "    accuracy                           0.94       660\n",
      "   macro avg       0.89      0.81      0.85       660\n",
      "weighted avg       0.94      0.94      0.94       660\n",
      "\n",
      "\n",
      "\n",
      "specifity : 0.9828767123287672\n",
      "\n",
      "\n",
      "--------------------------------------confusion----------------------------\n",
      "The confusion Matrix:\n",
      "[[574  10]\n",
      " [ 27  49]]\n",
      "the accuracy score in 0.943939393939394\n",
      "\n",
      "\n",
      "********************** plotting the confusion matrix & ROC curve **************************\n"
     ]
    },
    {
     "name": "stderr",
     "output_type": "stream",
     "text": [
      "c:\\Users\\Student\\Desktop\\vs_git\\.virtualenvs\\venv\\lib\\site-packages\\sklearn\\utils\\deprecation.py:87: FutureWarning: Function plot_confusion_matrix is deprecated; Function `plot_confusion_matrix` is deprecated in 1.0 and will be removed in 1.2. Use one of the class methods: ConfusionMatrixDisplay.from_predictions or ConfusionMatrixDisplay.from_estimator.\n",
      "  warnings.warn(msg, category=FutureWarning)\n",
      "c:\\Users\\Student\\Desktop\\vs_git\\.virtualenvs\\venv\\lib\\site-packages\\sklearn\\utils\\deprecation.py:87: FutureWarning: Function plot_roc_curve is deprecated; Function `plot_roc_curve` is deprecated in 1.0 and will be removed in 1.2. Use one of the class methods: RocCurveDisplay.from_predictions or RocCurveDisplay.from_estimator.\n",
      "  warnings.warn(msg, category=FutureWarning)\n"
     ]
    },
    {
     "data": {
      "image/png": "[encoded data removed]",
      "text/plain": [
       "<Figure size 432x288 with 2 Axes>"
      ]
     },
     "metadata": {
      "needs_background": "light"
     },
     "output_type": "display_data"
    },
    {
     "data": {
      "image/png": "[encoded data removed]",
      "text/plain": [
       "<Figure size 432x288 with 1 Axes>"
      ]
     },
     "metadata": {
      "needs_background": "light"
     },
     "output_type": "display_data"
    },
    {
     "name": "stdout",
     "output_type": "stream",
     "text": [
      "Number of test episodes: 1000\n"
     ]
    },
    {
     "name": "stderr",
     "output_type": "stream",
     "text": [
      "Plotting: 100%|██████████| 20/20 [27:40<00:00, 83.01s/it]\n"
     ]
    },
    {
     "name": "stdout",
     "output_type": "stream",
     "text": [
      "\n",
      "\n",
      "\n",
      "#########################################\n",
      "Abstraction level: 0.5\n",
      "abstract states: 226\n",
      "Concrete states 424962\n",
      "ratio 0.0005318122561546679\n",
      "********************** reporting the result of the model **************************\n",
      "The score for train data is 1.0\n",
      "The score for test data is 0.9590909090909091\n",
      "\n",
      "\n",
      "--------------------------------------recall---------------------------------\n",
      "the test recall for the class yes is 0.6578947368421053\n",
      "the test recall for the class no is 0.9982876712328768\n",
      "the training recall for the class yes is 1.0\n",
      "the training recall for the class no is 1.0\n",
      "\n",
      "\n",
      "--------------------------------------precision------------------------------\n",
      "the test precision for the class yes is 0.9803921568627451\n",
      "the test precision for the class no is 0.9573070607553367\n",
      "the training precision for the class yes is 1.0\n",
      "the training precision for the class no is 1.0\n",
      "\n",
      "\n",
      "\n",
      "              precision    recall  f1-score   support\n",
      "\n",
      "         NO        0.96      1.00      0.98       584\n",
      "         yes       0.98      0.66      0.79        76\n",
      "\n",
      "    accuracy                           0.96       660\n",
      "   macro avg       0.97      0.83      0.88       660\n",
      "weighted avg       0.96      0.96      0.96       660\n",
      "\n",
      "\n",
      "\n",
      "specifity : 0.9982876712328768\n",
      "\n",
      "\n",
      "--------------------------------------confusion----------------------------\n",
      "The confusion Matrix:\n",
      "[[583   1]\n",
      " [ 26  50]]\n",
      "the accuracy score in 0.9590909090909091\n",
      "\n",
      "\n",
      "********************** plotting the confusion matrix & ROC curve **************************\n"
     ]
    },
    {
     "name": "stderr",
     "output_type": "stream",
     "text": [
      "c:\\Users\\Student\\Desktop\\vs_git\\.virtualenvs\\venv\\lib\\site-packages\\sklearn\\utils\\deprecation.py:87: FutureWarning: Function plot_confusion_matrix is deprecated; Function `plot_confusion_matrix` is deprecated in 1.0 and will be removed in 1.2. Use one of the class methods: ConfusionMatrixDisplay.from_predictions or ConfusionMatrixDisplay.from_estimator.\n",
      "  warnings.warn(msg, category=FutureWarning)\n",
      "c:\\Users\\Student\\Desktop\\vs_git\\.virtualenvs\\venv\\lib\\site-packages\\sklearn\\utils\\deprecation.py:87: FutureWarning: Function plot_roc_curve is deprecated; Function `plot_roc_curve` is deprecated in 1.0 and will be removed in 1.2. Use one of the class methods: RocCurveDisplay.from_predictions or RocCurveDisplay.from_estimator.\n",
      "  warnings.warn(msg, category=FutureWarning)\n"
     ]
    },
    {
     "data": {
      "image/png": "[encoded data removed]",
      "text/plain": [
       "<Figure size 432x288 with 2 Axes>"
      ]
     },
     "metadata": {
      "needs_background": "light"
     },
     "output_type": "display_data"
    },
    {
     "data": {
      "image/png": "[encoded data removed]",
      "text/plain": [
       "<Figure size 432x288 with 1 Axes>"
      ]
     },
     "metadata": {
      "needs_background": "light"
     },
     "output_type": "display_data"
    },
    {
     "name": "stdout",
     "output_type": "stream",
     "text": [
      "Number of test episodes: 1000\n"
     ]
    },
    {
     "name": "stderr",
     "output_type": "stream",
     "text": [
      "Plotting: 100%|██████████| 20/20 [30:02<00:00, 90.13s/it]\n"
     ]
    },
    {
     "name": "stdout",
     "output_type": "stream",
     "text": [
      "\n",
      "\n",
      "\n",
      "#########################################\n",
      "Abstraction level: 0.1\n",
      "abstract states: 1913\n",
      "Concrete states 424962\n",
      "ratio 0.004501578964707433\n",
      "********************** reporting the result of the model **************************\n",
      "The score for train data is 1.0\n",
      "The score for test data is 0.9878787878787879\n",
      "\n",
      "\n",
      "--------------------------------------recall---------------------------------\n",
      "the test recall for the class yes is 0.8947368421052632\n",
      "the test recall for the class no is 1.0\n",
      "the training recall for the class yes is 1.0\n",
      "the training recall for the class no is 1.0\n",
      "\n",
      "\n",
      "--------------------------------------precision------------------------------\n",
      "the test precision for the class yes is 1.0\n",
      "the test precision for the class no is 0.9864864864864865\n",
      "the training precision for the class yes is 1.0\n",
      "the training precision for the class no is 1.0\n",
      "\n",
      "\n",
      "\n",
      "              precision    recall  f1-score   support\n",
      "\n",
      "         NO        0.99      1.00      0.99       584\n",
      "         yes       1.00      0.89      0.94        76\n",
      "\n",
      "    accuracy                           0.99       660\n",
      "   macro avg       0.99      0.95      0.97       660\n",
      "weighted avg       0.99      0.99      0.99       660\n",
      "\n",
      "\n",
      "\n",
      "specifity : 1.0\n",
      "\n",
      "\n",
      "--------------------------------------confusion----------------------------\n",
      "The confusion Matrix:\n",
      "[[584   0]\n",
      " [  8  68]]\n",
      "the accuracy score in 0.9878787878787879\n",
      "\n",
      "\n",
      "********************** plotting the confusion matrix & ROC curve **************************\n"
     ]
    },
    {
     "name": "stderr",
     "output_type": "stream",
     "text": [
      "c:\\Users\\Student\\Desktop\\vs_git\\.virtualenvs\\venv\\lib\\site-packages\\sklearn\\utils\\deprecation.py:87: FutureWarning: Function plot_confusion_matrix is deprecated; Function `plot_confusion_matrix` is deprecated in 1.0 and will be removed in 1.2. Use one of the class methods: ConfusionMatrixDisplay.from_predictions or ConfusionMatrixDisplay.from_estimator.\n",
      "  warnings.warn(msg, category=FutureWarning)\n",
      "c:\\Users\\Student\\Desktop\\vs_git\\.virtualenvs\\venv\\lib\\site-packages\\sklearn\\utils\\deprecation.py:87: FutureWarning: Function plot_roc_curve is deprecated; Function `plot_roc_curve` is deprecated in 1.0 and will be removed in 1.2. Use one of the class methods: RocCurveDisplay.from_predictions or RocCurveDisplay.from_estimator.\n",
      "  warnings.warn(msg, category=FutureWarning)\n"
     ]
    },
    {
     "data": {
      "image/png": "[encoded data removed]",
      "text/plain": [
       "<Figure size 432x288 with 2 Axes>"
      ]
     },
     "metadata": {
      "needs_background": "light"
     },
     "output_type": "display_data"
    },
    {
     "data": {
      "image/png": "[encoded data removed]",
      "text/plain": [
       "<Figure size 432x288 with 1 Axes>"
      ]
     },
     "metadata": {
      "needs_background": "light"
     },
     "output_type": "display_data"
    },
    {
     "name": "stdout",
     "output_type": "stream",
     "text": [
      "Number of test episodes: 1000\n"
     ]
    },
    {
     "name": "stderr",
     "output_type": "stream",
     "text": [
      "Plotting: 100%|██████████| 20/20 [1:04:41<00:00, 194.08s/it]\n"
     ]
    },
    {
     "name": "stdout",
     "output_type": "stream",
     "text": [
      "\n",
      "\n",
      "\n",
      "#########################################\n",
      "Abstraction level: 0.05\n",
      "abstract states: 4655\n",
      "Concrete states 424962\n",
      "ratio 0.010953920585840616\n",
      "********************** reporting the result of the model **************************\n",
      "The score for train data is 1.0\n",
      "The score for test data is 0.9666666666666667\n",
      "\n",
      "\n",
      "--------------------------------------recall---------------------------------\n",
      "the test recall for the class yes is 0.7105263157894737\n",
      "the test recall for the class no is 1.0\n",
      "the training recall for the class yes is 1.0\n",
      "the training recall for the class no is 1.0\n",
      "\n",
      "\n",
      "--------------------------------------precision------------------------------\n",
      "the test precision for the class yes is 1.0\n",
      "the test precision for the class no is 0.9636963696369637\n",
      "the training precision for the class yes is 1.0\n",
      "the training precision for the class no is 1.0\n",
      "\n",
      "\n",
      "\n",
      "              precision    recall  f1-score   support\n",
      "\n",
      "         NO        0.96      1.00      0.98       584\n",
      "         yes       1.00      0.71      0.83        76\n",
      "\n",
      "    accuracy                           0.97       660\n",
      "   macro avg       0.98      0.86      0.91       660\n",
      "weighted avg       0.97      0.97      0.96       660\n",
      "\n",
      "\n",
      "\n",
      "specifity : 1.0\n",
      "\n",
      "\n",
      "--------------------------------------confusion----------------------------\n",
      "The confusion Matrix:\n",
      "[[584   0]\n",
      " [ 22  54]]\n",
      "the accuracy score in 0.9666666666666667\n",
      "\n",
      "\n",
      "********************** plotting the confusion matrix & ROC curve **************************\n"
     ]
    },
    {
     "name": "stderr",
     "output_type": "stream",
     "text": [
      "c:\\Users\\Student\\Desktop\\vs_git\\.virtualenvs\\venv\\lib\\site-packages\\sklearn\\utils\\deprecation.py:87: FutureWarning: Function plot_confusion_matrix is deprecated; Function `plot_confusion_matrix` is deprecated in 1.0 and will be removed in 1.2. Use one of the class methods: ConfusionMatrixDisplay.from_predictions or ConfusionMatrixDisplay.from_estimator.\n",
      "  warnings.warn(msg, category=FutureWarning)\n",
      "c:\\Users\\Student\\Desktop\\vs_git\\.virtualenvs\\venv\\lib\\site-packages\\sklearn\\utils\\deprecation.py:87: FutureWarning: Function plot_roc_curve is deprecated; Function `plot_roc_curve` is deprecated in 1.0 and will be removed in 1.2. Use one of the class methods: RocCurveDisplay.from_predictions or RocCurveDisplay.from_estimator.\n",
      "  warnings.warn(msg, category=FutureWarning)\n"
     ]
    },
    {
     "data": {
      "image/png": "[encoded data removed]",
      "text/plain": [
       "<Figure size 432x288 with 2 Axes>"
      ]
     },
     "metadata": {
      "needs_background": "light"
     },
     "output_type": "display_data"
    },
    {
     "data": {
      "image/png": "[encoded data removed]",
      "text/plain": [
       "<Figure size 432x288 with 1 Axes>"
      ]
     },
     "metadata": {
      "needs_background": "light"
     },
     "output_type": "display_data"
    },
    {
     "name": "stdout",
     "output_type": "stream",
     "text": [
      "Number of test episodes: 1000\n"
     ]
    },
    {
     "name": "stderr",
     "output_type": "stream",
     "text": [
      "Plotting: 100%|██████████| 20/20 [47:43<00:00, 143.16s/it]\n"
     ]
    },
    {
     "name": "stdout",
     "output_type": "stream",
     "text": [
      "\n",
      "\n",
      "\n",
      "#########################################\n",
      "Abstraction level: 0.01\n",
      "abstract states: 34003\n",
      "Concrete states 424962\n",
      "ratio 0.08001421303551846\n",
      "********************** reporting the result of the model **************************\n",
      "The score for train data is 1.0\n",
      "The score for test data is 0.9727272727272728\n",
      "\n",
      "\n",
      "--------------------------------------recall---------------------------------\n",
      "the test recall for the class yes is 0.7763157894736842\n",
      "the test recall for the class no is 0.9982876712328768\n",
      "the training recall for the class yes is 1.0\n",
      "the training recall for the class no is 1.0\n",
      "\n",
      "\n",
      "--------------------------------------precision------------------------------\n",
      "the test precision for the class yes is 0.9833333333333333\n",
      "the test precision for the class no is 0.9716666666666667\n",
      "the training precision for the class yes is 1.0\n",
      "the training precision for the class no is 1.0\n",
      "\n",
      "\n",
      "\n",
      "              precision    recall  f1-score   support\n",
      "\n",
      "         NO        0.97      1.00      0.98       584\n",
      "         yes       0.98      0.78      0.87        76\n",
      "\n",
      "    accuracy                           0.97       660\n",
      "   macro avg       0.98      0.89      0.93       660\n",
      "weighted avg       0.97      0.97      0.97       660\n",
      "\n",
      "\n",
      "\n",
      "specifity : 0.9982876712328768\n",
      "\n",
      "\n",
      "--------------------------------------confusion----------------------------\n",
      "The confusion Matrix:\n",
      "[[583   1]\n",
      " [ 17  59]]\n",
      "the accuracy score in 0.9727272727272728\n",
      "\n",
      "\n",
      "********************** plotting the confusion matrix & ROC curve **************************\n"
     ]
    },
    {
     "name": "stderr",
     "output_type": "stream",
     "text": [
      "c:\\Users\\Student\\Desktop\\vs_git\\.virtualenvs\\venv\\lib\\site-packages\\sklearn\\utils\\deprecation.py:87: FutureWarning: Function plot_confusion_matrix is deprecated; Function `plot_confusion_matrix` is deprecated in 1.0 and will be removed in 1.2. Use one of the class methods: ConfusionMatrixDisplay.from_predictions or ConfusionMatrixDisplay.from_estimator.\n",
      "  warnings.warn(msg, category=FutureWarning)\n",
      "c:\\Users\\Student\\Desktop\\vs_git\\.virtualenvs\\venv\\lib\\site-packages\\sklearn\\utils\\deprecation.py:87: FutureWarning: Function plot_roc_curve is deprecated; Function `plot_roc_curve` is deprecated in 1.0 and will be removed in 1.2. Use one of the class methods: RocCurveDisplay.from_predictions or RocCurveDisplay.from_estimator.\n",
      "  warnings.warn(msg, category=FutureWarning)\n"
     ]
    },
    {
     "data": {
      "image/png": "[encoded data removed]",
      "text/plain": [
       "<Figure size 432x288 with 2 Axes>"
      ]
     },
     "metadata": {
      "needs_background": "light"
     },
     "output_type": "display_data"
    },
    {
     "data": {
      "image/png": "[encoded data removed]",
      "text/plain": [
       "<Figure size 432x288 with 1 Axes>"
      ]
     },
     "metadata": {
      "needs_background": "light"
     },
     "output_type": "display_data"
    },
    {
     "name": "stdout",
     "output_type": "stream",
     "text": [
      "Number of test episodes: 1000\n"
     ]
    },
    {
     "name": "stderr",
     "output_type": "stream",
     "text": [
      "Plotting: 100%|██████████| 20/20 [6:16:11<00:00, 1128.60s/it]  \n"
     ]
    },
    {
     "name": "stdout",
     "output_type": "stream",
     "text": [
      "\n",
      "\n",
      "\n",
      "#########################################\n",
      "Abstraction level: 0.005\n",
      "abstract states: 82214\n",
      "Concrete states 424962\n",
      "ratio 0.19346200366150385\n",
      "********************** reporting the result of the model **************************\n",
      "The score for train data is 1.0\n",
      "The score for test data is 0.9515151515151515\n",
      "\n",
      "\n",
      "--------------------------------------recall---------------------------------\n",
      "the test recall for the class yes is 0.5921052631578947\n",
      "the test recall for the class no is 0.9982876712328768\n",
      "the training recall for the class yes is 1.0\n",
      "the training recall for the class no is 1.0\n",
      "\n",
      "\n",
      "--------------------------------------precision------------------------------\n",
      "the test precision for the class yes is 0.9782608695652174\n",
      "the test precision for the class no is 0.9495114006514658\n",
      "the training precision for the class yes is 1.0\n",
      "the training precision for the class no is 1.0\n",
      "\n",
      "\n",
      "\n",
      "              precision    recall  f1-score   support\n",
      "\n",
      "         NO        0.95      1.00      0.97       584\n",
      "         yes       0.98      0.59      0.74        76\n",
      "\n",
      "    accuracy                           0.95       660\n",
      "   macro avg       0.96      0.80      0.86       660\n",
      "weighted avg       0.95      0.95      0.95       660\n",
      "\n",
      "\n",
      "\n",
      "specifity : 0.9982876712328768\n",
      "\n",
      "\n",
      "--------------------------------------confusion----------------------------\n",
      "The confusion Matrix:\n",
      "[[583   1]\n",
      " [ 31  45]]\n",
      "the accuracy score in 0.9515151515151515\n",
      "\n",
      "\n",
      "********************** plotting the confusion matrix & ROC curve **************************\n"
     ]
    },
    {
     "name": "stderr",
     "output_type": "stream",
     "text": [
      "c:\\Users\\Student\\Desktop\\vs_git\\.virtualenvs\\venv\\lib\\site-packages\\sklearn\\utils\\deprecation.py:87: FutureWarning: Function plot_confusion_matrix is deprecated; Function `plot_confusion_matrix` is deprecated in 1.0 and will be removed in 1.2. Use one of the class methods: ConfusionMatrixDisplay.from_predictions or ConfusionMatrixDisplay.from_estimator.\n",
      "  warnings.warn(msg, category=FutureWarning)\n",
      "c:\\Users\\Student\\Desktop\\vs_git\\.virtualenvs\\venv\\lib\\site-packages\\sklearn\\utils\\deprecation.py:87: FutureWarning: Function plot_roc_curve is deprecated; Function `plot_roc_curve` is deprecated in 1.0 and will be removed in 1.2. Use one of the class methods: RocCurveDisplay.from_predictions or RocCurveDisplay.from_estimator.\n",
      "  warnings.warn(msg, category=FutureWarning)\n"
     ]
    },
    {
     "data": {
      "image/png": "[encoded data removed]",
      "text/plain": [
       "<Figure size 432x288 with 2 Axes>"
      ]
     },
     "metadata": {
      "needs_background": "light"
     },
     "output_type": "display_data"
    },
    {
     "data": {
      "image/png": "[encoded data removed]",
      "text/plain": [
       "<Figure size 432x288 with 1 Axes>"
      ]
     },
     "metadata": {
      "needs_background": "light"
     },
     "output_type": "display_data"
    },
    {
     "name": "stdout",
     "output_type": "stream",
     "text": [
      "Number of test episodes: 1000\n"
     ]
    },
    {
     "name": "stderr",
     "output_type": "stream",
     "text": [
      "Plotting: 100%|██████████| 20/20 [14:51:53<00:00, 2675.68s/it]  \n"
     ]
    }
   ],
   "source": [
    "# path = '/src/Config_CartPole.ini'\n",
    "    # CartPole_config = Config(abstraction_level=d, Read_abstraction_from_file=True, config_file=path)\n",
    "\n",
    "d_set=[5,4,3,2,1.5,1,0.8,0.5,0.1,0.05,0.01,0.005] #abstraction levels you want to explore\n",
    "\n",
    "\n",
    "\n",
    "Drive_model  =f\"{Dataset_path}Trained_agent/dqn-168.pkl\"\n",
    "\n",
    "\n",
    "env2 = gym.make('CartPole-v1')\n",
    "env2 = StoreWrapper(env2)\n",
    "model = DQN('MlpPolicy',env=env2, verbose=1)\n",
    "model = model.load(Drive_model)\n",
    "\n",
    "with open(f\"{Dataset_path}Random_episodes/FRT_68_training.pkl\", 'rb') as file2:\n",
    "    Training_episodes = pickle.load(file2)\n",
    "print('Number of episodes:',len(Training_episodes))\n",
    "for d in d_set:\n",
    "    print(f'\\n\\n\\n#########################################\\nAbstraction level: {d}')\n",
    "    # unique1 = CartPole_config.unique1\n",
    "    #read unique1 from pickle\n",
    "    Read_from_data = False # set to True if you want to read abstract classes from pickle file for the first time set to False to generate the pickle file\n",
    "    if Read_from_data:\n",
    "        with open(f'{Dataset_path}/ABS/Abstraction_data_final_{d}.pickle', 'rb') as file2:\n",
    "            unique1 = pickle.load(file2)\n",
    "        uni1=np.array(unique1)\n",
    "    if not Read_from_data:\n",
    "        # print('Reading unique1 from file')\n",
    "        # assert False\n",
    "        unique1,uni1 = Abstract_classes(Training_episodes,d,model)\n",
    "        with open(f'{Dataset_path}/ABS/Abstraction_data_final_{d}.pickle', 'wb') as f:\n",
    "            pickle.dump(unique1, f)\n",
    "\n",
    "\n",
    "    data1_x_b, data1_y_b, data1_y_f_b = ML_first_representation_func_based(d,is_functional_fault,is_reward_fault,model,Training_episodes,unique1,EPSILON,THRESHOLD)\n",
    "\n",
    "\n",
    "    #########################################################  Train ML - Functional fault predictor #############\n",
    "\n",
    "\n",
    "    X_train_f, X_test_f, y_train_f, y_test_f = train_test_split(data1_x_b, data1_y_f_b, test_size=0.30, random_state=42)\n",
    "    RF_FF_1rep = RandomForestClassifier(random_state=0, class_weight='balanced')\n",
    "    RF_FF_1rep.fit(X_train_f,y_train_f)\n",
    "    report(RF_FF_1rep,X_train_f,y_train_f,X_test_f,y_test_f)\n",
    "    #save RF_FF_1rep\n",
    "    with open(f'{Dataset_path}/ML_models/RF_FF_1rep_{d}.pickle', 'wb') as file2:\n",
    "        pickle.dump(RF_FF_1rep, file2)\n",
    "\n",
    "    ######################################################### Read FRT and FRTS from pickle #############\n",
    "    with open(f'{Dataset_path}/Random_episodes/FRT_test_68.pkl', 'rb') as file2:\n",
    "        FRT = pickle.load(file2)\n",
    "    print(\"Number of test episodes:\",len(FRT))\n",
    "    #########################################################  Plot Risk and Position #############\n",
    "    newpath = f'Abs_{d}'\n",
    "    if not os.path.exists(newpath):\n",
    "        os.makedirs(newpath)\n",
    "    #plot risk and position for 200 episodes\n",
    "    Num_plot = 200\n",
    "    if len(FRT)<Num_plot:\n",
    "        print(\"number of available episodes is less than {Num_plot}}\")\n",
    "        Num_plot = len(FRT)\n",
    "    print(\"Number of episodes to plot:\",Num_plot)\n",
    "    for i in tqdm(range(0,Num_plot,10), desc=\"Plotting\", total=Num_plot//10):\n",
    "        Plot_all(FRT[i:i+10],d,unique1,model,RF_FF_1rep,save=True,show=False,data_chunk=i,path=newpath)"
   ]
  },
  {
   "attachments": {},
   "cell_type": "markdown",
   "metadata": {},
   "source": [
    "# Run"
   ]
  },
  {
   "cell_type": "code",
   "execution_count": 6,
   "metadata": {},
   "outputs": [
    {
     "name": "stdout",
     "output_type": "stream",
     "text": [
      "Loading a model without an environment, this model cannot be trained until it has a valid environment.\n",
      "Number of episodes: 2200\n",
      "\n",
      "\n",
      "\n",
      "#########################################\n",
      "Abstraction level: 0.4\n",
      "abstract states: 294\n",
      "Concrete states 424962\n",
      "ratio 0.0006918265633162494\n",
      "********************** reporting the result of the model **************************\n",
      "The score for train data is 1.0\n",
      "The score for test data is 0.9651515151515152\n",
      "\n",
      "\n",
      "--------------------------------------recall---------------------------------\n",
      "the test recall for the class yes is 0.6973684210526315\n",
      "the test recall for the class no is 1.0\n",
      "the training recall for the class yes is 1.0\n",
      "the training recall for the class no is 1.0\n",
      "\n",
      "\n",
      "--------------------------------------precision------------------------------\n",
      "the test precision for the class yes is 1.0\n",
      "the test precision for the class no is 0.9621087314662273\n",
      "the training precision for the class yes is 1.0\n",
      "the training precision for the class no is 1.0\n",
      "\n",
      "\n",
      "\n",
      "              precision    recall  f1-score   support\n",
      "\n",
      "         NO        0.96      1.00      0.98       584\n",
      "         yes       1.00      0.70      0.82        76\n",
      "\n",
      "    accuracy                           0.97       660\n",
      "   macro avg       0.98      0.85      0.90       660\n",
      "weighted avg       0.97      0.97      0.96       660\n",
      "\n",
      "\n",
      "\n",
      "specifity : 1.0\n",
      "\n",
      "\n",
      "--------------------------------------confusion----------------------------\n",
      "The confusion Matrix:\n",
      "[[584   0]\n",
      " [ 23  53]]\n",
      "the accuracy score in 0.9651515151515152\n",
      "\n",
      "\n",
      "********************** plotting the confusion matrix & ROC curve **************************\n"
     ]
    },
    {
     "name": "stderr",
     "output_type": "stream",
     "text": [
      "c:\\Users\\Student\\Desktop\\vs_git\\.virtualenvs\\venv\\lib\\site-packages\\sklearn\\utils\\deprecation.py:87: FutureWarning: Function plot_confusion_matrix is deprecated; Function `plot_confusion_matrix` is deprecated in 1.0 and will be removed in 1.2. Use one of the class methods: ConfusionMatrixDisplay.from_predictions or ConfusionMatrixDisplay.from_estimator.\n",
      "  warnings.warn(msg, category=FutureWarning)\n",
      "c:\\Users\\Student\\Desktop\\vs_git\\.virtualenvs\\venv\\lib\\site-packages\\sklearn\\utils\\deprecation.py:87: FutureWarning: Function plot_roc_curve is deprecated; Function `plot_roc_curve` is deprecated in 1.0 and will be removed in 1.2. Use one of the class methods: RocCurveDisplay.from_predictions or RocCurveDisplay.from_estimator.\n",
      "  warnings.warn(msg, category=FutureWarning)\n"
     ]
    },
    {
     "data": {
      "image/png": "[encoded data removed]",
      "text/plain": [
       "<Figure size 432x288 with 2 Axes>"
      ]
     },
     "metadata": {
      "needs_background": "light"
     },
     "output_type": "display_data"
    },
    {
     "data": {
      "image/png": "[encoded data removed]",
      "text/plain": [
       "<Figure size 432x288 with 1 Axes>"
      ]
     },
     "metadata": {
      "needs_background": "light"
     },
     "output_type": "display_data"
    },
    {
     "name": "stdout",
     "output_type": "stream",
     "text": [
      "Number of test episodes: 1000\n",
      "Number of episodes to plot: 200\n"
     ]
    },
    {
     "name": "stderr",
     "output_type": "stream",
     "text": [
      "Plotting: 100%|██████████| 20/20 [27:02<00:00, 81.13s/it]\n"
     ]
    },
    {
     "name": "stdout",
     "output_type": "stream",
     "text": [
      "\n",
      "\n",
      "\n",
      "#########################################\n",
      "Abstraction level: 0.3\n",
      "abstract states: 414\n",
      "Concrete states 424962\n",
      "ratio 0.0009742047524249227\n",
      "********************** reporting the result of the model **************************\n",
      "The score for train data is 1.0\n",
      "The score for test data is 0.9878787878787879\n",
      "\n",
      "\n",
      "--------------------------------------recall---------------------------------\n",
      "the test recall for the class yes is 0.8947368421052632\n",
      "the test recall for the class no is 1.0\n",
      "the training recall for the class yes is 1.0\n",
      "the training recall for the class no is 1.0\n",
      "\n",
      "\n",
      "--------------------------------------precision------------------------------\n",
      "the test precision for the class yes is 1.0\n",
      "the test precision for the class no is 0.9864864864864865\n",
      "the training precision for the class yes is 1.0\n",
      "the training precision for the class no is 1.0\n",
      "\n",
      "\n",
      "\n",
      "              precision    recall  f1-score   support\n",
      "\n",
      "         NO        0.99      1.00      0.99       584\n",
      "         yes       1.00      0.89      0.94        76\n",
      "\n",
      "    accuracy                           0.99       660\n",
      "   macro avg       0.99      0.95      0.97       660\n",
      "weighted avg       0.99      0.99      0.99       660\n",
      "\n",
      "\n",
      "\n",
      "specifity : 1.0\n",
      "\n",
      "\n",
      "--------------------------------------confusion----------------------------\n",
      "The confusion Matrix:\n",
      "[[584   0]\n",
      " [  8  68]]\n",
      "the accuracy score in 0.9878787878787879\n",
      "\n",
      "\n",
      "********************** plotting the confusion matrix & ROC curve **************************\n"
     ]
    },
    {
     "name": "stderr",
     "output_type": "stream",
     "text": [
      "c:\\Users\\Student\\Desktop\\vs_git\\.virtualenvs\\venv\\lib\\site-packages\\sklearn\\utils\\deprecation.py:87: FutureWarning: Function plot_confusion_matrix is deprecated; Function `plot_confusion_matrix` is deprecated in 1.0 and will be removed in 1.2. Use one of the class methods: ConfusionMatrixDisplay.from_predictions or ConfusionMatrixDisplay.from_estimator.\n",
      "  warnings.warn(msg, category=FutureWarning)\n",
      "c:\\Users\\Student\\Desktop\\vs_git\\.virtualenvs\\venv\\lib\\site-packages\\sklearn\\utils\\deprecation.py:87: FutureWarning: Function plot_roc_curve is deprecated; Function `plot_roc_curve` is deprecated in 1.0 and will be removed in 1.2. Use one of the class methods: RocCurveDisplay.from_predictions or RocCurveDisplay.from_estimator.\n",
      "  warnings.warn(msg, category=FutureWarning)\n"
     ]
    },
    {
     "data": {
      "image/png": "[encoded data removed]",
      "text/plain": [
       "<Figure size 432x288 with 2 Axes>"
      ]
     },
     "metadata": {
      "needs_background": "light"
     },
     "output_type": "display_data"
    },
    {
     "data": {
      "image/png": "[encoded data removed]",
      "text/plain": [
       "<Figure size 432x288 with 1 Axes>"
      ]
     },
     "metadata": {
      "needs_background": "light"
     },
     "output_type": "display_data"
    },
    {
     "name": "stdout",
     "output_type": "stream",
     "text": [
      "Number of test episodes: 1000\n",
      "Number of episodes to plot: 200\n"
     ]
    },
    {
     "name": "stderr",
     "output_type": "stream",
     "text": [
      "Plotting: 100%|██████████| 20/20 [26:14<00:00, 78.74s/it]\n"
     ]
    },
    {
     "name": "stdout",
     "output_type": "stream",
     "text": [
      "\n",
      "\n",
      "\n",
      "#########################################\n",
      "Abstraction level: 0.2\n",
      "abstract states: 709\n",
      "Concrete states 424962\n",
      "ratio 0.0016683844673170778\n",
      "********************** reporting the result of the model **************************\n",
      "The score for train data is 1.0\n",
      "The score for test data is 0.9893939393939394\n",
      "\n",
      "\n",
      "--------------------------------------recall---------------------------------\n",
      "the test recall for the class yes is 0.9078947368421053\n",
      "the test recall for the class no is 1.0\n",
      "the training recall for the class yes is 1.0\n",
      "the training recall for the class no is 1.0\n",
      "\n",
      "\n",
      "--------------------------------------precision------------------------------\n",
      "the test precision for the class yes is 1.0\n",
      "the test precision for the class no is 0.988155668358714\n",
      "the training precision for the class yes is 1.0\n",
      "the training precision for the class no is 1.0\n",
      "\n",
      "\n",
      "\n",
      "              precision    recall  f1-score   support\n",
      "\n",
      "         NO        0.99      1.00      0.99       584\n",
      "         yes       1.00      0.91      0.95        76\n",
      "\n",
      "    accuracy                           0.99       660\n",
      "   macro avg       0.99      0.95      0.97       660\n",
      "weighted avg       0.99      0.99      0.99       660\n",
      "\n",
      "\n",
      "\n",
      "specifity : 1.0\n",
      "\n",
      "\n",
      "--------------------------------------confusion----------------------------\n",
      "The confusion Matrix:\n",
      "[[584   0]\n",
      " [  7  69]]\n",
      "the accuracy score in 0.9893939393939394\n",
      "\n",
      "\n",
      "********************** plotting the confusion matrix & ROC curve **************************\n"
     ]
    },
    {
     "name": "stderr",
     "output_type": "stream",
     "text": [
      "c:\\Users\\Student\\Desktop\\vs_git\\.virtualenvs\\venv\\lib\\site-packages\\sklearn\\utils\\deprecation.py:87: FutureWarning: Function plot_confusion_matrix is deprecated; Function `plot_confusion_matrix` is deprecated in 1.0 and will be removed in 1.2. Use one of the class methods: ConfusionMatrixDisplay.from_predictions or ConfusionMatrixDisplay.from_estimator.\n",
      "  warnings.warn(msg, category=FutureWarning)\n",
      "c:\\Users\\Student\\Desktop\\vs_git\\.virtualenvs\\venv\\lib\\site-packages\\sklearn\\utils\\deprecation.py:87: FutureWarning: Function plot_roc_curve is deprecated; Function `plot_roc_curve` is deprecated in 1.0 and will be removed in 1.2. Use one of the class methods: RocCurveDisplay.from_predictions or RocCurveDisplay.from_estimator.\n",
      "  warnings.warn(msg, category=FutureWarning)\n"
     ]
    },
    {
     "data": {
      "image/png": "[encoded data removed]",
      "text/plain": [
       "<Figure size 432x288 with 2 Axes>"
      ]
     },
     "metadata": {
      "needs_background": "light"
     },
     "output_type": "display_data"
    },
    {
     "data": {
      "image/png": "[encoded data removed]",
      "text/plain": [
       "<Figure size 432x288 with 1 Axes>"
      ]
     },
     "metadata": {
      "needs_background": "light"
     },
     "output_type": "display_data"
    },
    {
     "name": "stdout",
     "output_type": "stream",
     "text": [
      "Number of test episodes: 1000\n",
      "Number of episodes to plot: 200\n"
     ]
    },
    {
     "name": "stderr",
     "output_type": "stream",
     "text": [
      "Plotting: 100%|██████████| 20/20 [27:25<00:00, 82.26s/it]\n"
     ]
    }
   ],
   "source": [
    "# path = 'C:/Users/Student/Desktop/vs_git/HazardDetection/CartPole/src/Config_CartPole.ini'\n",
    "    # CartPole_config = Config(abstraction_level=d, Read_abstraction_from_file=True, config_file=path)\n",
    "EPSILON = 0.05\n",
    "THRESHOLD = 70\n",
    "d_set=[0.4,0.3,0.2]\n",
    "\n",
    "\n",
    "Drive_model  =\"c:/Users/Student/Desktop/vs_git/HazardDetection/Final/Trained_agent/dqn-168.pkl\"\n",
    "\n",
    "\n",
    "env2 = gym.make('CartPole-v1')\n",
    "env2 = StoreWrapper(env2)\n",
    "model = DQN('MlpPolicy',env=env2, verbose=1)\n",
    "model = model.load(Drive_model)\n",
    "\n",
    "with open(f'C:/Users/Student/Desktop/vs_git/HazardDetection/Final/Data_final/Random_episodes/FRT_68_training.pkl', 'rb') as file2:\n",
    "    Training_episodes = pickle.load(file2)\n",
    "print('Number of episodes:',len(Training_episodes))\n",
    "for d in d_set:\n",
    "    print(f'\\n\\n\\n#########################################\\nAbstraction level: {d}')\n",
    "    # unique1 = CartPole_config.unique1\n",
    "    #read unique1 from pickle\n",
    "    Read_from_data = False\n",
    "    if Read_from_data:\n",
    "        assert False\n",
    "        with open(f'updated ....  Data_final/ABS/Abstraction_data_final_{d}.pickle', 'rb') as file2:\n",
    "            unique1 = pickle.load(file2)\n",
    "        uni1=np.array(unique1)\n",
    "    if not Read_from_data:\n",
    "        # print('Reading unique1 from file')\n",
    "        # assert False\n",
    "        unique1,uni1 = Abstract_classes(Training_episodes,d,model)\n",
    "        with open(f'Data_final/ABS/Abstraction_data_final_{d}.pickle', 'wb') as f:\n",
    "            pickle.dump(unique1, f)\n",
    "\n",
    "\n",
    "    data1_x_b, data1_y_b, data1_y_f_b = ML_first_representation_func_based(d,is_functional_fault,is_reward_fault,model,Training_episodes,unique1,EPSILON,THRESHOLD)\n",
    "\n",
    "\n",
    "    #########################################################  Train ML - Functional fault predictor #############\n",
    "\n",
    "\n",
    "    X_train_f, X_test_f, y_train_f, y_test_f = train_test_split(data1_x_b, data1_y_f_b, test_size=0.30, random_state=42)\n",
    "    RF_FF_1rep = RandomForestClassifier(random_state=0, class_weight='balanced')\n",
    "    RF_FF_1rep.fit(X_train_f,y_train_f)\n",
    "    report(RF_FF_1rep,X_train_f,y_train_f,X_test_f,y_test_f)\n",
    "    #save RF_FF_1rep\n",
    "    with open(f'Data_final/ML_models/RF_FF_1rep_{d}.pickle', 'wb') as file2:\n",
    "        pickle.dump(RF_FF_1rep, file2)\n",
    "\n",
    "    ######################################################### Read FRT and FRTS from pickle #############\n",
    "    with open(f'C:/Users/Student/Desktop/vs_git/HazardDetection/Final/Data_final/Random_episodes/FRT_test_68.pkl', 'rb') as file2:\n",
    "        FRT = pickle.load(file2)\n",
    "    print(\"Number of test episodes:\",len(FRT))\n",
    "    # with open(f'C:/Users/Student/Desktop/vs_git/HazardDetection/Data_Cartpole/Random_episodes/FRT.pkl', 'rb') as file2:\n",
    "    #     FRTS = pickle.load(file2)\n",
    "    # print(len(FRT))\n",
    "    # assert len(FRT)<100\n",
    "    #load hd model from pickle\n",
    "    # with open(f'c:/Users/Student/Desktop/vs_git/HazardDetection/Data_Cartpole/ML_models/RF_FF_1rep_{d}.pickle', 'wb') as file2:\n",
    "    #     pickle.dump(RF_FF_1rep, file2)\n",
    "    # HD_model_path1 = f'C:/Users/Student/Desktop/vs_git/HazardDetection/Data_Cartpole/ML_models'\n",
    "    # HD_model_path = f'{HD_model_path1}/RF_FF_1rep_{d}.pickle'\n",
    "    # with open(HD_model_path, 'rb') as file2:\n",
    "    #     HD_model = pickle.load(file2)\n",
    "    #########################################################  Plot Risk and Position #############\n",
    "    newpath = f'C:/Users/Student/Desktop/vs_git/HazardDetection/Final/Plots_CartPole/v1/Abs_{d}'\n",
    "    if not os.path.exists(newpath):\n",
    "        os.makedirs(newpath)\n",
    "    #plot risk and position for 200 episodes\n",
    "    Num_plot = 200\n",
    "    if len(FRT)<Num_plot:\n",
    "        print(\"number of available episodes is less than {Num_plot}}\")\n",
    "        Num_plot = len(FRT)\n",
    "    print(\"Number of episodes to plot:\",Num_plot)\n",
    "    for i in tqdm(range(0,Num_plot,10), desc=\"Plotting\", total=Num_plot//10):\n",
    "        Plot_all(FRT[i:i+10],d,unique1,model,RF_FF_1rep,save=True,show=False,data_chunk=i,path=newpath)"
   ]
  },
  {
   "attachments": {},
   "cell_type": "markdown",
   "metadata": {},
   "source": [
    "# Running for values between 0.1 and 0.2 (inside the optimal range)"
   ]
  },
  {
   "cell_type": "code",
   "execution_count": 7,
   "metadata": {},
   "outputs": [
    {
     "name": "stdout",
     "output_type": "stream",
     "text": [
      "Loading a model without an environment, this model cannot be trained until it has a valid environment.\n",
      "Number of episodes: 2200\n",
      "\n",
      "\n",
      "\n",
      "#########################################\n",
      "Abstraction level: 0.11\n",
      "abstract states: 1659\n",
      "Concrete states 424962\n",
      "ratio 0.0039038784644274075\n",
      "********************** reporting the result of the model **************************\n",
      "The score for train data is 1.0\n",
      "The score for test data is 0.9939393939393939\n",
      "\n",
      "\n",
      "--------------------------------------recall---------------------------------\n",
      "the test recall for the class yes is 0.9473684210526315\n",
      "the test recall for the class no is 1.0\n",
      "the training recall for the class yes is 1.0\n",
      "the training recall for the class no is 1.0\n",
      "\n",
      "\n",
      "--------------------------------------precision------------------------------\n",
      "the test precision for the class yes is 1.0\n",
      "the test precision for the class no is 0.9931972789115646\n",
      "the training precision for the class yes is 1.0\n",
      "the training precision for the class no is 1.0\n",
      "\n",
      "\n",
      "\n",
      "              precision    recall  f1-score   support\n",
      "\n",
      "         NO        0.99      1.00      1.00       584\n",
      "         yes       1.00      0.95      0.97        76\n",
      "\n",
      "    accuracy                           0.99       660\n",
      "   macro avg       1.00      0.97      0.98       660\n",
      "weighted avg       0.99      0.99      0.99       660\n",
      "\n",
      "\n",
      "\n",
      "specifity : 1.0\n",
      "\n",
      "\n",
      "--------------------------------------confusion----------------------------\n",
      "The confusion Matrix:\n",
      "[[584   0]\n",
      " [  4  72]]\n",
      "the accuracy score in 0.9939393939393939\n",
      "\n",
      "\n",
      "********************** plotting the confusion matrix & ROC curve **************************\n"
     ]
    },
    {
     "name": "stderr",
     "output_type": "stream",
     "text": [
      "c:\\Users\\Student\\Desktop\\vs_git\\.virtualenvs\\venv\\lib\\site-packages\\sklearn\\utils\\deprecation.py:87: FutureWarning: Function plot_confusion_matrix is deprecated; Function `plot_confusion_matrix` is deprecated in 1.0 and will be removed in 1.2. Use one of the class methods: ConfusionMatrixDisplay.from_predictions or ConfusionMatrixDisplay.from_estimator.\n",
      "  warnings.warn(msg, category=FutureWarning)\n",
      "c:\\Users\\Student\\Desktop\\vs_git\\.virtualenvs\\venv\\lib\\site-packages\\sklearn\\utils\\deprecation.py:87: FutureWarning: Function plot_roc_curve is deprecated; Function `plot_roc_curve` is deprecated in 1.0 and will be removed in 1.2. Use one of the class methods: RocCurveDisplay.from_predictions or RocCurveDisplay.from_estimator.\n",
      "  warnings.warn(msg, category=FutureWarning)\n"
     ]
    },
    {
     "data": {
      "image/png": "[encoded data removed]",
      "text/plain": [
       "<Figure size 432x288 with 2 Axes>"
      ]
     },
     "metadata": {
      "needs_background": "light"
     },
     "output_type": "display_data"
    },
    {
     "data": {
      "image/png": "[encoded data removed]",
      "text/plain": [
       "<Figure size 432x288 with 1 Axes>"
      ]
     },
     "metadata": {
      "needs_background": "light"
     },
     "output_type": "display_data"
    },
    {
     "name": "stdout",
     "output_type": "stream",
     "text": [
      "Number of test episodes: 1000\n",
      "Number of episodes to plot: 50\n"
     ]
    },
    {
     "name": "stderr",
     "output_type": "stream",
     "text": [
      "Plotting: 100%|██████████| 5/5 [13:12<00:00, 158.54s/it]\n"
     ]
    },
    {
     "name": "stdout",
     "output_type": "stream",
     "text": [
      "\n",
      "\n",
      "\n",
      "#########################################\n",
      "Abstraction level: 0.12\n",
      "abstract states: 1481\n",
      "Concrete states 424962\n",
      "ratio 0.003485017483916209\n",
      "********************** reporting the result of the model **************************\n",
      "The score for train data is 1.0\n",
      "The score for test data is 0.9878787878787879\n",
      "\n",
      "\n",
      "--------------------------------------recall---------------------------------\n",
      "the test recall for the class yes is 0.9078947368421053\n",
      "the test recall for the class no is 0.9982876712328768\n",
      "the training recall for the class yes is 1.0\n",
      "the training recall for the class no is 1.0\n",
      "\n",
      "\n",
      "--------------------------------------precision------------------------------\n",
      "the test precision for the class yes is 0.9857142857142858\n",
      "the test precision for the class no is 0.988135593220339\n",
      "the training precision for the class yes is 1.0\n",
      "the training precision for the class no is 1.0\n",
      "\n",
      "\n",
      "\n",
      "              precision    recall  f1-score   support\n",
      "\n",
      "         NO        0.99      1.00      0.99       584\n",
      "         yes       0.99      0.91      0.95        76\n",
      "\n",
      "    accuracy                           0.99       660\n",
      "   macro avg       0.99      0.95      0.97       660\n",
      "weighted avg       0.99      0.99      0.99       660\n",
      "\n",
      "\n",
      "\n",
      "specifity : 0.9982876712328768\n",
      "\n",
      "\n",
      "--------------------------------------confusion----------------------------\n",
      "The confusion Matrix:\n",
      "[[583   1]\n",
      " [  7  69]]\n",
      "the accuracy score in 0.9878787878787879\n",
      "\n",
      "\n",
      "********************** plotting the confusion matrix & ROC curve **************************\n"
     ]
    },
    {
     "name": "stderr",
     "output_type": "stream",
     "text": [
      "c:\\Users\\Student\\Desktop\\vs_git\\.virtualenvs\\venv\\lib\\site-packages\\sklearn\\utils\\deprecation.py:87: FutureWarning: Function plot_confusion_matrix is deprecated; Function `plot_confusion_matrix` is deprecated in 1.0 and will be removed in 1.2. Use one of the class methods: ConfusionMatrixDisplay.from_predictions or ConfusionMatrixDisplay.from_estimator.\n",
      "  warnings.warn(msg, category=FutureWarning)\n",
      "c:\\Users\\Student\\Desktop\\vs_git\\.virtualenvs\\venv\\lib\\site-packages\\sklearn\\utils\\deprecation.py:87: FutureWarning: Function plot_roc_curve is deprecated; Function `plot_roc_curve` is deprecated in 1.0 and will be removed in 1.2. Use one of the class methods: RocCurveDisplay.from_predictions or RocCurveDisplay.from_estimator.\n",
      "  warnings.warn(msg, category=FutureWarning)\n"
     ]
    },
    {
     "data": {
      "image/png": "[encoded data removed]",
      "text/plain": [
       "<Figure size 432x288 with 2 Axes>"
      ]
     },
     "metadata": {
      "needs_background": "light"
     },
     "output_type": "display_data"
    },
    {
     "data": {
      "image/png": "[encoded data removed]",
      "text/plain": [
       "<Figure size 432x288 with 1 Axes>"
      ]
     },
     "metadata": {
      "needs_background": "light"
     },
     "output_type": "display_data"
    },
    {
     "name": "stdout",
     "output_type": "stream",
     "text": [
      "Number of test episodes: 1000\n",
      "Number of episodes to plot: 50\n"
     ]
    },
    {
     "name": "stderr",
     "output_type": "stream",
     "text": [
      "Plotting: 100%|██████████| 5/5 [12:02<00:00, 144.60s/it]\n"
     ]
    },
    {
     "name": "stdout",
     "output_type": "stream",
     "text": [
      "\n",
      "\n",
      "\n",
      "#########################################\n",
      "Abstraction level: 0.14\n",
      "abstract states: 1172\n",
      "Concrete states 424962\n",
      "ratio 0.0027578936469613755\n",
      "********************** reporting the result of the model **************************\n",
      "The score for train data is 1.0\n",
      "The score for test data is 0.990909090909091\n",
      "\n",
      "\n",
      "--------------------------------------recall---------------------------------\n",
      "the test recall for the class yes is 0.9210526315789473\n",
      "the test recall for the class no is 1.0\n",
      "the training recall for the class yes is 1.0\n",
      "the training recall for the class no is 1.0\n",
      "\n",
      "\n",
      "--------------------------------------precision------------------------------\n",
      "the test precision for the class yes is 1.0\n",
      "the test precision for the class no is 0.9898305084745763\n",
      "the training precision for the class yes is 1.0\n",
      "the training precision for the class no is 1.0\n",
      "\n",
      "\n",
      "\n",
      "              precision    recall  f1-score   support\n",
      "\n",
      "         NO        0.99      1.00      0.99       584\n",
      "         yes       1.00      0.92      0.96        76\n",
      "\n",
      "    accuracy                           0.99       660\n",
      "   macro avg       0.99      0.96      0.98       660\n",
      "weighted avg       0.99      0.99      0.99       660\n",
      "\n",
      "\n",
      "\n",
      "specifity : 1.0\n",
      "\n",
      "\n",
      "--------------------------------------confusion----------------------------\n",
      "The confusion Matrix:\n",
      "[[584   0]\n",
      " [  6  70]]\n",
      "the accuracy score in 0.990909090909091\n",
      "\n",
      "\n",
      "********************** plotting the confusion matrix & ROC curve **************************\n"
     ]
    },
    {
     "name": "stderr",
     "output_type": "stream",
     "text": [
      "c:\\Users\\Student\\Desktop\\vs_git\\.virtualenvs\\venv\\lib\\site-packages\\sklearn\\utils\\deprecation.py:87: FutureWarning: Function plot_confusion_matrix is deprecated; Function `plot_confusion_matrix` is deprecated in 1.0 and will be removed in 1.2. Use one of the class methods: ConfusionMatrixDisplay.from_predictions or ConfusionMatrixDisplay.from_estimator.\n",
      "  warnings.warn(msg, category=FutureWarning)\n",
      "c:\\Users\\Student\\Desktop\\vs_git\\.virtualenvs\\venv\\lib\\site-packages\\sklearn\\utils\\deprecation.py:87: FutureWarning: Function plot_roc_curve is deprecated; Function `plot_roc_curve` is deprecated in 1.0 and will be removed in 1.2. Use one of the class methods: RocCurveDisplay.from_predictions or RocCurveDisplay.from_estimator.\n",
      "  warnings.warn(msg, category=FutureWarning)\n"
     ]
    },
    {
     "data": {
      "image/png": "[encoded data removed]",
      "text/plain": [
       "<Figure size 432x288 with 2 Axes>"
      ]
     },
     "metadata": {
      "needs_background": "light"
     },
     "output_type": "display_data"
    },
    {
     "data": {
      "image/png": "[encoded data removed]",
      "text/plain": [
       "<Figure size 432x288 with 1 Axes>"
      ]
     },
     "metadata": {
      "needs_background": "light"
     },
     "output_type": "display_data"
    },
    {
     "name": "stdout",
     "output_type": "stream",
     "text": [
      "Number of test episodes: 1000\n",
      "Number of episodes to plot: 50\n"
     ]
    },
    {
     "name": "stderr",
     "output_type": "stream",
     "text": [
      "Plotting: 100%|██████████| 5/5 [10:16<00:00, 123.24s/it]\n"
     ]
    },
    {
     "name": "stdout",
     "output_type": "stream",
     "text": [
      "\n",
      "\n",
      "\n",
      "#########################################\n",
      "Abstraction level: 0.15\n",
      "abstract states: 1081\n",
      "Concrete states 424962\n",
      "ratio 0.002543756853553965\n",
      "********************** reporting the result of the model **************************\n",
      "The score for train data is 1.0\n",
      "The score for test data is 0.9924242424242424\n",
      "\n",
      "\n",
      "--------------------------------------recall---------------------------------\n",
      "the test recall for the class yes is 0.9342105263157895\n",
      "the test recall for the class no is 1.0\n",
      "the training recall for the class yes is 1.0\n",
      "the training recall for the class no is 1.0\n",
      "\n",
      "\n",
      "--------------------------------------precision------------------------------\n",
      "the test precision for the class yes is 1.0\n",
      "the test precision for the class no is 0.9915110356536503\n",
      "the training precision for the class yes is 1.0\n",
      "the training precision for the class no is 1.0\n",
      "\n",
      "\n",
      "\n",
      "              precision    recall  f1-score   support\n",
      "\n",
      "         NO        0.99      1.00      1.00       584\n",
      "         yes       1.00      0.93      0.97        76\n",
      "\n",
      "    accuracy                           0.99       660\n",
      "   macro avg       1.00      0.97      0.98       660\n",
      "weighted avg       0.99      0.99      0.99       660\n",
      "\n",
      "\n",
      "\n",
      "specifity : 1.0\n",
      "\n",
      "\n",
      "--------------------------------------confusion----------------------------\n",
      "The confusion Matrix:\n",
      "[[584   0]\n",
      " [  5  71]]\n",
      "the accuracy score in 0.9924242424242424\n",
      "\n",
      "\n",
      "********************** plotting the confusion matrix & ROC curve **************************\n"
     ]
    },
    {
     "name": "stderr",
     "output_type": "stream",
     "text": [
      "c:\\Users\\Student\\Desktop\\vs_git\\.virtualenvs\\venv\\lib\\site-packages\\sklearn\\utils\\deprecation.py:87: FutureWarning: Function plot_confusion_matrix is deprecated; Function `plot_confusion_matrix` is deprecated in 1.0 and will be removed in 1.2. Use one of the class methods: ConfusionMatrixDisplay.from_predictions or ConfusionMatrixDisplay.from_estimator.\n",
      "  warnings.warn(msg, category=FutureWarning)\n",
      "c:\\Users\\Student\\Desktop\\vs_git\\.virtualenvs\\venv\\lib\\site-packages\\sklearn\\utils\\deprecation.py:87: FutureWarning: Function plot_roc_curve is deprecated; Function `plot_roc_curve` is deprecated in 1.0 and will be removed in 1.2. Use one of the class methods: RocCurveDisplay.from_predictions or RocCurveDisplay.from_estimator.\n",
      "  warnings.warn(msg, category=FutureWarning)\n"
     ]
    },
    {
     "data": {
      "image/png": "[encoded data removed]",
      "text/plain": [
       "<Figure size 432x288 with 2 Axes>"
      ]
     },
     "metadata": {
      "needs_background": "light"
     },
     "output_type": "display_data"
    },
    {
     "data": {
      "image/png": "[encoded data removed]",
      "text/plain": [
       "<Figure size 432x288 with 1 Axes>"
      ]
     },
     "metadata": {
      "needs_background": "light"
     },
     "output_type": "display_data"
    },
    {
     "name": "stdout",
     "output_type": "stream",
     "text": [
      "Number of test episodes: 1000\n",
      "Number of episodes to plot: 50\n"
     ]
    },
    {
     "name": "stderr",
     "output_type": "stream",
     "text": [
      "Plotting: 100%|██████████| 5/5 [09:29<00:00, 113.97s/it]\n"
     ]
    },
    {
     "name": "stdout",
     "output_type": "stream",
     "text": [
      "\n",
      "\n",
      "\n",
      "#########################################\n",
      "Abstraction level: 0.17\n",
      "abstract states: 908\n",
      "Concrete states 424962\n",
      "ratio 0.002136661630922294\n",
      "********************** reporting the result of the model **************************\n",
      "The score for train data is 1.0\n",
      "The score for test data is 0.9924242424242424\n",
      "\n",
      "\n",
      "--------------------------------------recall---------------------------------\n",
      "the test recall for the class yes is 0.9342105263157895\n",
      "the test recall for the class no is 1.0\n",
      "the training recall for the class yes is 1.0\n",
      "the training recall for the class no is 1.0\n",
      "\n",
      "\n",
      "--------------------------------------precision------------------------------\n",
      "the test precision for the class yes is 1.0\n",
      "the test precision for the class no is 0.9915110356536503\n",
      "the training precision for the class yes is 1.0\n",
      "the training precision for the class no is 1.0\n",
      "\n",
      "\n",
      "\n",
      "              precision    recall  f1-score   support\n",
      "\n",
      "         NO        0.99      1.00      1.00       584\n",
      "         yes       1.00      0.93      0.97        76\n",
      "\n",
      "    accuracy                           0.99       660\n",
      "   macro avg       1.00      0.97      0.98       660\n",
      "weighted avg       0.99      0.99      0.99       660\n",
      "\n",
      "\n",
      "\n",
      "specifity : 1.0\n",
      "\n",
      "\n",
      "--------------------------------------confusion----------------------------\n",
      "The confusion Matrix:\n",
      "[[584   0]\n",
      " [  5  71]]\n",
      "the accuracy score in 0.9924242424242424\n",
      "\n",
      "\n",
      "********************** plotting the confusion matrix & ROC curve **************************\n"
     ]
    },
    {
     "name": "stderr",
     "output_type": "stream",
     "text": [
      "c:\\Users\\Student\\Desktop\\vs_git\\.virtualenvs\\venv\\lib\\site-packages\\sklearn\\utils\\deprecation.py:87: FutureWarning: Function plot_confusion_matrix is deprecated; Function `plot_confusion_matrix` is deprecated in 1.0 and will be removed in 1.2. Use one of the class methods: ConfusionMatrixDisplay.from_predictions or ConfusionMatrixDisplay.from_estimator.\n",
      "  warnings.warn(msg, category=FutureWarning)\n",
      "c:\\Users\\Student\\Desktop\\vs_git\\.virtualenvs\\venv\\lib\\site-packages\\sklearn\\utils\\deprecation.py:87: FutureWarning: Function plot_roc_curve is deprecated; Function `plot_roc_curve` is deprecated in 1.0 and will be removed in 1.2. Use one of the class methods: RocCurveDisplay.from_predictions or RocCurveDisplay.from_estimator.\n",
      "  warnings.warn(msg, category=FutureWarning)\n"
     ]
    },
    {
     "data": {
      "image/png": "[encoded data removed]",
      "text/plain": [
       "<Figure size 432x288 with 2 Axes>"
      ]
     },
     "metadata": {
      "needs_background": "light"
     },
     "output_type": "display_data"
    },
    {
     "data": {
      "image/png": "[encoded data removed]",
      "text/plain": [
       "<Figure size 432x288 with 1 Axes>"
      ]
     },
     "metadata": {
      "needs_background": "light"
     },
     "output_type": "display_data"
    },
    {
     "name": "stdout",
     "output_type": "stream",
     "text": [
      "Number of test episodes: 1000\n",
      "Number of episodes to plot: 50\n"
     ]
    },
    {
     "name": "stderr",
     "output_type": "stream",
     "text": [
      "Plotting: 100%|██████████| 5/5 [09:45<00:00, 117.02s/it]\n"
     ]
    }
   ],
   "source": [
    "#this part could be easily automated we did it manually to analize the results\n",
    "\n",
    "EPSILON = 0.05\n",
    "THRESHOLD = 70\n",
    "d_set=[0.11, 0.12,0.14,0.15,0.17]\n",
    "\n",
    "\n",
    "Drive_model  =\"c:/Users/Student/Desktop/vs_git/HazardDetection/Final/Trained_agent/dqn-168.pkl\"\n",
    "\n",
    "\n",
    "env2 = gym.make('CartPole-v1')\n",
    "env2 = StoreWrapper(env2)\n",
    "model = DQN('MlpPolicy',env=env2, verbose=1)\n",
    "model = model.load(Drive_model)\n",
    "\n",
    "with open(f'{Dataset_path}/Random_episodes/FRT_68_training.pkl', 'rb') as file2:\n",
    "    Training_episodes = pickle.load(file2)\n",
    "print('Number of episodes:',len(Training_episodes))\n",
    "for d in d_set:\n",
    "    print(f'\\n\\n\\n#########################################\\nAbstraction level: {d}')\n",
    "    # unique1 = CartPole_config.unique1\n",
    "    #read unique1 from pickle\n",
    "    Read_from_data = False\n",
    "    if Read_from_data:\n",
    "        assert False\n",
    "        with open(f'{Dataset_path}/ABS/Abstraction_data_final_{d}.pickle', 'rb') as file2:\n",
    "            unique1 = pickle.load(file2)\n",
    "        uni1=np.array(unique1)\n",
    "    if not Read_from_data:\n",
    "        # print('Reading unique1 from file')\n",
    "        # assert False\n",
    "        unique1,uni1 = Abstract_classes(Training_episodes,d,model)\n",
    "        with open(f'{Dataset_path}ABS/Abstraction_data_final_{d}.pickle', 'wb') as f:\n",
    "            pickle.dump(unique1, f)\n",
    "\n",
    "\n",
    "    data1_x_b, data1_y_b, data1_y_f_b = ML_first_representation_func_based(d,is_functional_fault,is_reward_fault,model,Training_episodes,unique1,EPSILON,THRESHOLD)\n",
    "\n",
    "\n",
    "    #########################################################  Train ML - Functional fault predictor #############\n",
    "\n",
    "\n",
    "    X_train_f, X_test_f, y_train_f, y_test_f = train_test_split(data1_x_b, data1_y_f_b, test_size=0.30, random_state=42)\n",
    "    RF_FF_1rep = RandomForestClassifier(random_state=0, class_weight='balanced')\n",
    "    RF_FF_1rep.fit(X_train_f,y_train_f)\n",
    "    report(RF_FF_1rep,X_train_f,y_train_f,X_test_f,y_test_f)\n",
    "    #save RF_FF_1rep\n",
    "    with open(f'{Dataset_path}/ML_models/RF_FF_1rep_{d}.pickle', 'wb') as file2:\n",
    "        pickle.dump(RF_FF_1rep, file2)\n",
    "\n",
    "    ######################################################### Read FRT and FRTS from pickle #############\n",
    "    with open(f'{Dataset_path}/Random_episodes/FRT_test_68.pkl', 'rb') as file2:\n",
    "        FRT = pickle.load(file2)\n",
    "    print(\"Number of test episodes:\",len(FRT))\n",
    "    # with open(f'C:/Users/Student/Desktop/vs_git/HazardDetection/Data_Cartpole/Random_episodes/FRT.pkl', 'rb') as file2:\n",
    "    #     FRTS = pickle.load(file2)\n",
    "    # print(len(FRT))\n",
    "    # assert len(FRT)<100\n",
    "    #load hd model from pickle\n",
    "    # with open(f'c:/Users/Student/Desktop/vs_git/HazardDetection/Data_Cartpole/ML_models/RF_FF_1rep_{d}.pickle', 'wb') as file2:\n",
    "    #     pickle.dump(RF_FF_1rep, file2)\n",
    "    # HD_model_path1 = f'C:/Users/Student/Desktop/vs_git/HazardDetection/Data_Cartpole/ML_models'\n",
    "    # HD_model_path = f'{HD_model_path1}/RF_FF_1rep_{d}.pickle'\n",
    "    # with open(HD_model_path, 'rb') as file2:\n",
    "    #     HD_model = pickle.load(file2)\n",
    "    #########################################################  Plot Risk and Position #############\n",
    "    newpath = f'/Abs_{d}'\n",
    "    if not os.path.exists(newpath):\n",
    "        os.makedirs(newpath)\n",
    "    #plot risk and position for 200 episodes\n",
    "    Num_plot = 50\n",
    "    if len(FRT)<Num_plot:\n",
    "        print(\"number of available episodes is less than {Num_plot}}\")\n",
    "        Num_plot = len(FRT)\n",
    "    print(\"Number of episodes to plot:\",Num_plot)\n",
    "    for i in tqdm(range(0,Num_plot,10), desc=\"Plotting\", total=Num_plot//10):\n",
    "        Plot_all(FRT[i:i+10],d,unique1,model,RF_FF_1rep,save=True,show=False,data_chunk=i,path=newpath)"
   ]
  }
 ],
 "metadata": {
  "kernelspec": {
   "display_name": "venv",
   "language": "python",
   "name": "python3"
  },
  "language_info": {
   "codemirror_mode": {
    "name": "ipython",
    "version": 3
   },
   "file_extension": ".py",
   "mimetype": "text/x-python",
   "name": "python",
   "nbconvert_exporter": "python",
   "pygments_lexer": "ipython3",
   "version": "3.7.8"
  },
  "orig_nbformat": 4,
  "vscode": {
   "interpreter": {
    "hash": "704142a53cc302aff65c9d37244a965c0815bdc7e36e6b2c7e9e17e0904d256a"
   }
  }
 },
 "nbformat": 4,
 "nbformat_minor": 2
}
