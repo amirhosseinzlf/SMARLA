{
 "cells": [
  {
   "cell_type": "code",
   "execution_count": null,
   "metadata": {},
   "outputs": [],
   "source": [
    "import tensorflow as tf\n",
    "import gym\n",
    "import numpy as np\n",
    "from stable_baselines import DQN\n",
    "from copy import deepcopy\n",
    "import math\n",
    "from gym.spaces import Discrete, Dict, Box\n",
    "from gym import spaces\n",
    "from random import seed\n",
    "import random \n",
    "from gym import Env\n",
    "from datetime import datetime\n",
    "import sys\n",
    "import time\n",
    "import pickle\n",
    "import stable_baselines\n",
    "import sklearn\n",
    "import numpy\n",
    "from sklearn import tree , svm \n",
    "import pandas as pd\n",
    "from sklearn.model_selection import train_test_split\n",
    "from sklearn.naive_bayes import GaussianNB , CategoricalNB\n",
    "from sklearn.neighbors import KNeighborsClassifier\n",
    "from sklearn import preprocessing\n",
    "from sklearn.metrics import confusion_matrix\n",
    "from sklearn.metrics import plot_confusion_matrix\n",
    "import matplotlib.pyplot as plt\n",
    "from sklearn import metrics\n",
    "from sklearn.metrics import accuracy_score,balanced_accuracy_score\n",
    "from itertools import product\n",
    "from sklearn.utils import resample\n",
    "from sklearn.model_selection import KFold , RepeatedKFold\n",
    "from sklearn.metrics import f1_score\n",
    "from sklearn import impute\n",
    "import statistics\n",
    "from scipy import stats\n",
    "from copy import deepcopy\n",
    "from sklearn.ensemble import ExtraTreesClassifier\n",
    "from sklearn.metrics import classification_report\n",
    "from sklearn.ensemble import RandomForestClassifier\n",
    "from math import ceil\n",
    "import copy\n",
    "import sys\n",
    "from sklearn.metrics import jaccard_score\n",
    "import time\n",
    "import multiprocessing\n",
    "from pymoo.algorithms.nsga2 import calc_crowding_distance\n",
    "sys.path.append('lib/')\n",
    "import subprocess\n",
    "import logging\n",
    "from sklearn.utils import shuffle\n",
    "import csv\n",
    "from csv import reader\n",
    "import os\n",
    "from sklearn.metrics import balanced_accuracy_score, precision_score, recall_score, f1_score, accuracy_score\n"
   ]
  },
  {
   "cell_type": "code",
   "execution_count": null,
   "metadata": {},
   "outputs": [],
   "source": [
    "\n",
    "class StoreAndTerminateWrapper(gym.Wrapper):\n",
    "  ''''\n",
    "  :param env: (gym.Env) Gym environment that will be wrapped\n",
    "  :param max_steps: (int) Max number of steps per episode\n",
    "  '''\n",
    "  def __init__(self, env):\n",
    "    # Call the parent constructor, so we can access self.env later\n",
    "    super(StoreAndTerminateWrapper, self).__init__(env)\n",
    "    self.max_steps = 200\n",
    "    # Counter of steps per episode\n",
    "    self.current_step = 0\n",
    "    self.mem = []\n",
    "    self.TotalReward = 0.0 \n",
    "    self.env = env\n",
    "    self.first_state = 0\n",
    "    self.first_obs = 0\n",
    "    self.prev_obs = 0 \n",
    "    self.states_list = []\n",
    "    self.info = {}\n",
    "  \n",
    "  def reset(self):\n",
    "    \"\"\"\n",
    "    Reset the environment \n",
    "    \"\"\"\n",
    "    # Reset the counter\n",
    "    self.current_step = 0\n",
    "    obs =self.env.reset()\n",
    "    self.TotalReward = 0.0\n",
    "    self.first_obs = obs\n",
    "    return obs\n",
    "\n",
    "  def step(self, action):\n",
    "    \"\"\"\n",
    "    In this function we store the initial state as well as the memory of the agent\n",
    "    :param action: ([float] or int) Action taken by the agent\n",
    "    :return: (np.ndarray, float, bool, dict) observation, reward, is the episode over?, additional informations\n",
    "    \"\"\"\n",
    "    if self.current_step == 0: #store initial state\n",
    "      self.prev_obs = self.first_obs\n",
    "      self.first_state = deepcopy(self.env)\n",
    "      self.states_list.append(self.first_state)\n",
    "    # print(\"t\",self.env.state[0],\"reward\",self.TotalReward)\n",
    "    # if self.env.state[0]==-1.2:\n",
    "    #   print(\"-1.2\")\n",
    "    #   obs = self.reset()\n",
    "    #   reward = -200\n",
    "    #   done = True\n",
    "    #   return obs, reward, done, False\n",
    "    self.current_step += 1\n",
    "    obs, reward, done, info = self.env.step(action)\n",
    "    self.TotalReward += reward\n",
    "    self.mem.append(tuple((self.prev_obs,action)))\n",
    "    self.prev_obs = obs\n",
    "    if self.current_step >= self.max_steps:\n",
    "      done = True\n",
    "      # Update the info dict to signal that the limit was exceeded\n",
    "    if obs[0]<=-1.2:\n",
    "      done = True\n",
    "      reward = -201 - self.TotalReward\n",
    "      self.TotalReward =-200\n",
    "      # print(\"fff\",reward)\n",
    "    if done:\n",
    "      self.mem.append(tuple(('done',self.TotalReward)))\n",
    "    self.info['mem'] = self.mem\n",
    "    self.info['state'] = self.states_list\n",
    "    # self.mem.append(tuple(obs,action))\n",
    "    return obs, reward, done, info\n",
    "\n",
    "  def set_state(self, state):\n",
    "    \"\"\"\n",
    "    :param state: initial state of the episode\n",
    "    :return: environment is updated and observations is returned\n",
    "    \"\"\"\n",
    "    self.env = deepcopy(state)\n",
    "    obs = np.array(list(self.env.unwrapped.state))\n",
    "    self.current_step = 0\n",
    "    self.TotalReward = 0.0\n",
    "    self.first_obs = obs\n",
    "    return obs\n",
    "\n",
    "\n",
    "def abstract_state_general(model,state1,d):\n",
    "  if type(state1) == str:\n",
    "    if state1 == 'done':\n",
    "      return 'end'\n",
    "  q_values = model.step_model.step([state1])\n",
    "  return tuple([ceil(q_value/d) for q_value in q_values[1][0]])\n",
    "\n",
    "def Abstract_classes(ep,abstraction_d,model):\n",
    "  d=abstraction_d\n",
    "  abs_states1=[]\n",
    "  for episode in ep:\n",
    "    for state,action in episode:\n",
    "      abs_st = abstract_state_general(model,state,d)\n",
    "      if abs_st == 'end':\n",
    "        continue\n",
    "      abs_states1.append(abs_st)\n",
    "  unique1=list(set(abs_states1))\n",
    "  uni1 = np.array(unique1)\n",
    "  a=len(abs_states1)\n",
    "  b=len(set(abs_states1))\n",
    "  print(\"abstract states:\",b)\n",
    "  print(\"Concrete states\",a)\n",
    "  print(\"ratio\",b/a)\n",
    "  return unique1,uni1\n",
    "\n",
    "def ML_first_representation_func_based(Abs_d,functional_func,reward_func,model,input_episodes,unique1):\n",
    "  \"\"\"\n",
    "  TO-DO : fix epsilon and threshold\n",
    "  \"\"\"\n",
    "  d = Abs_d\n",
    "  data1_x_b=[]\n",
    "  data1_y_b= [] \n",
    "  data1_y_f_b = []\n",
    "  for i, episode in enumerate(input_episodes):\n",
    "    record = np.zeros(len(unique1))\n",
    "    temp_flag = False\n",
    "    for state, action in episode:\n",
    "      ab = abstract_state_general(model,state,d)\n",
    "      if ab == 'end':\n",
    "        assert not temp_flag, f'Episode data problem, two terminations in one episode. Episode number{i}'\n",
    "        temp_flag = True\n",
    "        # print(action)\n",
    "        # print(functional_func(episode))\n",
    "        if functional_func(episode):\n",
    "          data1_y_f_b.append(1)\n",
    "        else:\n",
    "          data1_y_f_b.append(0)\n",
    "        if reward_func(episode):\n",
    "          data1_y_b.append(1)\n",
    "        else:\n",
    "          data1_y_b.append(0)\n",
    "        # print(\"end\\n\\n\\n\")\n",
    "        # print(len(data1_y_b),\"len(input_episodes)\",len(input_episodes))\n",
    "        continue\n",
    "        # print(state[0])\n",
    "      ind = unique1.index(ab)\n",
    "      record[ind] = 1\n",
    "      # print(state, action)\n",
    "      assert len(data1_y_b)<len(input_episodes), \"assert\"\n",
    "      # if you want the frequency go with the next line \n",
    "      # record[ind] += 1\n",
    "    data1_x_b.append(record)\n",
    "\n",
    "  return data1_x_b, data1_y_b, data1_y_f_b\n",
    "\n",
    "def report(model2,x_train, y_train,x_test, y_test):\n",
    "  print(\"********************** reporting the result of the model **************************\")\n",
    "  print('The score for train data is {0}'.format(model2.score(x_train,y_train)))\n",
    "  print('The score for test data is {0}'.format(model2.score(x_test,y_test)))\n",
    "\n",
    "\n",
    "  predictions_train = model2.predict(x_train)\n",
    "  predictions_test = model2.predict(x_test)\n",
    "\n",
    "  print(\"\\n\\n--------------------------------------recall---------------------------------\")\n",
    "\n",
    "  print('the test recall for the class yes is {0}'.format(metrics.recall_score(y_test,predictions_test, pos_label=1)))\n",
    "  print('the test recall for the class no is {0}'.format(metrics.recall_score(y_test,predictions_test, pos_label=0)))\n",
    "\n",
    "  print('the training recall for the class yes is {0}'.format(metrics.recall_score(y_train,predictions_train, pos_label=1)))\n",
    "  print('the training recall for the class no is {0}'.format(metrics.recall_score(y_train,predictions_train, pos_label=0)))\n",
    "\n",
    "\n",
    "  print(\"\\n\\n--------------------------------------precision------------------------------\")\n",
    "\n",
    "\n",
    "  print('the test precision for the class yes is {0}'.format(metrics.precision_score(y_test,predictions_test, pos_label=1)))\n",
    "  print('the test precision for the class no is {0}'.format(metrics.precision_score(y_test,predictions_test, pos_label=0)))\n",
    "\n",
    "  print('the training precision for the class yes is {0}'.format(metrics.precision_score(y_train,predictions_train, pos_label=1)))\n",
    "  print('the training precision for the class no is {0}'.format(metrics.precision_score(y_train,predictions_train, pos_label=0)))\n",
    "\n",
    "  print(\"\\n\\n\")\n",
    "  print(classification_report(y_test, predictions_test, target_names=['NO ','yes']))\n",
    "\n",
    "  tn, fp, fn, tp = confusion_matrix(y_test, predictions_test).ravel()\n",
    "  specificity = tn / (tn+fp)\n",
    "  print(\"\\n\\nspecifity :\",specificity)\n",
    "  print(\"\\n\\n--------------------------------------confusion----------------------------\")\n",
    "  CM = metrics.confusion_matrix(y_test, predictions_test)\n",
    "  print(\"The confusion Matrix:\")\n",
    "  print(CM)\n",
    "  print('the accuracy score in {0}\\n\\n'.format(accuracy_score(y_test, predictions_test)))\n",
    "  print(\"********************** plotting the confusion matrix & ROC curve **************************\")\n",
    "  plot_confusion_matrix(model2, x_test, y_test)\n",
    "  metrics.plot_roc_curve(model2, x_test, y_test) \n",
    "  plt.show()\n",
    "\n",
    "# write function for load\n",
    "\n",
    "\n",
    "def random_test_2(model, env, Num):\n",
    "  # start= len(info['mem'])\n",
    "  obs=env.reset()\n",
    "  counter = 1\n",
    "  episode_reward = 0.0\n",
    "  for i in range(Num):\n",
    "    action, _ = model.predict(obs, deterministic=True)\n",
    "    obs, reward, done, info = env.step(action)\n",
    "    episode_reward += reward\n",
    "    if done:\n",
    "      counter += 1\n",
    "      end = i\n",
    "      episode_reward = 0.0\n",
    "      obs = env.reset()\n",
    "  iter = deepcopy(counter)\n",
    "  u=1\n",
    "  while iter>1:\n",
    "    if env.info['mem'][-u][0]=='done':\n",
    "      lastpoint = -u\n",
    "      iter -= 1\n",
    "    u+=1\n",
    "  fin =Num - end\n",
    "  start = -Num -counter\n",
    "  randomtest = env.info['mem'][lastpoint:-fin]\n",
    "  ran_state = env.info['state'][(-counter+1):-1]\n",
    "  return randomtest , ran_state\n",
    "\n",
    "def fix_testing(testing_episodes,testing_states,Env2):\n",
    "  buffer =[] \n",
    "  episodes_set = []\n",
    "  j=0\n",
    "  for i in range(len(testing_episodes)):\n",
    "    if testing_episodes[i][0] == 'done':\n",
    "      if i == 0:\n",
    "        continue\n",
    "      buffer.append(testing_episodes[i])\n",
    "      episodes_set.append(buffer)\n",
    "      buffer=[]\n",
    "    else:\n",
    "      buffer.append(testing_episodes[i])\n",
    "      # np.array(mtc_wrapped.set_state(qq[0]),dtype=\"float32\")\n",
    "  if not (episodes_set[0][0][0]==np.array(Env2.set_state(testing_states[0]),dtype=\"float32\")).all():\n",
    "    del testing_states[0]\n",
    "  if not (episodes_set[0][0][0]==np.array(Env2.set_state(testing_states[0]),dtype=\"float32\")).all():\n",
    "    assert False, 'problem in starting states'\n",
    "  if len(episodes_set)!=len(testing_states):\n",
    "    del testing_states[-1]\n",
    "  if len(episodes_set)!=len(testing_states):\n",
    "    assert False, 'problem in data prepration'\n",
    "  return episodes_set , testing_states\n",
    "\n",
    "def is_functional_fault(episode):\n",
    "  epsilon = 0.1\n",
    "  env = mtc_wrapped\n",
    "  reward = episode[-1][1]\n",
    "  last_state = episode[-2][0][0]\n",
    "  if last_state<(env.low[0]+epsilon) and reward == -200:\n",
    "    return True\n",
    "  else:\n",
    "    return False\n",
    "\n",
    "\n",
    "def is_reward_fault(episode):\n",
    "  RF_threshold = -180\n",
    "  reward = episode[-1][1]\n",
    "  # print(len(episode))\n",
    "  if reward<RF_threshold and len(episode)>200:\n",
    "    return True\n",
    "  else:\n",
    "    return False\n",
    "\n",
    "def is_functional_fault_last_state(last_step,done_step):\n",
    "  epsilon = 0.1\n",
    "  env = mtc_wrapped\n",
    "  assert done_step[0]=='done', \"Wrong input!\"\n",
    "  reward = done_step[1]\n",
    "  last_state = last_step[0][0]\n",
    "  if last_state<(env.low[0]+epsilon) and reward == -200:\n",
    "    return True\n",
    "  else:\n",
    "    return False\n",
    "\n",
    "\n",
    "def is_reward_fault_last_state(last_step,done_step):\n",
    "  RF_threshold = -180\n",
    "  assert done_step[0]=='done', \"Wrong input!\"\n",
    "  reward = done_step[1]\n",
    "  last_state = last_step[0][0]\n",
    "  # print(len(episode))\n",
    "  if reward<RF_threshold and not is_functional_fault_last_state(last_step,done_step):\n",
    "    return True\n",
    "  else:\n",
    "    return False\n",
    "\n",
    "def load_p(name):\n",
    "  with open(f'/content/drive/MyDrive/MC/{name}.pickle', 'rb') as file2:\n",
    "    to_what = pickle.load(file2)\n",
    "  return to_what\n",
    "def local_load_p(name):\n",
    "  with open(f'c:/Users/Student/Desktop/Data/{name}', 'rb') as file2:\n",
    "    to_what = pickle.load(file2)\n",
    "  return to_what\n",
    "\n"
   ]
  },
  {
   "attachments": {},
   "cell_type": "markdown",
   "metadata": {},
   "source": [
    "# plot functions"
   ]
  },
  {
   "cell_type": "code",
   "execution_count": null,
   "metadata": {},
   "outputs": [],
   "source": [
    "def translator(episode,model, d, unique5):\n",
    "  \"\"\"\n",
    "  thid function takes the concrete episodes and returns the encoded episodes \n",
    "  based on the presence and absence of the individuals  \n",
    "  :param 'episode': input episode\n",
    "  :param 'model': RL model\n",
    "  :param 'd': abstraction level = 1\n",
    "  :param 'unique5': abstract classes \n",
    "  :return: encoded episodse based on the presence and absence\n",
    "\n",
    "  \"\"\"\n",
    "  d=d\n",
    "  record = np.zeros(len(unique5))\n",
    "  for state, action in episode:\n",
    "    ab = abstract_state_general(model,state,d)\n",
    "    if ab == 'end':\n",
    "      continue\n",
    "    if ab in unique5:\n",
    "      ind = unique5.index(ab)\n",
    "      record[ind] = 1\n",
    "  return [record]\n",
    "\n",
    "def episode_player(episodes,d, abs_classes, model, monitor) -> list:\n",
    "  ''' This function replays the episodes and returns the risk of each step in each episode\n",
    "  :param 'episodes': input episodes\n",
    "  :param 'd': abstraction level \n",
    "  :param 'abs_classes': abstract classes\n",
    "  :param 'model': RL model\n",
    "  :param 'monitor': ML model\n",
    "  :return: risk of each step in each episode\n",
    "  \n",
    "  '''\n",
    "  episodes_risk=[]\n",
    "  for episode in episodes:\n",
    "    risk_array=[]\n",
    "    for step in range(len(episode)-1):\n",
    "      monitoring_data = translator(episode[:step],model,d,abs_classes)\n",
    "      Risk = monitor.predict_proba(monitoring_data)\n",
    "      risk_array.append(Risk[0][1])\n",
    "    episodes_risk.append(risk_array)\n",
    "  return episodes_risk\n",
    "\n",
    "def single_episode_player(episode,d, abs_classes, model, monitor) -> list:\n",
    "  ''' This function replays one episodes and returns the risk of each step in episode\n",
    "  :param 'episode': input episode\n",
    "  :param 'd': abstraction level\n",
    "  :param 'abs_classes': abstract classes\n",
    "  :param 'model': RL model\n",
    "  :param 'monitor': ML model\n",
    "  :return: risk of each step in episode\n",
    "  '''\n",
    "  risk_array=[]\n",
    "  for step in range(len(episode)-1):\n",
    "    monitoring_data = translator(episode[:step],model,d,abs_classes)\n",
    "    Risk = monitor.predict_proba(monitoring_data)\n",
    "    risk_array.append(Risk[0][1])\n",
    "  return risk_array\n",
    "\n",
    "def line_plot(data):\n",
    "    plt.figure(figsize=(20, 6))\n",
    "    for i in range(len(data)): \n",
    "        plt.plot( [i for i in range(len(data[i]))], data[i], label = f\"Episode {i}\")\n",
    "    # plt.plot(y, x, label = \"line 2\")\n",
    "        \n",
    "    plt.legend()\n",
    "    plt.show()\n",
    "\n",
    "def plot_positions(episodes):\n",
    "    plt.figure(figsize=(20, 6))\n",
    "    \n",
    "    for i in range(len(episodes)):\n",
    "        position =[]\n",
    "        position_arr =[]\n",
    "        for j in range(len(episodes[i])-1):\n",
    "            position.append(episodes[i][j][0][0])\n",
    "        position_arr.append(position)\n",
    "        plt.plot([i for i in range(len(position))], position, label = f\"Episode {i}\")\n",
    "        \n",
    "    plt.legend()\n",
    "    plt.show()\n",
    "\n",
    "def plot_velocity(episodes):\n",
    "    plt.figure(figsize=(20, 6))\n",
    "    \n",
    "    for i in range(len(episodes)):\n",
    "        velocity =[]\n",
    "        velocity_arr =[]\n",
    "        for j in range(len(episodes[i])-1):\n",
    "            velocity.append(episodes[i][j][0][1])\n",
    "        velocity_arr.append(velocity)\n",
    "        plt.plot([i for i in range(len(velocity))], velocity, label = f\"Episode {i}\")\n",
    "        \n",
    "    plt.legend()\n",
    "    plt.show()\n",
    "\n",
    "def position_extractor(episode):\n",
    "    position =[]\n",
    "    for i in range(len(episode)-1):\n",
    "        position.append(episode[i][0][0])\n",
    "    return position\n",
    "    \n",
    "def velocity_extractor(episode):\n",
    "    velocity =[]\n",
    "    for i in range(len(episode)-1):\n",
    "        velocity.append(episode[i][0][1])\n",
    "    return velocity\n",
    "\n",
    "\n",
    "def Plot_all(data, params,save=False,show=True,data_chunk=0,path='Plots/v2'):\n",
    "    '''plot risk and position snd velocity in one figure with 3 subplots\n",
    "    '''\n",
    "    d,unique1,model,RF_FF_1rep = params\n",
    "    fig, axs = plt.subplots(3,figsize=(20, 18))\n",
    "    for i in range(len(data)):\n",
    "        axs[0].plot([i for i in range(len(data[i])-1)], single_episode_player(data[i],d,unique1,model,RF_FF_1rep), label = f\"Episode {i}\")\n",
    "        axs[1].plot([i for i in range(len(data[i])-1)], position_extractor(data[i]), label = f\"Episode {i}\")\n",
    "        axs[2].plot([i for i in range(len(data[i])-1)], velocity_extractor(data[i]), label = f\"Episode {i}\")\n",
    "    axs[0].legend()\n",
    "    axs[0].set_title('Risk')\n",
    "    axs[1].set_title('Position')\n",
    "    axs[2].set_title('Velocity')\n",
    "    axs[1].legend()\n",
    "    axs[2].legend()\n",
    "    axs[0].set_ylim(-0.1,1.1)\n",
    "    current_time = datetime.now()\n",
    "    ID = current_time.strftime(\"%Y%m%d%H%M%S\")\n",
    "    if save:\n",
    "        fig.savefig(f'{path}/RPV_C{data_chunk}_{ID}.png')\n",
    "    plt.close()\n",
    "    \n"
   ]
  },
  {
   "attachments": {},
   "cell_type": "markdown",
   "metadata": {},
   "source": [
    "# Load model"
   ]
  },
  {
   "cell_type": "code",
   "execution_count": null,
   "metadata": {},
   "outputs": [],
   "source": [
    "#Address of the trained RL model \n",
    "Dataset_path = \"path to dataset\"\n",
    "\n",
    "Drive_model  =f\"{Dataset_path}/dqn-4-1-6-89946.zip\"\n",
    "\n",
    "mtc = gym.make('MountainCar-v0')\n",
    "mtc_wrapped = StoreAndTerminateWrapper(mtc)\n",
    "model = DQN('MlpPolicy',env=mtc_wrapped, verbose=1)\n",
    "model = model.load(Drive_model)\n",
    "\n"
   ]
  },
  {
   "cell_type": "markdown",
   "metadata": {},
   "source": [
    "# Training data generation"
   ]
  },
  {
   "cell_type": "code",
   "execution_count": 6,
   "metadata": {},
   "outputs": [
    {
     "name": "stderr",
     "output_type": "stream",
     "text": [
      "c:\\Users\\Student\\Desktop\\vs_git\\.virtualenvs\\venv\\lib\\site-packages\\ipykernel_launcher.py:210: FutureWarning: elementwise comparison failed; returning scalar instead, but in the future will perform elementwise comparison\n",
      "c:\\Users\\Student\\Desktop\\vs_git\\.virtualenvs\\venv\\lib\\site-packages\\ipykernel_launcher.py:225: FutureWarning: elementwise comparison failed; returning scalar instead, but in the future will perform elementwise comparison\n"
     ]
    },
    {
     "name": "stdout",
     "output_type": "stream",
     "text": [
      "Reward fault rate: 0.0\n",
      "Functional fault rate: 0.12542245587683065\n",
      "average Reward: -125.54750281637251\n",
      "average Lenght: 112.53360871197897\n"
     ]
    }
   ],
   "source": [
    "RT,RTS = random_test_2(model,mtc_wrapped,300_000)\n",
    "FRT,FRTS = fix_testing(RT,RTS,mtc_wrapped)\n",
    "#save FRT and FRTS as pickle\n",
    "training_size = 2200\n",
    "assert len(FRT) >= training_size\n",
    "with open(f'{Dataset_path}/Random_episodes/FRT_training.pickle', 'wb') as file2:\n",
    "    pickle.dump(FRT[:training_size], file2)\n",
    "with open(f'{Dataset_path}/Random_episodes/FRTS_training.pickle', 'wb') as file2:\n",
    "    pickle.dump(FRTS[:training_size], file2)\n",
    "\n",
    "RF=0\n",
    "FF=0\n",
    "Buff_reward = 0\n",
    "Buff_len = 0\n",
    "for test_episode in FRT:\n",
    "    Buff_reward += test_episode[-1][1]\n",
    "    Buff_len += (len(test_episode)-1)\n",
    "    if is_functional_fault(test_episode):\n",
    "        FF+=1\n",
    "    if is_reward_fault(test_episode):\n",
    "        RF+=1\n",
    "\n",
    "\n",
    "Functional_Fault_rate = FF/len(FRT)\n",
    "Reward_Fault_rate = RF/len(FRT)\n",
    "print(\"Reward fault rate:\",Reward_Fault_rate)\n",
    "print(\"Functional fault rate:\",Functional_Fault_rate)\n",
    "print(\"average Reward:\",Buff_reward/len(FRT))\n",
    "print(\"average Lenght:\",Buff_len/len(FRT))\n"
   ]
  },
  {
   "cell_type": "code",
   "execution_count": 6,
   "metadata": {},
   "outputs": [
    {
     "name": "stdout",
     "output_type": "stream",
     "text": [
      "Reward fault rate: 0.0\n",
      "Functional fault rate: 0.12681818181818183\n",
      "Average Reward: -125.61818181818182\n",
      "Average Lenght: 112.45954545454545\n",
      "Number of episodes: 2200\n",
      "Number of functional faulty episodes: 279\n"
     ]
    }
   ],
   "source": [
    "with open(f'{Dataset_path}/Random_episodes/FRT_training.pickle', 'rb') as file2:\n",
    "        FRT = pickle.load(file2)\n",
    "\n",
    "RF=0\n",
    "FF=0\n",
    "Buff_reward = 0\n",
    "Buff_len = 0\n",
    "for test_episode in FRT:\n",
    "    Buff_reward += test_episode[-1][1]\n",
    "    Buff_len += (len(test_episode)-1)\n",
    "    if is_functional_fault(test_episode):\n",
    "        FF+=1\n",
    "    if is_reward_fault(test_episode):\n",
    "        RF+=1\n",
    "\n",
    "\n",
    "Functional_Fault_rate = FF/len(FRT)\n",
    "Reward_Fault_rate = RF/len(FRT)\n",
    "print(\"Reward fault rate:\",Reward_Fault_rate)\n",
    "print(\"Functional fault rate:\",Functional_Fault_rate)\n",
    "print(\"Average Reward:\",Buff_reward/len(FRT))\n",
    "print(\"Average Lenght:\",Buff_len/len(FRT))\n",
    "print(\"Number of episodes:\",len(FRT))\n",
    "print(\"Number of functional faulty episodes:\",FF)"
   ]
  },
  {
   "cell_type": "markdown",
   "metadata": {},
   "source": [
    "# Test data generation"
   ]
  },
  {
   "cell_type": "code",
   "execution_count": null,
   "metadata": {},
   "outputs": [],
   "source": [
    "RT,RTS = random_test_2(model,mtc_wrapped,150_000)\n",
    "FRT,FRTS = fix_testing(RT,RTS,mtc_wrapped)\n",
    "#save FRT and FRTS as pickle\n",
    "test_size = 1000\n",
    "assert len(FRT) >= test_size\n",
    "with open(f'{Dataset_path}/Random_episodes/FRT.pickle', 'wb') as file2:\n",
    "    pickle.dump(FRT[:test_size], file2)\n",
    "with open(f'{Dataset_path}/Random_episodes/FRTS.pickle', 'wb') as file2:\n",
    "    pickle.dump(FRTS[:test_size], file2)"
   ]
  },
  {
   "cell_type": "code",
   "execution_count": null,
   "metadata": {},
   "outputs": [],
   "source": [
    "# for test dataset\n",
    "\n",
    "with open(f'{Dataset_path}/Random_episodes/FRT.pickle', 'rb') as file2:\n",
    "        FRT = pickle.load(file2)\n",
    "\n",
    "RF=0\n",
    "FF=0\n",
    "Buff_reward = 0\n",
    "Buff_len = 0\n",
    "for test_episode in FRT:\n",
    "    Buff_reward += test_episode[-1][1]\n",
    "    Buff_len += (len(test_episode)-1)\n",
    "    if is_functional_fault(test_episode):\n",
    "        FF+=1\n",
    "    if is_reward_fault(test_episode):\n",
    "        RF+=1\n",
    "\n",
    "\n",
    "Functional_Fault_rate = FF/len(FRT)\n",
    "Reward_Fault_rate = RF/len(FRT)\n",
    "print(\"Reward fault rate:\",Reward_Fault_rate)\n",
    "print(\"Functional fault rate:\",Functional_Fault_rate)\n",
    "print(\"Average Reward:\",Buff_reward/len(FRT))\n",
    "print(\"Average Lenght:\",Buff_len/len(FRT))\n",
    "print(\"Number of episodes:\",len(FRT))\n",
    "print(\"Number of functional faulty episodes:\",FF)"
   ]
  },
  {
   "cell_type": "code",
   "execution_count": 7,
   "metadata": {},
   "outputs": [],
   "source": [
    "os.makedirs('c:/Users/Student/Desktop/vs_git/HazardDetection/Data/Abstraction/No_train/v3', exist_ok=True)\n",
    "os.makedirs('c:/Users/Student/Desktop/vs_git/HazardDetection/Data/ML_models/No_train/v3', exist_ok=True)\n"
   ]
  },
  {
   "attachments": {},
   "cell_type": "markdown",
   "metadata": {},
   "source": [
    "# Run ML for more d values"
   ]
  },
  {
   "cell_type": "code",
   "execution_count": 8,
   "metadata": {},
   "outputs": [
    {
     "name": "stdout",
     "output_type": "stream",
     "text": [
      "Abstraction level: 5000\n",
      "abstract states: 9\n",
      "Concrete states 247411\n",
      "ratio 3.6376717284195126e-05\n",
      "shape of data 9\n",
      "********************** reporting the result of the model **************************\n",
      "The score for train data is 0.9811688311688311\n",
      "The score for test data is 0.9848484848484849\n",
      "\n",
      "\n",
      "--------------------------------------recall---------------------------------\n",
      "the test recall for the class yes is 1.0\n",
      "the test recall for the class no is 0.9828178694158075\n",
      "the training recall for the class yes is 1.0\n",
      "the training recall for the class no is 0.9783420463032113\n",
      "\n",
      "\n",
      "--------------------------------------precision------------------------------\n",
      "the test precision for the class yes is 0.8863636363636364\n",
      "the test precision for the class no is 1.0\n",
      "the training precision for the class yes is 0.8739130434782608\n",
      "the training precision for the class no is 1.0\n",
      "\n",
      "\n",
      "\n",
      "              precision    recall  f1-score   support\n",
      "\n",
      "         NO        1.00      0.98      0.99       582\n",
      "         yes       0.89      1.00      0.94        78\n",
      "\n",
      "    accuracy                           0.98       660\n",
      "   macro avg       0.94      0.99      0.97       660\n",
      "weighted avg       0.99      0.98      0.99       660\n",
      "\n",
      "\n",
      "\n",
      "specifity : 0.9828178694158075\n",
      "\n",
      "\n",
      "--------------------------------------confusion----------------------------\n",
      "The confusion Matrix:\n",
      "[[572  10]\n",
      " [  0  78]]\n",
      "the accuracy score in 0.9848484848484849\n",
      "\n",
      "\n",
      "********************** plotting the confusion matrix & ROC curve **************************\n"
     ]
    },
    {
     "name": "stderr",
     "output_type": "stream",
     "text": [
      "c:\\Users\\Student\\Desktop\\vs_git\\.virtualenvs\\venv\\lib\\site-packages\\sklearn\\utils\\deprecation.py:87: FutureWarning: Function plot_confusion_matrix is deprecated; Function `plot_confusion_matrix` is deprecated in 1.0 and will be removed in 1.2. Use one of the class methods: ConfusionMatrixDisplay.from_predictions or ConfusionMatrixDisplay.from_estimator.\n",
      "  warnings.warn(msg, category=FutureWarning)\n",
      "c:\\Users\\Student\\Desktop\\vs_git\\.virtualenvs\\venv\\lib\\site-packages\\sklearn\\utils\\deprecation.py:87: FutureWarning: Function plot_roc_curve is deprecated; Function `plot_roc_curve` is deprecated in 1.0 and will be removed in 1.2. Use one of the class methods: RocCurveDisplay.from_predictions or RocCurveDisplay.from_estimator.\n",
      "  warnings.warn(msg, category=FutureWarning)\n"
     ]
    },
    {
     "data": {
      "image/png": "[encoded data removed]",
      "text/plain": [
       "<Figure size 432x288 with 2 Axes>"
      ]
     },
     "metadata": {
      "needs_background": "light"
     },
     "output_type": "display_data"
    },
    {
     "data": {
      "image/png": "[encoded data removed]",
      "text/plain": [
       "<Figure size 432x288 with 1 Axes>"
      ]
     },
     "metadata": {
      "needs_background": "light"
     },
     "output_type": "display_data"
    },
    {
     "name": "stdout",
     "output_type": "stream",
     "text": [
      "Abstraction level: 1000\n",
      "abstract states: 36\n",
      "Concrete states 247411\n",
      "ratio 0.0001455068691367805\n",
      "shape of data 36\n",
      "********************** reporting the result of the model **************************\n",
      "The score for train data is 1.0\n",
      "The score for test data is 1.0\n",
      "\n",
      "\n",
      "--------------------------------------recall---------------------------------\n",
      "the test recall for the class yes is 1.0\n",
      "the test recall for the class no is 1.0\n",
      "the training recall for the class yes is 1.0\n",
      "the training recall for the class no is 1.0\n",
      "\n",
      "\n",
      "--------------------------------------precision------------------------------\n",
      "the test precision for the class yes is 1.0\n",
      "the test precision for the class no is 1.0\n",
      "the training precision for the class yes is 1.0\n",
      "the training precision for the class no is 1.0\n",
      "\n",
      "\n",
      "\n",
      "              precision    recall  f1-score   support\n",
      "\n",
      "         NO        1.00      1.00      1.00       582\n",
      "         yes       1.00      1.00      1.00        78\n",
      "\n",
      "    accuracy                           1.00       660\n",
      "   macro avg       1.00      1.00      1.00       660\n",
      "weighted avg       1.00      1.00      1.00       660\n",
      "\n",
      "\n",
      "\n",
      "specifity : 1.0\n",
      "\n",
      "\n",
      "--------------------------------------confusion----------------------------\n",
      "The confusion Matrix:\n",
      "[[582   0]\n",
      " [  0  78]]\n",
      "the accuracy score in 1.0\n",
      "\n",
      "\n",
      "********************** plotting the confusion matrix & ROC curve **************************\n"
     ]
    },
    {
     "name": "stderr",
     "output_type": "stream",
     "text": [
      "c:\\Users\\Student\\Desktop\\vs_git\\.virtualenvs\\venv\\lib\\site-packages\\sklearn\\utils\\deprecation.py:87: FutureWarning: Function plot_confusion_matrix is deprecated; Function `plot_confusion_matrix` is deprecated in 1.0 and will be removed in 1.2. Use one of the class methods: ConfusionMatrixDisplay.from_predictions or ConfusionMatrixDisplay.from_estimator.\n",
      "  warnings.warn(msg, category=FutureWarning)\n",
      "c:\\Users\\Student\\Desktop\\vs_git\\.virtualenvs\\venv\\lib\\site-packages\\sklearn\\utils\\deprecation.py:87: FutureWarning: Function plot_roc_curve is deprecated; Function `plot_roc_curve` is deprecated in 1.0 and will be removed in 1.2. Use one of the class methods: RocCurveDisplay.from_predictions or RocCurveDisplay.from_estimator.\n",
      "  warnings.warn(msg, category=FutureWarning)\n"
     ]
    },
    {
     "data": {
      "image/png": "[encoded data removed]",
      "text/plain": [
       "<Figure size 432x288 with 2 Axes>"
      ]
     },
     "metadata": {
      "needs_background": "light"
     },
     "output_type": "display_data"
    },
    {
     "data": {
      "image/png": "[encoded data removed]",
      "text/plain": [
       "<Figure size 432x288 with 1 Axes>"
      ]
     },
     "metadata": {
      "needs_background": "light"
     },
     "output_type": "display_data"
    },
    {
     "name": "stdout",
     "output_type": "stream",
     "text": [
      "Abstraction level: 500\n",
      "abstract states: 85\n",
      "Concrete states 247411\n",
      "ratio 0.0003435578854618428\n",
      "shape of data 85\n",
      "********************** reporting the result of the model **************************\n",
      "The score for train data is 1.0\n",
      "The score for test data is 1.0\n",
      "\n",
      "\n",
      "--------------------------------------recall---------------------------------\n",
      "the test recall for the class yes is 1.0\n",
      "the test recall for the class no is 1.0\n",
      "the training recall for the class yes is 1.0\n",
      "the training recall for the class no is 1.0\n",
      "\n",
      "\n",
      "--------------------------------------precision------------------------------\n",
      "the test precision for the class yes is 1.0\n",
      "the test precision for the class no is 1.0\n",
      "the training precision for the class yes is 1.0\n",
      "the training precision for the class no is 1.0\n",
      "\n",
      "\n",
      "\n",
      "              precision    recall  f1-score   support\n",
      "\n",
      "         NO        1.00      1.00      1.00       582\n",
      "         yes       1.00      1.00      1.00        78\n",
      "\n",
      "    accuracy                           1.00       660\n",
      "   macro avg       1.00      1.00      1.00       660\n",
      "weighted avg       1.00      1.00      1.00       660\n",
      "\n",
      "\n",
      "\n",
      "specifity : 1.0\n",
      "\n",
      "\n",
      "--------------------------------------confusion----------------------------\n",
      "The confusion Matrix:\n",
      "[[582   0]\n",
      " [  0  78]]\n",
      "the accuracy score in 1.0\n",
      "\n",
      "\n",
      "********************** plotting the confusion matrix & ROC curve **************************\n"
     ]
    },
    {
     "name": "stderr",
     "output_type": "stream",
     "text": [
      "c:\\Users\\Student\\Desktop\\vs_git\\.virtualenvs\\venv\\lib\\site-packages\\sklearn\\utils\\deprecation.py:87: FutureWarning: Function plot_confusion_matrix is deprecated; Function `plot_confusion_matrix` is deprecated in 1.0 and will be removed in 1.2. Use one of the class methods: ConfusionMatrixDisplay.from_predictions or ConfusionMatrixDisplay.from_estimator.\n",
      "  warnings.warn(msg, category=FutureWarning)\n",
      "c:\\Users\\Student\\Desktop\\vs_git\\.virtualenvs\\venv\\lib\\site-packages\\sklearn\\utils\\deprecation.py:87: FutureWarning: Function plot_roc_curve is deprecated; Function `plot_roc_curve` is deprecated in 1.0 and will be removed in 1.2. Use one of the class methods: RocCurveDisplay.from_predictions or RocCurveDisplay.from_estimator.\n",
      "  warnings.warn(msg, category=FutureWarning)\n"
     ]
    },
    {
     "data": {
      "image/png": "[encoded data removed]",
      "text/plain": [
       "<Figure size 432x288 with 2 Axes>"
      ]
     },
     "metadata": {
      "needs_background": "light"
     },
     "output_type": "display_data"
    },
    {
     "data": {
      "image/png": "[encoded data removed]",
      "text/plain": [
       "<Figure size 432x288 with 1 Axes>"
      ]
     },
     "metadata": {
      "needs_background": "light"
     },
     "output_type": "display_data"
    },
    {
     "name": "stdout",
     "output_type": "stream",
     "text": [
      "Abstraction level: 100\n",
      "abstract states: 788\n",
      "Concrete states 247411\n",
      "ratio 0.0031849836911050844\n",
      "shape of data 788\n",
      "********************** reporting the result of the model **************************\n",
      "The score for train data is 1.0\n",
      "The score for test data is 1.0\n",
      "\n",
      "\n",
      "--------------------------------------recall---------------------------------\n",
      "the test recall for the class yes is 1.0\n",
      "the test recall for the class no is 1.0\n",
      "the training recall for the class yes is 1.0\n",
      "the training recall for the class no is 1.0\n",
      "\n",
      "\n",
      "--------------------------------------precision------------------------------\n",
      "the test precision for the class yes is 1.0\n",
      "the test precision for the class no is 1.0\n",
      "the training precision for the class yes is 1.0\n",
      "the training precision for the class no is 1.0\n",
      "\n",
      "\n",
      "\n",
      "              precision    recall  f1-score   support\n",
      "\n",
      "         NO        1.00      1.00      1.00       582\n",
      "         yes       1.00      1.00      1.00        78\n",
      "\n",
      "    accuracy                           1.00       660\n",
      "   macro avg       1.00      1.00      1.00       660\n",
      "weighted avg       1.00      1.00      1.00       660\n",
      "\n",
      "\n",
      "\n",
      "specifity : 1.0\n",
      "\n",
      "\n",
      "--------------------------------------confusion----------------------------\n",
      "The confusion Matrix:\n",
      "[[582   0]\n",
      " [  0  78]]\n",
      "the accuracy score in 1.0\n",
      "\n",
      "\n",
      "********************** plotting the confusion matrix & ROC curve **************************\n"
     ]
    },
    {
     "name": "stderr",
     "output_type": "stream",
     "text": [
      "c:\\Users\\Student\\Desktop\\vs_git\\.virtualenvs\\venv\\lib\\site-packages\\sklearn\\utils\\deprecation.py:87: FutureWarning: Function plot_confusion_matrix is deprecated; Function `plot_confusion_matrix` is deprecated in 1.0 and will be removed in 1.2. Use one of the class methods: ConfusionMatrixDisplay.from_predictions or ConfusionMatrixDisplay.from_estimator.\n",
      "  warnings.warn(msg, category=FutureWarning)\n",
      "c:\\Users\\Student\\Desktop\\vs_git\\.virtualenvs\\venv\\lib\\site-packages\\sklearn\\utils\\deprecation.py:87: FutureWarning: Function plot_roc_curve is deprecated; Function `plot_roc_curve` is deprecated in 1.0 and will be removed in 1.2. Use one of the class methods: RocCurveDisplay.from_predictions or RocCurveDisplay.from_estimator.\n",
      "  warnings.warn(msg, category=FutureWarning)\n"
     ]
    },
    {
     "data": {
      "image/png": "[encoded data removed]",
      "text/plain": [
       "<Figure size 432x288 with 2 Axes>"
      ]
     },
     "metadata": {
      "needs_background": "light"
     },
     "output_type": "display_data"
    },
    {
     "data": {
      "image/png": "[encoded data removed]",
      "text/plain": [
       "<Figure size 432x288 with 1 Axes>"
      ]
     },
     "metadata": {
      "needs_background": "light"
     },
     "output_type": "display_data"
    },
    {
     "name": "stdout",
     "output_type": "stream",
     "text": [
      "Abstraction level: 50\n",
      "abstract states: 1638\n",
      "Concrete states 247411\n",
      "ratio 0.006620562545723512\n",
      "shape of data 1638\n",
      "********************** reporting the result of the model **************************\n",
      "The score for train data is 1.0\n",
      "The score for test data is 1.0\n",
      "\n",
      "\n",
      "--------------------------------------recall---------------------------------\n",
      "the test recall for the class yes is 1.0\n",
      "the test recall for the class no is 1.0\n",
      "the training recall for the class yes is 1.0\n",
      "the training recall for the class no is 1.0\n",
      "\n",
      "\n",
      "--------------------------------------precision------------------------------\n",
      "the test precision for the class yes is 1.0\n",
      "the test precision for the class no is 1.0\n",
      "the training precision for the class yes is 1.0\n",
      "the training precision for the class no is 1.0\n",
      "\n",
      "\n",
      "\n",
      "              precision    recall  f1-score   support\n",
      "\n",
      "         NO        1.00      1.00      1.00       582\n",
      "         yes       1.00      1.00      1.00        78\n",
      "\n",
      "    accuracy                           1.00       660\n",
      "   macro avg       1.00      1.00      1.00       660\n",
      "weighted avg       1.00      1.00      1.00       660\n",
      "\n",
      "\n",
      "\n",
      "specifity : 1.0\n",
      "\n",
      "\n",
      "--------------------------------------confusion----------------------------\n",
      "The confusion Matrix:\n",
      "[[582   0]\n",
      " [  0  78]]\n",
      "the accuracy score in 1.0\n",
      "\n",
      "\n",
      "********************** plotting the confusion matrix & ROC curve **************************\n"
     ]
    },
    {
     "name": "stderr",
     "output_type": "stream",
     "text": [
      "c:\\Users\\Student\\Desktop\\vs_git\\.virtualenvs\\venv\\lib\\site-packages\\sklearn\\utils\\deprecation.py:87: FutureWarning: Function plot_confusion_matrix is deprecated; Function `plot_confusion_matrix` is deprecated in 1.0 and will be removed in 1.2. Use one of the class methods: ConfusionMatrixDisplay.from_predictions or ConfusionMatrixDisplay.from_estimator.\n",
      "  warnings.warn(msg, category=FutureWarning)\n",
      "c:\\Users\\Student\\Desktop\\vs_git\\.virtualenvs\\venv\\lib\\site-packages\\sklearn\\utils\\deprecation.py:87: FutureWarning: Function plot_roc_curve is deprecated; Function `plot_roc_curve` is deprecated in 1.0 and will be removed in 1.2. Use one of the class methods: RocCurveDisplay.from_predictions or RocCurveDisplay.from_estimator.\n",
      "  warnings.warn(msg, category=FutureWarning)\n"
     ]
    },
    {
     "data": {
      "image/png": "[encoded data removed]",
      "text/plain": [
       "<Figure size 432x288 with 2 Axes>"
      ]
     },
     "metadata": {
      "needs_background": "light"
     },
     "output_type": "display_data"
    },
    {
     "data": {
      "image/png": "[encoded data removed]",
      "text/plain": [
       "<Figure size 432x288 with 1 Axes>"
      ]
     },
     "metadata": {
      "needs_background": "light"
     },
     "output_type": "display_data"
    },
    {
     "name": "stdout",
     "output_type": "stream",
     "text": [
      "Abstraction level: 10\n",
      "abstract states: 7090\n",
      "Concrete states 247411\n",
      "ratio 0.028656769504993716\n",
      "shape of data 7090\n",
      "********************** reporting the result of the model **************************\n",
      "The score for train data is 1.0\n",
      "The score for test data is 1.0\n",
      "\n",
      "\n",
      "--------------------------------------recall---------------------------------\n",
      "the test recall for the class yes is 1.0\n",
      "the test recall for the class no is 1.0\n",
      "the training recall for the class yes is 1.0\n",
      "the training recall for the class no is 1.0\n",
      "\n",
      "\n",
      "--------------------------------------precision------------------------------\n",
      "the test precision for the class yes is 1.0\n",
      "the test precision for the class no is 1.0\n",
      "the training precision for the class yes is 1.0\n",
      "the training precision for the class no is 1.0\n",
      "\n",
      "\n",
      "\n",
      "              precision    recall  f1-score   support\n",
      "\n",
      "         NO        1.00      1.00      1.00       582\n",
      "         yes       1.00      1.00      1.00        78\n",
      "\n",
      "    accuracy                           1.00       660\n",
      "   macro avg       1.00      1.00      1.00       660\n",
      "weighted avg       1.00      1.00      1.00       660\n",
      "\n",
      "\n",
      "\n",
      "specifity : 1.0\n",
      "\n",
      "\n",
      "--------------------------------------confusion----------------------------\n",
      "The confusion Matrix:\n",
      "[[582   0]\n",
      " [  0  78]]\n",
      "the accuracy score in 1.0\n",
      "\n",
      "\n",
      "********************** plotting the confusion matrix & ROC curve **************************\n"
     ]
    },
    {
     "name": "stderr",
     "output_type": "stream",
     "text": [
      "c:\\Users\\Student\\Desktop\\vs_git\\.virtualenvs\\venv\\lib\\site-packages\\sklearn\\utils\\deprecation.py:87: FutureWarning: Function plot_confusion_matrix is deprecated; Function `plot_confusion_matrix` is deprecated in 1.0 and will be removed in 1.2. Use one of the class methods: ConfusionMatrixDisplay.from_predictions or ConfusionMatrixDisplay.from_estimator.\n",
      "  warnings.warn(msg, category=FutureWarning)\n",
      "c:\\Users\\Student\\Desktop\\vs_git\\.virtualenvs\\venv\\lib\\site-packages\\sklearn\\utils\\deprecation.py:87: FutureWarning: Function plot_roc_curve is deprecated; Function `plot_roc_curve` is deprecated in 1.0 and will be removed in 1.2. Use one of the class methods: RocCurveDisplay.from_predictions or RocCurveDisplay.from_estimator.\n",
      "  warnings.warn(msg, category=FutureWarning)\n"
     ]
    },
    {
     "data": {
      "image/png": "[encoded data removed]",
      "text/plain": [
       "<Figure size 432x288 with 2 Axes>"
      ]
     },
     "metadata": {
      "needs_background": "light"
     },
     "output_type": "display_data"
    },
    {
     "data": {
      "image/png": "[encoded data removed]",
      "text/plain": [
       "<Figure size 432x288 with 1 Axes>"
      ]
     },
     "metadata": {
      "needs_background": "light"
     },
     "output_type": "display_data"
    },
    {
     "name": "stdout",
     "output_type": "stream",
     "text": [
      "Abstraction level: 5\n",
      "abstract states: 13208\n",
      "Concrete states 247411\n",
      "ratio 0.05338485354329436\n",
      "shape of data 13208\n",
      "********************** reporting the result of the model **************************\n",
      "The score for train data is 1.0\n",
      "The score for test data is 1.0\n",
      "\n",
      "\n",
      "--------------------------------------recall---------------------------------\n",
      "the test recall for the class yes is 1.0\n",
      "the test recall for the class no is 1.0\n",
      "the training recall for the class yes is 1.0\n",
      "the training recall for the class no is 1.0\n",
      "\n",
      "\n",
      "--------------------------------------precision------------------------------\n",
      "the test precision for the class yes is 1.0\n",
      "the test precision for the class no is 1.0\n",
      "the training precision for the class yes is 1.0\n",
      "the training precision for the class no is 1.0\n",
      "\n",
      "\n",
      "\n",
      "              precision    recall  f1-score   support\n",
      "\n",
      "         NO        1.00      1.00      1.00       582\n",
      "         yes       1.00      1.00      1.00        78\n",
      "\n",
      "    accuracy                           1.00       660\n",
      "   macro avg       1.00      1.00      1.00       660\n",
      "weighted avg       1.00      1.00      1.00       660\n",
      "\n",
      "\n",
      "\n",
      "specifity : 1.0\n",
      "\n",
      "\n",
      "--------------------------------------confusion----------------------------\n",
      "The confusion Matrix:\n",
      "[[582   0]\n",
      " [  0  78]]\n",
      "the accuracy score in 1.0\n",
      "\n",
      "\n",
      "********************** plotting the confusion matrix & ROC curve **************************\n"
     ]
    },
    {
     "name": "stderr",
     "output_type": "stream",
     "text": [
      "c:\\Users\\Student\\Desktop\\vs_git\\.virtualenvs\\venv\\lib\\site-packages\\sklearn\\utils\\deprecation.py:87: FutureWarning: Function plot_confusion_matrix is deprecated; Function `plot_confusion_matrix` is deprecated in 1.0 and will be removed in 1.2. Use one of the class methods: ConfusionMatrixDisplay.from_predictions or ConfusionMatrixDisplay.from_estimator.\n",
      "  warnings.warn(msg, category=FutureWarning)\n",
      "c:\\Users\\Student\\Desktop\\vs_git\\.virtualenvs\\venv\\lib\\site-packages\\sklearn\\utils\\deprecation.py:87: FutureWarning: Function plot_roc_curve is deprecated; Function `plot_roc_curve` is deprecated in 1.0 and will be removed in 1.2. Use one of the class methods: RocCurveDisplay.from_predictions or RocCurveDisplay.from_estimator.\n",
      "  warnings.warn(msg, category=FutureWarning)\n"
     ]
    },
    {
     "data": {
      "image/png": "[encoded data removed]",
      "text/plain": [
       "<Figure size 432x288 with 2 Axes>"
      ]
     },
     "metadata": {
      "needs_background": "light"
     },
     "output_type": "display_data"
    },
    {
     "data": {
      "image/png": "[encoded data removed]",
      "text/plain": [
       "<Figure size 432x288 with 1 Axes>"
      ]
     },
     "metadata": {
      "needs_background": "light"
     },
     "output_type": "display_data"
    },
    {
     "name": "stdout",
     "output_type": "stream",
     "text": [
      "Abstraction level: 1\n",
      "abstract states: 46560\n",
      "Concrete states 247411\n",
      "ratio 0.18818888408356946\n",
      "shape of data 46560\n",
      "********************** reporting the result of the model **************************\n",
      "The score for train data is 1.0\n",
      "The score for test data is 1.0\n",
      "\n",
      "\n",
      "--------------------------------------recall---------------------------------\n",
      "the test recall for the class yes is 1.0\n",
      "the test recall for the class no is 1.0\n",
      "the training recall for the class yes is 1.0\n",
      "the training recall for the class no is 1.0\n",
      "\n",
      "\n",
      "--------------------------------------precision------------------------------\n",
      "the test precision for the class yes is 1.0\n",
      "the test precision for the class no is 1.0\n",
      "the training precision for the class yes is 1.0\n",
      "the training precision for the class no is 1.0\n",
      "\n",
      "\n",
      "\n",
      "              precision    recall  f1-score   support\n",
      "\n",
      "         NO        1.00      1.00      1.00       582\n",
      "         yes       1.00      1.00      1.00        78\n",
      "\n",
      "    accuracy                           1.00       660\n",
      "   macro avg       1.00      1.00      1.00       660\n",
      "weighted avg       1.00      1.00      1.00       660\n",
      "\n",
      "\n",
      "\n",
      "specifity : 1.0\n",
      "\n",
      "\n",
      "--------------------------------------confusion----------------------------\n",
      "The confusion Matrix:\n",
      "[[582   0]\n",
      " [  0  78]]\n",
      "the accuracy score in 1.0\n",
      "\n",
      "\n",
      "********************** plotting the confusion matrix & ROC curve **************************\n"
     ]
    },
    {
     "name": "stderr",
     "output_type": "stream",
     "text": [
      "c:\\Users\\Student\\Desktop\\vs_git\\.virtualenvs\\venv\\lib\\site-packages\\sklearn\\utils\\deprecation.py:87: FutureWarning: Function plot_confusion_matrix is deprecated; Function `plot_confusion_matrix` is deprecated in 1.0 and will be removed in 1.2. Use one of the class methods: ConfusionMatrixDisplay.from_predictions or ConfusionMatrixDisplay.from_estimator.\n",
      "  warnings.warn(msg, category=FutureWarning)\n",
      "c:\\Users\\Student\\Desktop\\vs_git\\.virtualenvs\\venv\\lib\\site-packages\\sklearn\\utils\\deprecation.py:87: FutureWarning: Function plot_roc_curve is deprecated; Function `plot_roc_curve` is deprecated in 1.0 and will be removed in 1.2. Use one of the class methods: RocCurveDisplay.from_predictions or RocCurveDisplay.from_estimator.\n",
      "  warnings.warn(msg, category=FutureWarning)\n"
     ]
    },
    {
     "data": {
      "image/png": "[encoded data removed]",
      "text/plain": [
       "<Figure size 432x288 with 2 Axes>"
      ]
     },
     "metadata": {
      "needs_background": "light"
     },
     "output_type": "display_data"
    },
    {
     "data": {
      "image/png": "[encoded data removed]",
      "text/plain": [
       "<Figure size 432x288 with 1 Axes>"
      ]
     },
     "metadata": {
      "needs_background": "light"
     },
     "output_type": "display_data"
    },
    {
     "name": "stdout",
     "output_type": "stream",
     "text": [
      "Abstraction level: 0.5\n",
      "abstract states: 69224\n",
      "Concrete states 247411\n",
      "ratio 0.2797935419201248\n",
      "shape of data 69224\n",
      "********************** reporting the result of the model **************************\n",
      "The score for train data is 1.0\n",
      "The score for test data is 1.0\n",
      "\n",
      "\n",
      "--------------------------------------recall---------------------------------\n",
      "the test recall for the class yes is 1.0\n",
      "the test recall for the class no is 1.0\n",
      "the training recall for the class yes is 1.0\n",
      "the training recall for the class no is 1.0\n",
      "\n",
      "\n",
      "--------------------------------------precision------------------------------\n",
      "the test precision for the class yes is 1.0\n",
      "the test precision for the class no is 1.0\n",
      "the training precision for the class yes is 1.0\n",
      "the training precision for the class no is 1.0\n",
      "\n",
      "\n",
      "\n",
      "              precision    recall  f1-score   support\n",
      "\n",
      "         NO        1.00      1.00      1.00       582\n",
      "         yes       1.00      1.00      1.00        78\n",
      "\n",
      "    accuracy                           1.00       660\n",
      "   macro avg       1.00      1.00      1.00       660\n",
      "weighted avg       1.00      1.00      1.00       660\n",
      "\n",
      "\n",
      "\n",
      "specifity : 1.0\n",
      "\n",
      "\n",
      "--------------------------------------confusion----------------------------\n",
      "The confusion Matrix:\n",
      "[[582   0]\n",
      " [  0  78]]\n",
      "the accuracy score in 1.0\n",
      "\n",
      "\n",
      "********************** plotting the confusion matrix & ROC curve **************************\n"
     ]
    },
    {
     "name": "stderr",
     "output_type": "stream",
     "text": [
      "c:\\Users\\Student\\Desktop\\vs_git\\.virtualenvs\\venv\\lib\\site-packages\\sklearn\\utils\\deprecation.py:87: FutureWarning: Function plot_confusion_matrix is deprecated; Function `plot_confusion_matrix` is deprecated in 1.0 and will be removed in 1.2. Use one of the class methods: ConfusionMatrixDisplay.from_predictions or ConfusionMatrixDisplay.from_estimator.\n",
      "  warnings.warn(msg, category=FutureWarning)\n",
      "c:\\Users\\Student\\Desktop\\vs_git\\.virtualenvs\\venv\\lib\\site-packages\\sklearn\\utils\\deprecation.py:87: FutureWarning: Function plot_roc_curve is deprecated; Function `plot_roc_curve` is deprecated in 1.0 and will be removed in 1.2. Use one of the class methods: RocCurveDisplay.from_predictions or RocCurveDisplay.from_estimator.\n",
      "  warnings.warn(msg, category=FutureWarning)\n"
     ]
    },
    {
     "data": {
      "image/png": "[encoded data removed]",
      "text/plain": [
       "<Figure size 432x288 with 2 Axes>"
      ]
     },
     "metadata": {
      "needs_background": "light"
     },
     "output_type": "display_data"
    },
    {
     "data": {
      "image/png": "[encoded data removed]",
      "text/plain": [
       "<Figure size 432x288 with 1 Axes>"
      ]
     },
     "metadata": {
      "needs_background": "light"
     },
     "output_type": "display_data"
    },
    {
     "name": "stdout",
     "output_type": "stream",
     "text": [
      "Abstraction level: 0.05\n",
      "abstract states: 167306\n",
      "Concrete states 247411\n",
      "ratio 0.6762270068832833\n",
      "shape of data 167306\n",
      "********************** reporting the result of the model **************************\n",
      "The score for train data is 1.0\n",
      "The score for test data is 0.9136363636363637\n",
      "\n",
      "\n",
      "--------------------------------------recall---------------------------------\n",
      "the test recall for the class yes is 0.2692307692307692\n",
      "the test recall for the class no is 1.0\n",
      "the training recall for the class yes is 1.0\n",
      "the training recall for the class no is 1.0\n",
      "\n",
      "\n",
      "--------------------------------------precision------------------------------\n",
      "the test precision for the class yes is 1.0\n",
      "the test precision for the class no is 0.9107981220657277\n",
      "the training precision for the class yes is 1.0\n",
      "the training precision for the class no is 1.0\n",
      "\n",
      "\n",
      "\n",
      "              precision    recall  f1-score   support\n",
      "\n",
      "         NO        0.91      1.00      0.95       582\n",
      "         yes       1.00      0.27      0.42        78\n",
      "\n",
      "    accuracy                           0.91       660\n",
      "   macro avg       0.96      0.63      0.69       660\n",
      "weighted avg       0.92      0.91      0.89       660\n",
      "\n",
      "\n",
      "\n",
      "specifity : 1.0\n",
      "\n",
      "\n",
      "--------------------------------------confusion----------------------------\n",
      "The confusion Matrix:\n",
      "[[582   0]\n",
      " [ 57  21]]\n",
      "the accuracy score in 0.9136363636363637\n",
      "\n",
      "\n",
      "********************** plotting the confusion matrix & ROC curve **************************\n"
     ]
    },
    {
     "name": "stderr",
     "output_type": "stream",
     "text": [
      "c:\\Users\\Student\\Desktop\\vs_git\\.virtualenvs\\venv\\lib\\site-packages\\sklearn\\utils\\deprecation.py:87: FutureWarning: Function plot_confusion_matrix is deprecated; Function `plot_confusion_matrix` is deprecated in 1.0 and will be removed in 1.2. Use one of the class methods: ConfusionMatrixDisplay.from_predictions or ConfusionMatrixDisplay.from_estimator.\n",
      "  warnings.warn(msg, category=FutureWarning)\n",
      "c:\\Users\\Student\\Desktop\\vs_git\\.virtualenvs\\venv\\lib\\site-packages\\sklearn\\utils\\deprecation.py:87: FutureWarning: Function plot_roc_curve is deprecated; Function `plot_roc_curve` is deprecated in 1.0 and will be removed in 1.2. Use one of the class methods: RocCurveDisplay.from_predictions or RocCurveDisplay.from_estimator.\n",
      "  warnings.warn(msg, category=FutureWarning)\n"
     ]
    },
    {
     "data": {
      "image/png": "[encoded data removed]",
      "text/plain": [
       "<Figure size 432x288 with 2 Axes>"
      ]
     },
     "metadata": {
      "needs_background": "light"
     },
     "output_type": "display_data"
    },
    {
     "data": {
      "image/png": "[encoded data removed]",
      "text/plain": [
       "<Figure size 432x288 with 1 Axes>"
      ]
     },
     "metadata": {
      "needs_background": "light"
     },
     "output_type": "display_data"
    }
   ],
   "source": [
    "from tqdm import tqdm\n",
    "\n",
    "d_set=[5000,1000,500,100,50,10,5,1,0.5,0.05]\n",
    "\n",
    "\n",
    "#load ml training data\n",
    "with open(f'{Dataset_path}/Random_episodes/FRT_training.pickle', 'rb') as file2:\n",
    "    final_episodes = pickle.load(file2)\n",
    "\n",
    "    \n",
    "for d in d_set:\n",
    "    print(f\"Abstraction level: {d}\")\n",
    "    Read_from_data = False\n",
    "\n",
    "    if Read_from_data:\n",
    "        with open(f'{Dataset_path}/Abstraction/Abstraction_data_sampled_200_{d}.pickle', 'rb') as file2:\n",
    "            unique1 = pickle.load(file2)\n",
    "            uni1=np.array(unique1)\n",
    "    if not Read_from_data:\n",
    "        unique1,uni1 = Abstract_classes(final_episodes,d,model)\n",
    "        with open(f'{Dataset_path}/Abstraction/Abstraction_data_sampled_200_{d}.pickle', 'wb') as file2:\n",
    "            pickle.dump(unique1, file2)\n",
    "\n",
    "\n",
    "    data1_x_b, data1_y_b, data1_y_f_b = ML_first_representation_func_based(d,\n",
    "                                                                        is_functional_fault,\n",
    "                                                                        is_reward_fault\n",
    "                                                                        ,model\n",
    "                                                                        ,final_episodes\n",
    "                                                                        ,unique1)\n",
    "\n",
    "    print(\"shape of data\",len(data1_x_b[0]))\n",
    "    #########################################################  Train ML - Functional fault predictor #############\n",
    "\n",
    "\n",
    "    X_train_f, X_test_f, y_train_f, y_test_f = train_test_split(data1_x_b, data1_y_f_b, test_size=0.30, random_state=42)\n",
    "    RF_FF_1rep = RandomForestClassifier(random_state=0, class_weight='balanced')\n",
    "    RF_FF_1rep.fit(X_train_f,y_train_f)\n",
    "    report(RF_FF_1rep,X_train_f,y_train_f,X_test_f,y_test_f)\n",
    "    #save RF_FF_1rep\n",
    "    with open(f'{Dataset_path}/ML_models/RF_FF_1rep_{d}.pickle', 'wb') as file2:\n",
    "        pickle.dump(RF_FF_1rep, file2)"
   ]
  },
  {
   "attachments": {},
   "cell_type": "markdown",
   "metadata": {},
   "source": [
    "# Analysing more d values "
   ]
  },
  {
   "cell_type": "code",
   "execution_count": 7,
   "metadata": {},
   "outputs": [
    {
     "name": "stdout",
     "output_type": "stream",
     "text": [
      "Abstraction level: 10000\n",
      "abstract states: 8\n",
      "Concrete states 247411\n",
      "ratio 3.233485980817344e-05\n",
      "shape of data 8\n",
      "********************** reporting the result of the model **************************\n",
      "The score for train data is 0.9396103896103896\n",
      "The score for test data is 0.956060606060606\n",
      "\n",
      "\n",
      "--------------------------------------recall---------------------------------\n",
      "the test recall for the class yes is 0.6282051282051282\n",
      "the test recall for the class no is 1.0\n",
      "the training recall for the class yes is 0.5373134328358209\n",
      "the training recall for the class no is 1.0\n",
      "\n",
      "\n",
      "--------------------------------------precision------------------------------\n",
      "the test precision for the class yes is 1.0\n",
      "the test precision for the class no is 0.9525368248772504\n",
      "the training precision for the class yes is 1.0\n",
      "the training precision for the class no is 0.9350558659217877\n",
      "\n",
      "\n",
      "\n",
      "              precision    recall  f1-score   support\n",
      "\n",
      "         NO        0.95      1.00      0.98       582\n",
      "         yes       1.00      0.63      0.77        78\n",
      "\n",
      "    accuracy                           0.96       660\n",
      "   macro avg       0.98      0.81      0.87       660\n",
      "weighted avg       0.96      0.96      0.95       660\n",
      "\n",
      "\n",
      "\n",
      "specifity : 1.0\n",
      "\n",
      "\n",
      "--------------------------------------confusion----------------------------\n",
      "The confusion Matrix:\n",
      "[[582   0]\n",
      " [ 29  49]]\n",
      "the accuracy score in 0.956060606060606\n",
      "\n",
      "\n",
      "********************** plotting the confusion matrix & ROC curve **************************\n"
     ]
    },
    {
     "name": "stderr",
     "output_type": "stream",
     "text": [
      "c:\\Users\\Student\\Desktop\\vs_git\\.virtualenvs\\venv\\lib\\site-packages\\sklearn\\utils\\deprecation.py:87: FutureWarning: Function plot_confusion_matrix is deprecated; Function `plot_confusion_matrix` is deprecated in 1.0 and will be removed in 1.2. Use one of the class methods: ConfusionMatrixDisplay.from_predictions or ConfusionMatrixDisplay.from_estimator.\n",
      "  warnings.warn(msg, category=FutureWarning)\n",
      "c:\\Users\\Student\\Desktop\\vs_git\\.virtualenvs\\venv\\lib\\site-packages\\sklearn\\utils\\deprecation.py:87: FutureWarning: Function plot_roc_curve is deprecated; Function `plot_roc_curve` is deprecated in 1.0 and will be removed in 1.2. Use one of the class methods: RocCurveDisplay.from_predictions or RocCurveDisplay.from_estimator.\n",
      "  warnings.warn(msg, category=FutureWarning)\n"
     ]
    },
    {
     "data": {
      "image/png": "[encoded data removed]",
      "text/plain": [
       "<Figure size 432x288 with 2 Axes>"
      ]
     },
     "metadata": {
      "needs_background": "light"
     },
     "output_type": "display_data"
    },
    {
     "data": {
      "image/png": "[encoded data removed]",
      "text/plain": [
       "<Figure size 432x288 with 1 Axes>"
      ]
     },
     "metadata": {
      "needs_background": "light"
     },
     "output_type": "display_data"
    },
    {
     "name": "stdout",
     "output_type": "stream",
     "text": [
      "Abstraction level: 8000\n",
      "abstract states: 8\n",
      "Concrete states 247411\n",
      "ratio 3.233485980817344e-05\n",
      "shape of data 8\n",
      "********************** reporting the result of the model **************************\n",
      "The score for train data is 0.9396103896103896\n",
      "The score for test data is 0.956060606060606\n",
      "\n",
      "\n",
      "--------------------------------------recall---------------------------------\n",
      "the test recall for the class yes is 0.6282051282051282\n",
      "the test recall for the class no is 1.0\n",
      "the training recall for the class yes is 0.5373134328358209\n",
      "the training recall for the class no is 1.0\n",
      "\n",
      "\n",
      "--------------------------------------precision------------------------------\n",
      "the test precision for the class yes is 1.0\n",
      "the test precision for the class no is 0.9525368248772504\n",
      "the training precision for the class yes is 1.0\n",
      "the training precision for the class no is 0.9350558659217877\n",
      "\n",
      "\n",
      "\n",
      "              precision    recall  f1-score   support\n",
      "\n",
      "         NO        0.95      1.00      0.98       582\n",
      "         yes       1.00      0.63      0.77        78\n",
      "\n",
      "    accuracy                           0.96       660\n",
      "   macro avg       0.98      0.81      0.87       660\n",
      "weighted avg       0.96      0.96      0.95       660\n",
      "\n",
      "\n",
      "\n",
      "specifity : 1.0\n",
      "\n",
      "\n",
      "--------------------------------------confusion----------------------------\n",
      "The confusion Matrix:\n",
      "[[582   0]\n",
      " [ 29  49]]\n",
      "the accuracy score in 0.956060606060606\n",
      "\n",
      "\n",
      "********************** plotting the confusion matrix & ROC curve **************************\n"
     ]
    },
    {
     "name": "stderr",
     "output_type": "stream",
     "text": [
      "c:\\Users\\Student\\Desktop\\vs_git\\.virtualenvs\\venv\\lib\\site-packages\\sklearn\\utils\\deprecation.py:87: FutureWarning: Function plot_confusion_matrix is deprecated; Function `plot_confusion_matrix` is deprecated in 1.0 and will be removed in 1.2. Use one of the class methods: ConfusionMatrixDisplay.from_predictions or ConfusionMatrixDisplay.from_estimator.\n",
      "  warnings.warn(msg, category=FutureWarning)\n",
      "c:\\Users\\Student\\Desktop\\vs_git\\.virtualenvs\\venv\\lib\\site-packages\\sklearn\\utils\\deprecation.py:87: FutureWarning: Function plot_roc_curve is deprecated; Function `plot_roc_curve` is deprecated in 1.0 and will be removed in 1.2. Use one of the class methods: RocCurveDisplay.from_predictions or RocCurveDisplay.from_estimator.\n",
      "  warnings.warn(msg, category=FutureWarning)\n"
     ]
    },
    {
     "data": {
      "image/png": "[encoded data removed]",
      "text/plain": [
       "<Figure size 432x288 with 2 Axes>"
      ]
     },
     "metadata": {
      "needs_background": "light"
     },
     "output_type": "display_data"
    },
    {
     "data": {
      "image/png": "[encoded data removed]",
      "text/plain": [
       "<Figure size 432x288 with 1 Axes>"
      ]
     },
     "metadata": {
      "needs_background": "light"
     },
     "output_type": "display_data"
    },
    {
     "name": "stdout",
     "output_type": "stream",
     "text": [
      "Abstraction level: 7000\n",
      "abstract states: 8\n",
      "Concrete states 247411\n",
      "ratio 3.233485980817344e-05\n",
      "shape of data 8\n",
      "********************** reporting the result of the model **************************\n",
      "The score for train data is 0.8045454545454546\n",
      "The score for test data is 0.803030303030303\n",
      "\n",
      "\n",
      "--------------------------------------recall---------------------------------\n",
      "the test recall for the class yes is 1.0\n",
      "the test recall for the class no is 0.7766323024054983\n",
      "the training recall for the class yes is 1.0\n",
      "the training recall for the class no is 0.7752053771471247\n",
      "\n",
      "\n",
      "--------------------------------------precision------------------------------\n",
      "the test precision for the class yes is 0.375\n",
      "the test precision for the class no is 1.0\n",
      "the training precision for the class yes is 0.40039840637450197\n",
      "the training precision for the class no is 1.0\n",
      "\n",
      "\n",
      "\n",
      "              precision    recall  f1-score   support\n",
      "\n",
      "         NO        1.00      0.78      0.87       582\n",
      "         yes       0.38      1.00      0.55        78\n",
      "\n",
      "    accuracy                           0.80       660\n",
      "   macro avg       0.69      0.89      0.71       660\n",
      "weighted avg       0.93      0.80      0.84       660\n",
      "\n",
      "\n",
      "\n",
      "specifity : 0.7766323024054983\n",
      "\n",
      "\n",
      "--------------------------------------confusion----------------------------\n",
      "The confusion Matrix:\n",
      "[[452 130]\n",
      " [  0  78]]\n",
      "the accuracy score in 0.803030303030303\n",
      "\n",
      "\n",
      "********************** plotting the confusion matrix & ROC curve **************************\n"
     ]
    },
    {
     "name": "stderr",
     "output_type": "stream",
     "text": [
      "c:\\Users\\Student\\Desktop\\vs_git\\.virtualenvs\\venv\\lib\\site-packages\\sklearn\\utils\\deprecation.py:87: FutureWarning: Function plot_confusion_matrix is deprecated; Function `plot_confusion_matrix` is deprecated in 1.0 and will be removed in 1.2. Use one of the class methods: ConfusionMatrixDisplay.from_predictions or ConfusionMatrixDisplay.from_estimator.\n",
      "  warnings.warn(msg, category=FutureWarning)\n",
      "c:\\Users\\Student\\Desktop\\vs_git\\.virtualenvs\\venv\\lib\\site-packages\\sklearn\\utils\\deprecation.py:87: FutureWarning: Function plot_roc_curve is deprecated; Function `plot_roc_curve` is deprecated in 1.0 and will be removed in 1.2. Use one of the class methods: RocCurveDisplay.from_predictions or RocCurveDisplay.from_estimator.\n",
      "  warnings.warn(msg, category=FutureWarning)\n"
     ]
    },
    {
     "data": {
      "image/png": "[encoded data removed]",
      "text/plain": [
       "<Figure size 432x288 with 2 Axes>"
      ]
     },
     "metadata": {
      "needs_background": "light"
     },
     "output_type": "display_data"
    },
    {
     "data": {
      "image/png": "[encoded data removed]",
      "text/plain": [
       "<Figure size 432x288 with 1 Axes>"
      ]
     },
     "metadata": {
      "needs_background": "light"
     },
     "output_type": "display_data"
    },
    {
     "name": "stdout",
     "output_type": "stream",
     "text": [
      "Abstraction level: 6000\n",
      "abstract states: 9\n",
      "Concrete states 247411\n",
      "ratio 3.6376717284195126e-05\n",
      "shape of data 9\n",
      "********************** reporting the result of the model **************************\n",
      "The score for train data is 0.8974025974025974\n",
      "The score for test data is 0.8924242424242425\n",
      "\n",
      "\n",
      "--------------------------------------recall---------------------------------\n",
      "the test recall for the class yes is 1.0\n",
      "the test recall for the class no is 0.8780068728522337\n",
      "the training recall for the class yes is 1.0\n",
      "the training recall for the class no is 0.8820014936519791\n",
      "\n",
      "\n",
      "--------------------------------------precision------------------------------\n",
      "the test precision for the class yes is 0.5234899328859061\n",
      "the test precision for the class no is 1.0\n",
      "the training precision for the class yes is 0.5598885793871866\n",
      "the training precision for the class no is 1.0\n",
      "\n",
      "\n",
      "\n",
      "              precision    recall  f1-score   support\n",
      "\n",
      "         NO        1.00      0.88      0.94       582\n",
      "         yes       0.52      1.00      0.69        78\n",
      "\n",
      "    accuracy                           0.89       660\n",
      "   macro avg       0.76      0.94      0.81       660\n",
      "weighted avg       0.94      0.89      0.91       660\n",
      "\n",
      "\n",
      "\n",
      "specifity : 0.8780068728522337\n",
      "\n",
      "\n",
      "--------------------------------------confusion----------------------------\n",
      "The confusion Matrix:\n",
      "[[511  71]\n",
      " [  0  78]]\n",
      "the accuracy score in 0.8924242424242425\n",
      "\n",
      "\n",
      "********************** plotting the confusion matrix & ROC curve **************************\n"
     ]
    },
    {
     "name": "stderr",
     "output_type": "stream",
     "text": [
      "c:\\Users\\Student\\Desktop\\vs_git\\.virtualenvs\\venv\\lib\\site-packages\\sklearn\\utils\\deprecation.py:87: FutureWarning: Function plot_confusion_matrix is deprecated; Function `plot_confusion_matrix` is deprecated in 1.0 and will be removed in 1.2. Use one of the class methods: ConfusionMatrixDisplay.from_predictions or ConfusionMatrixDisplay.from_estimator.\n",
      "  warnings.warn(msg, category=FutureWarning)\n",
      "c:\\Users\\Student\\Desktop\\vs_git\\.virtualenvs\\venv\\lib\\site-packages\\sklearn\\utils\\deprecation.py:87: FutureWarning: Function plot_roc_curve is deprecated; Function `plot_roc_curve` is deprecated in 1.0 and will be removed in 1.2. Use one of the class methods: RocCurveDisplay.from_predictions or RocCurveDisplay.from_estimator.\n",
      "  warnings.warn(msg, category=FutureWarning)\n"
     ]
    },
    {
     "data": {
      "image/png": "[encoded data removed]",
      "text/plain": [
       "<Figure size 432x288 with 2 Axes>"
      ]
     },
     "metadata": {
      "needs_background": "light"
     },
     "output_type": "display_data"
    },
    {
     "data": {
      "image/png": "[encoded data removed]",
      "text/plain": [
       "<Figure size 432x288 with 1 Axes>"
      ]
     },
     "metadata": {
      "needs_background": "light"
     },
     "output_type": "display_data"
    },
    {
     "name": "stdout",
     "output_type": "stream",
     "text": [
      "Abstraction level: 4000\n",
      "abstract states: 10\n",
      "Concrete states 247411\n",
      "ratio 4.041857476021681e-05\n",
      "shape of data 10\n",
      "********************** reporting the result of the model **************************\n",
      "The score for train data is 1.0\n",
      "The score for test data is 1.0\n",
      "\n",
      "\n",
      "--------------------------------------recall---------------------------------\n",
      "the test recall for the class yes is 1.0\n",
      "the test recall for the class no is 1.0\n",
      "the training recall for the class yes is 1.0\n",
      "the training recall for the class no is 1.0\n",
      "\n",
      "\n",
      "--------------------------------------precision------------------------------\n",
      "the test precision for the class yes is 1.0\n",
      "the test precision for the class no is 1.0\n",
      "the training precision for the class yes is 1.0\n",
      "the training precision for the class no is 1.0\n",
      "\n",
      "\n",
      "\n",
      "              precision    recall  f1-score   support\n",
      "\n",
      "         NO        1.00      1.00      1.00       582\n",
      "         yes       1.00      1.00      1.00        78\n",
      "\n",
      "    accuracy                           1.00       660\n",
      "   macro avg       1.00      1.00      1.00       660\n",
      "weighted avg       1.00      1.00      1.00       660\n",
      "\n",
      "\n",
      "\n",
      "specifity : 1.0\n",
      "\n",
      "\n",
      "--------------------------------------confusion----------------------------\n",
      "The confusion Matrix:\n",
      "[[582   0]\n",
      " [  0  78]]\n",
      "the accuracy score in 1.0\n",
      "\n",
      "\n",
      "********************** plotting the confusion matrix & ROC curve **************************\n"
     ]
    },
    {
     "name": "stderr",
     "output_type": "stream",
     "text": [
      "c:\\Users\\Student\\Desktop\\vs_git\\.virtualenvs\\venv\\lib\\site-packages\\sklearn\\utils\\deprecation.py:87: FutureWarning: Function plot_confusion_matrix is deprecated; Function `plot_confusion_matrix` is deprecated in 1.0 and will be removed in 1.2. Use one of the class methods: ConfusionMatrixDisplay.from_predictions or ConfusionMatrixDisplay.from_estimator.\n",
      "  warnings.warn(msg, category=FutureWarning)\n",
      "c:\\Users\\Student\\Desktop\\vs_git\\.virtualenvs\\venv\\lib\\site-packages\\sklearn\\utils\\deprecation.py:87: FutureWarning: Function plot_roc_curve is deprecated; Function `plot_roc_curve` is deprecated in 1.0 and will be removed in 1.2. Use one of the class methods: RocCurveDisplay.from_predictions or RocCurveDisplay.from_estimator.\n",
      "  warnings.warn(msg, category=FutureWarning)\n"
     ]
    },
    {
     "data": {
      "image/png": "[encoded data removed]",
      "text/plain": [
       "<Figure size 432x288 with 2 Axes>"
      ]
     },
     "metadata": {
      "needs_background": "light"
     },
     "output_type": "display_data"
    },
    {
     "data": {
      "image/png": "[encoded data removed]",
      "text/plain": [
       "<Figure size 432x288 with 1 Axes>"
      ]
     },
     "metadata": {
      "needs_background": "light"
     },
     "output_type": "display_data"
    },
    {
     "name": "stdout",
     "output_type": "stream",
     "text": [
      "Abstraction level: 3000\n",
      "abstract states: 13\n",
      "Concrete states 247411\n",
      "ratio 5.2544147188281844e-05\n",
      "shape of data 13\n",
      "********************** reporting the result of the model **************************\n",
      "The score for train data is 1.0\n",
      "The score for test data is 1.0\n",
      "\n",
      "\n",
      "--------------------------------------recall---------------------------------\n",
      "the test recall for the class yes is 1.0\n",
      "the test recall for the class no is 1.0\n",
      "the training recall for the class yes is 1.0\n",
      "the training recall for the class no is 1.0\n",
      "\n",
      "\n",
      "--------------------------------------precision------------------------------\n",
      "the test precision for the class yes is 1.0\n",
      "the test precision for the class no is 1.0\n",
      "the training precision for the class yes is 1.0\n",
      "the training precision for the class no is 1.0\n",
      "\n",
      "\n",
      "\n",
      "              precision    recall  f1-score   support\n",
      "\n",
      "         NO        1.00      1.00      1.00       582\n",
      "         yes       1.00      1.00      1.00        78\n",
      "\n",
      "    accuracy                           1.00       660\n",
      "   macro avg       1.00      1.00      1.00       660\n",
      "weighted avg       1.00      1.00      1.00       660\n",
      "\n",
      "\n",
      "\n",
      "specifity : 1.0\n",
      "\n",
      "\n",
      "--------------------------------------confusion----------------------------\n",
      "The confusion Matrix:\n",
      "[[582   0]\n",
      " [  0  78]]\n",
      "the accuracy score in 1.0\n",
      "\n",
      "\n",
      "********************** plotting the confusion matrix & ROC curve **************************\n"
     ]
    },
    {
     "name": "stderr",
     "output_type": "stream",
     "text": [
      "c:\\Users\\Student\\Desktop\\vs_git\\.virtualenvs\\venv\\lib\\site-packages\\sklearn\\utils\\deprecation.py:87: FutureWarning: Function plot_confusion_matrix is deprecated; Function `plot_confusion_matrix` is deprecated in 1.0 and will be removed in 1.2. Use one of the class methods: ConfusionMatrixDisplay.from_predictions or ConfusionMatrixDisplay.from_estimator.\n",
      "  warnings.warn(msg, category=FutureWarning)\n",
      "c:\\Users\\Student\\Desktop\\vs_git\\.virtualenvs\\venv\\lib\\site-packages\\sklearn\\utils\\deprecation.py:87: FutureWarning: Function plot_roc_curve is deprecated; Function `plot_roc_curve` is deprecated in 1.0 and will be removed in 1.2. Use one of the class methods: RocCurveDisplay.from_predictions or RocCurveDisplay.from_estimator.\n",
      "  warnings.warn(msg, category=FutureWarning)\n"
     ]
    },
    {
     "data": {
      "image/png": "[encoded data removed]",
      "text/plain": [
       "<Figure size 432x288 with 2 Axes>"
      ]
     },
     "metadata": {
      "needs_background": "light"
     },
     "output_type": "display_data"
    },
    {
     "data": {
      "image/png": "[encoded data removed]",
      "text/plain": [
       "<Figure size 432x288 with 1 Axes>"
      ]
     },
     "metadata": {
      "needs_background": "light"
     },
     "output_type": "display_data"
    },
    {
     "name": "stdout",
     "output_type": "stream",
     "text": [
      "Abstraction level: 2000\n",
      "abstract states: 16\n",
      "Concrete states 247411\n",
      "ratio 6.466971961634689e-05\n",
      "shape of data 16\n",
      "********************** reporting the result of the model **************************\n",
      "The score for train data is 1.0\n",
      "The score for test data is 1.0\n",
      "\n",
      "\n",
      "--------------------------------------recall---------------------------------\n",
      "the test recall for the class yes is 1.0\n",
      "the test recall for the class no is 1.0\n",
      "the training recall for the class yes is 1.0\n",
      "the training recall for the class no is 1.0\n",
      "\n",
      "\n",
      "--------------------------------------precision------------------------------\n",
      "the test precision for the class yes is 1.0\n",
      "the test precision for the class no is 1.0\n",
      "the training precision for the class yes is 1.0\n",
      "the training precision for the class no is 1.0\n",
      "\n",
      "\n",
      "\n",
      "              precision    recall  f1-score   support\n",
      "\n",
      "         NO        1.00      1.00      1.00       582\n",
      "         yes       1.00      1.00      1.00        78\n",
      "\n",
      "    accuracy                           1.00       660\n",
      "   macro avg       1.00      1.00      1.00       660\n",
      "weighted avg       1.00      1.00      1.00       660\n",
      "\n",
      "\n",
      "\n",
      "specifity : 1.0\n",
      "\n",
      "\n",
      "--------------------------------------confusion----------------------------\n",
      "The confusion Matrix:\n",
      "[[582   0]\n",
      " [  0  78]]\n",
      "the accuracy score in 1.0\n",
      "\n",
      "\n",
      "********************** plotting the confusion matrix & ROC curve **************************\n"
     ]
    },
    {
     "name": "stderr",
     "output_type": "stream",
     "text": [
      "c:\\Users\\Student\\Desktop\\vs_git\\.virtualenvs\\venv\\lib\\site-packages\\sklearn\\utils\\deprecation.py:87: FutureWarning: Function plot_confusion_matrix is deprecated; Function `plot_confusion_matrix` is deprecated in 1.0 and will be removed in 1.2. Use one of the class methods: ConfusionMatrixDisplay.from_predictions or ConfusionMatrixDisplay.from_estimator.\n",
      "  warnings.warn(msg, category=FutureWarning)\n",
      "c:\\Users\\Student\\Desktop\\vs_git\\.virtualenvs\\venv\\lib\\site-packages\\sklearn\\utils\\deprecation.py:87: FutureWarning: Function plot_roc_curve is deprecated; Function `plot_roc_curve` is deprecated in 1.0 and will be removed in 1.2. Use one of the class methods: RocCurveDisplay.from_predictions or RocCurveDisplay.from_estimator.\n",
      "  warnings.warn(msg, category=FutureWarning)\n"
     ]
    },
    {
     "data": {
      "image/png": "[encoded data removed]",
      "text/plain": [
       "<Figure size 432x288 with 2 Axes>"
      ]
     },
     "metadata": {
      "needs_background": "light"
     },
     "output_type": "display_data"
    },
    {
     "data": {
      "image/png": "[encoded data removed]",
      "text/plain": [
       "<Figure size 432x288 with 1 Axes>"
      ]
     },
     "metadata": {
      "needs_background": "light"
     },
     "output_type": "display_data"
    },
    {
     "name": "stdout",
     "output_type": "stream",
     "text": [
      "Abstraction level: 0.1\n",
      "abstract states: 136505\n",
      "Concrete states 247411\n",
      "ratio 0.5517337547643395\n",
      "shape of data 136505\n",
      "********************** reporting the result of the model **************************\n",
      "The score for train data is 1.0\n",
      "The score for test data is 0.9393939393939394\n",
      "\n",
      "\n",
      "--------------------------------------recall---------------------------------\n",
      "the test recall for the class yes is 0.48717948717948717\n",
      "the test recall for the class no is 1.0\n",
      "the training recall for the class yes is 1.0\n",
      "the training recall for the class no is 1.0\n",
      "\n",
      "\n",
      "--------------------------------------precision------------------------------\n",
      "the test precision for the class yes is 1.0\n",
      "the test precision for the class no is 0.9356913183279743\n",
      "the training precision for the class yes is 1.0\n",
      "the training precision for the class no is 1.0\n",
      "\n",
      "\n",
      "\n",
      "              precision    recall  f1-score   support\n",
      "\n",
      "         NO        0.94      1.00      0.97       582\n",
      "         yes       1.00      0.49      0.66        78\n",
      "\n",
      "    accuracy                           0.94       660\n",
      "   macro avg       0.97      0.74      0.81       660\n",
      "weighted avg       0.94      0.94      0.93       660\n",
      "\n",
      "\n",
      "\n",
      "specifity : 1.0\n",
      "\n",
      "\n",
      "--------------------------------------confusion----------------------------\n",
      "The confusion Matrix:\n",
      "[[582   0]\n",
      " [ 40  38]]\n",
      "the accuracy score in 0.9393939393939394\n",
      "\n",
      "\n",
      "********************** plotting the confusion matrix & ROC curve **************************\n"
     ]
    },
    {
     "name": "stderr",
     "output_type": "stream",
     "text": [
      "c:\\Users\\Student\\Desktop\\vs_git\\.virtualenvs\\venv\\lib\\site-packages\\sklearn\\utils\\deprecation.py:87: FutureWarning: Function plot_confusion_matrix is deprecated; Function `plot_confusion_matrix` is deprecated in 1.0 and will be removed in 1.2. Use one of the class methods: ConfusionMatrixDisplay.from_predictions or ConfusionMatrixDisplay.from_estimator.\n",
      "  warnings.warn(msg, category=FutureWarning)\n",
      "c:\\Users\\Student\\Desktop\\vs_git\\.virtualenvs\\venv\\lib\\site-packages\\sklearn\\utils\\deprecation.py:87: FutureWarning: Function plot_roc_curve is deprecated; Function `plot_roc_curve` is deprecated in 1.0 and will be removed in 1.2. Use one of the class methods: RocCurveDisplay.from_predictions or RocCurveDisplay.from_estimator.\n",
      "  warnings.warn(msg, category=FutureWarning)\n"
     ]
    },
    {
     "data": {
      "image/png": "[encoded data removed]",
      "text/plain": [
       "<Figure size 432x288 with 2 Axes>"
      ]
     },
     "metadata": {
      "needs_background": "light"
     },
     "output_type": "display_data"
    },
    {
     "data": {
      "image/png": "[encoded data removed]",
      "text/plain": [
       "<Figure size 432x288 with 1 Axes>"
      ]
     },
     "metadata": {
      "needs_background": "light"
     },
     "output_type": "display_data"
    },
    {
     "name": "stdout",
     "output_type": "stream",
     "text": [
      "Abstraction level: 0.07\n",
      "abstract states: 152813\n",
      "Concrete states 247411\n",
      "ratio 0.617648366483301\n",
      "shape of data 152813\n",
      "********************** reporting the result of the model **************************\n",
      "The score for train data is 1.0\n",
      "The score for test data is 0.9257575757575758\n",
      "\n",
      "\n",
      "--------------------------------------recall---------------------------------\n",
      "the test recall for the class yes is 0.3717948717948718\n",
      "the test recall for the class no is 1.0\n",
      "the training recall for the class yes is 1.0\n",
      "the training recall for the class no is 1.0\n",
      "\n",
      "\n",
      "--------------------------------------precision------------------------------\n",
      "the test precision for the class yes is 1.0\n",
      "the test precision for the class no is 0.9223454833597464\n",
      "the training precision for the class yes is 1.0\n",
      "the training precision for the class no is 1.0\n",
      "\n",
      "\n",
      "\n",
      "              precision    recall  f1-score   support\n",
      "\n",
      "         NO        0.92      1.00      0.96       582\n",
      "         yes       1.00      0.37      0.54        78\n",
      "\n",
      "    accuracy                           0.93       660\n",
      "   macro avg       0.96      0.69      0.75       660\n",
      "weighted avg       0.93      0.93      0.91       660\n",
      "\n",
      "\n",
      "\n",
      "specifity : 1.0\n",
      "\n",
      "\n",
      "--------------------------------------confusion----------------------------\n",
      "The confusion Matrix:\n",
      "[[582   0]\n",
      " [ 49  29]]\n",
      "the accuracy score in 0.9257575757575758\n",
      "\n",
      "\n",
      "********************** plotting the confusion matrix & ROC curve **************************\n"
     ]
    },
    {
     "name": "stderr",
     "output_type": "stream",
     "text": [
      "c:\\Users\\Student\\Desktop\\vs_git\\.virtualenvs\\venv\\lib\\site-packages\\sklearn\\utils\\deprecation.py:87: FutureWarning: Function plot_confusion_matrix is deprecated; Function `plot_confusion_matrix` is deprecated in 1.0 and will be removed in 1.2. Use one of the class methods: ConfusionMatrixDisplay.from_predictions or ConfusionMatrixDisplay.from_estimator.\n",
      "  warnings.warn(msg, category=FutureWarning)\n",
      "c:\\Users\\Student\\Desktop\\vs_git\\.virtualenvs\\venv\\lib\\site-packages\\sklearn\\utils\\deprecation.py:87: FutureWarning: Function plot_roc_curve is deprecated; Function `plot_roc_curve` is deprecated in 1.0 and will be removed in 1.2. Use one of the class methods: RocCurveDisplay.from_predictions or RocCurveDisplay.from_estimator.\n",
      "  warnings.warn(msg, category=FutureWarning)\n"
     ]
    },
    {
     "data": {
      "image/png": "[encoded data removed]",
      "text/plain": [
       "<Figure size 432x288 with 2 Axes>"
      ]
     },
     "metadata": {
      "needs_background": "light"
     },
     "output_type": "display_data"
    },
    {
     "data": {
      "image/png": "[encoded data removed]",
      "text/plain": [
       "<Figure size 432x288 with 1 Axes>"
      ]
     },
     "metadata": {
      "needs_background": "light"
     },
     "output_type": "display_data"
    },
    {
     "name": "stdout",
     "output_type": "stream",
     "text": [
      "Abstraction level: 0.03\n",
      "abstract states: 187283\n",
      "Concrete states 247411\n",
      "ratio 0.7569711936817684\n",
      "shape of data 187283\n",
      "********************** reporting the result of the model **************************\n",
      "The score for train data is 1.0\n",
      "The score for test data is 0.896969696969697\n",
      "\n",
      "\n",
      "--------------------------------------recall---------------------------------\n",
      "the test recall for the class yes is 0.1282051282051282\n",
      "the test recall for the class no is 1.0\n",
      "the training recall for the class yes is 1.0\n",
      "the training recall for the class no is 1.0\n",
      "\n",
      "\n",
      "--------------------------------------precision------------------------------\n",
      "the test precision for the class yes is 1.0\n",
      "the test precision for the class no is 0.8953846153846153\n",
      "the training precision for the class yes is 1.0\n",
      "the training precision for the class no is 1.0\n",
      "\n",
      "\n",
      "\n",
      "              precision    recall  f1-score   support\n",
      "\n",
      "         NO        0.90      1.00      0.94       582\n",
      "         yes       1.00      0.13      0.23        78\n",
      "\n",
      "    accuracy                           0.90       660\n",
      "   macro avg       0.95      0.56      0.59       660\n",
      "weighted avg       0.91      0.90      0.86       660\n",
      "\n",
      "\n",
      "\n",
      "specifity : 1.0\n",
      "\n",
      "\n",
      "--------------------------------------confusion----------------------------\n",
      "The confusion Matrix:\n",
      "[[582   0]\n",
      " [ 68  10]]\n",
      "the accuracy score in 0.896969696969697\n",
      "\n",
      "\n",
      "********************** plotting the confusion matrix & ROC curve **************************\n"
     ]
    },
    {
     "name": "stderr",
     "output_type": "stream",
     "text": [
      "c:\\Users\\Student\\Desktop\\vs_git\\.virtualenvs\\venv\\lib\\site-packages\\sklearn\\utils\\deprecation.py:87: FutureWarning: Function plot_confusion_matrix is deprecated; Function `plot_confusion_matrix` is deprecated in 1.0 and will be removed in 1.2. Use one of the class methods: ConfusionMatrixDisplay.from_predictions or ConfusionMatrixDisplay.from_estimator.\n",
      "  warnings.warn(msg, category=FutureWarning)\n",
      "c:\\Users\\Student\\Desktop\\vs_git\\.virtualenvs\\venv\\lib\\site-packages\\sklearn\\utils\\deprecation.py:87: FutureWarning: Function plot_roc_curve is deprecated; Function `plot_roc_curve` is deprecated in 1.0 and will be removed in 1.2. Use one of the class methods: RocCurveDisplay.from_predictions or RocCurveDisplay.from_estimator.\n",
      "  warnings.warn(msg, category=FutureWarning)\n"
     ]
    },
    {
     "data": {
      "image/png": "[encoded data removed]",
      "text/plain": [
       "<Figure size 432x288 with 2 Axes>"
      ]
     },
     "metadata": {
      "needs_background": "light"
     },
     "output_type": "display_data"
    },
    {
     "data": {
      "image/png": "[encoded data removed]",
      "text/plain": [
       "<Figure size 432x288 with 1 Axes>"
      ]
     },
     "metadata": {
      "needs_background": "light"
     },
     "output_type": "display_data"
    },
    {
     "name": "stdout",
     "output_type": "stream",
     "text": [
      "Abstraction level: 0.01\n",
      "abstract states: 218907\n",
      "Concrete states 247411\n",
      "ratio 0.884790894503478\n",
      "shape of data 218907\n",
      "********************** reporting the result of the model **************************\n",
      "The score for train data is 0.9987012987012988\n",
      "The score for test data is 0.8833333333333333\n",
      "\n",
      "\n",
      "--------------------------------------recall---------------------------------\n",
      "the test recall for the class yes is 0.01282051282051282\n",
      "the test recall for the class no is 1.0\n",
      "the training recall for the class yes is 0.9900497512437811\n",
      "the training recall for the class no is 1.0\n",
      "\n",
      "\n",
      "--------------------------------------precision------------------------------\n",
      "the test precision for the class yes is 1.0\n",
      "the test precision for the class no is 0.8831562974203339\n",
      "the training precision for the class yes is 1.0\n",
      "the training precision for the class no is 0.9985085756897838\n",
      "\n",
      "\n",
      "\n",
      "              precision    recall  f1-score   support\n",
      "\n",
      "         NO        0.88      1.00      0.94       582\n",
      "         yes       1.00      0.01      0.03        78\n",
      "\n",
      "    accuracy                           0.88       660\n",
      "   macro avg       0.94      0.51      0.48       660\n",
      "weighted avg       0.90      0.88      0.83       660\n",
      "\n",
      "\n",
      "\n",
      "specifity : 1.0\n",
      "\n",
      "\n",
      "--------------------------------------confusion----------------------------\n",
      "The confusion Matrix:\n",
      "[[582   0]\n",
      " [ 77   1]]\n",
      "the accuracy score in 0.8833333333333333\n",
      "\n",
      "\n",
      "********************** plotting the confusion matrix & ROC curve **************************\n"
     ]
    },
    {
     "name": "stderr",
     "output_type": "stream",
     "text": [
      "c:\\Users\\Student\\Desktop\\vs_git\\.virtualenvs\\venv\\lib\\site-packages\\sklearn\\utils\\deprecation.py:87: FutureWarning: Function plot_confusion_matrix is deprecated; Function `plot_confusion_matrix` is deprecated in 1.0 and will be removed in 1.2. Use one of the class methods: ConfusionMatrixDisplay.from_predictions or ConfusionMatrixDisplay.from_estimator.\n",
      "  warnings.warn(msg, category=FutureWarning)\n",
      "c:\\Users\\Student\\Desktop\\vs_git\\.virtualenvs\\venv\\lib\\site-packages\\sklearn\\utils\\deprecation.py:87: FutureWarning: Function plot_roc_curve is deprecated; Function `plot_roc_curve` is deprecated in 1.0 and will be removed in 1.2. Use one of the class methods: RocCurveDisplay.from_predictions or RocCurveDisplay.from_estimator.\n",
      "  warnings.warn(msg, category=FutureWarning)\n"
     ]
    },
    {
     "data": {
      "image/png": "[encoded data removed]",
      "text/plain": [
       "<Figure size 432x288 with 2 Axes>"
      ]
     },
     "metadata": {
      "needs_background": "light"
     },
     "output_type": "display_data"
    },
    {
     "data": {
      "image/png": "[encoded data removed]",
      "text/plain": [
       "<Figure size 432x288 with 1 Axes>"
      ]
     },
     "metadata": {
      "needs_background": "light"
     },
     "output_type": "display_data"
    }
   ],
   "source": [
    "from tqdm import tqdm\n",
    "# d_set=[0.5,1,5,10,50,100,500]\n",
    "# d_set=[5000,1000,500,100,50,10,5,1,0.5,0.05]\n",
    "d_set=[10000,8000,7000,6000,4000,3000,2000,0.1,0.07,0.03,0.01]\n",
    "\n",
    "\n",
    "\n",
    "#load ml training data\n",
    "with open(f'{Dataset_path}/Random_episodes/FRT_training.pickle', 'rb') as file2:\n",
    "    final_episodes = pickle.load(file2)\n",
    "\n",
    "    \n",
    "for d in d_set:\n",
    "    print(f\"Abstraction level: {d}\")\n",
    "    Read_from_data = False\n",
    "\n",
    "    if Read_from_data:\n",
    "        with open(f'{Dataset_path}/Abstraction/Abstraction_data_sampled_200_{d}.pickle', 'rb') as file2:\n",
    "            unique1 = pickle.load(file2)\n",
    "            uni1=np.array(unique1)\n",
    "    if not Read_from_data:\n",
    "        unique1,uni1 = Abstract_classes(final_episodes,d,model)\n",
    "        with open(f'{Dataset_path}/Abstraction/Abstraction_data_sampled_200_{d}.pickle', 'wb') as file2:\n",
    "            pickle.dump(unique1, file2)\n",
    "\n",
    "\n",
    "    data1_x_b, data1_y_b, data1_y_f_b = ML_first_representation_func_based(d,\n",
    "                                                                        is_functional_fault,\n",
    "                                                                        is_reward_fault\n",
    "                                                                        ,model\n",
    "                                                                        ,final_episodes\n",
    "                                                                        ,unique1)\n",
    "\n",
    "    print(\"shape of data\",len(data1_x_b[0]))\n",
    "    #########################################################  Train ML - Functional fault predictor #############\n",
    "\n",
    "\n",
    "    X_train_f, X_test_f, y_train_f, y_test_f = train_test_split(data1_x_b, data1_y_f_b, test_size=0.30, random_state=42)\n",
    "    RF_FF_1rep = RandomForestClassifier(random_state=0, class_weight='balanced')\n",
    "    RF_FF_1rep.fit(X_train_f,y_train_f)\n",
    "    report(RF_FF_1rep,X_train_f,y_train_f,X_test_f,y_test_f)\n",
    "    #save RF_FF_1rep\n",
    "    with open(f'{Dataset_path}/ML_models/RF_FF_1rep_{d}.pickle', 'wb') as file2:\n",
    "        pickle.dump(RF_FF_1rep, file2)"
   ]
  },
  {
   "attachments": {},
   "cell_type": "markdown",
   "metadata": {},
   "source": [
    "# plot risks"
   ]
  },
  {
   "cell_type": "code",
   "execution_count": null,
   "metadata": {},
   "outputs": [],
   "source": [
    "# data of abstract classes\n",
    "from tqdm import tqdm\n",
    "\n",
    "d_set=[10000,8000,7000,6000,4000,3000,2000,0.1,0.07,0.03,0.01]\n",
    "\n",
    "d_set=[5] #select desired abatraction levels to explore\n",
    "\n",
    "#load ml training data\n",
    "with open(f'{Dataset_path}/Random_episodes/FRT_training.pickle', 'rb') as file2:\n",
    "    final_episodes = pickle.load(file2)\n",
    "\n",
    "    \n",
    "for d in d_set:\n",
    "    print(f\"Abstraction level: {d}\")\n",
    "    Read_from_data = False\n",
    "\n",
    "    if Read_from_data:\n",
    "        with open(f'{Dataset_path}/Abstraction/Abstraction_data_sampled_200_{d}.pickle', 'rb') as file2:\n",
    "            unique1 = pickle.load(file2)\n",
    "            uni1=np.array(unique1)\n",
    "    if not Read_from_data:\n",
    "        unique1,uni1 = Abstract_classes(final_episodes,d,model)\n",
    "        with open(f'{Dataset_path}/Abstraction/Abstraction_data_sampled_200_{d}.pickle', 'wb') as file2:\n",
    "            pickle.dump(unique1, file2)\n",
    "\n",
    "\n",
    "\n",
    "    # #########################################################  Load ML - Functional fault predictor #############\n",
    "\n",
    "\n",
    "    with open(f'{Dataset_path}/ML_models/RF_FF_1rep_{d}.pickle', 'rb') as file2:\n",
    "        RF_FF_1rep = pickle.load(file2)\n",
    "\n",
    "    #read FRT and FRTS from pickle\n",
    "    with open(f'{Dataset_path}/Random_episodes/FRT.pickle', 'rb') as file2:\n",
    "        FRT = pickle.load(file2)\n",
    "    \n",
    "    par = [d,unique1,model,RF_FF_1rep]\n",
    "\n",
    "    #########################################################  Plot Risk and Position #############\n",
    "    newpath = f'Plots/Abs_{d}'\n",
    "    if not os.path.exists(newpath):\n",
    "        os.makedirs(newpath)\n",
    "    Num_plot = 200 #number of episodes to plot\n",
    "    if len(FRT)<Num_plot:\n",
    "        print(\"number of available episodes is less than {Num_plot}}\")\n",
    "        Num_plot = len(FRT)\n",
    "    print(\"Number of episodes to plot:\",Num_plot)        \n",
    "    for i in tqdm(range(0,Num_plot,10), desc=\"Plotting\", total=Num_plot//10):\n",
    "        Plot_all(FRT[i:i+10],par,save=True,show=False,data_chunk=i,path=newpath)\n",
    "    "
   ]
  },
  {
   "attachments": {},
   "cell_type": "markdown",
   "metadata": {},
   "source": [
    "# Confidence Intervals"
   ]
  },
  {
   "cell_type": "code",
   "execution_count": 9,
   "metadata": {},
   "outputs": [],
   "source": [
    "import scipy\n",
    "\n",
    "def translate_episode_steps(episode,RL_model,translator,d,abs_classes):\n",
    "    translated_episode = []\n",
    "    for i in range(len(episode)-1):\n",
    "        translated_episode.append(translator(episode[:i],RL_model,d,abs_classes))\n",
    "    return translated_episode\n",
    "\n",
    "def translate_multiple_episodes_steps(episodes,RL_model,translator,d,abs_classes):\n",
    "    translated_episodes = []\n",
    "    for episode in episodes:\n",
    "        translated_buffer = []\n",
    "        for i in range(len(episode)-1):\n",
    "            translated_buffer.append(translator(episode[:i],RL_model,d,abs_classes))\n",
    "        translated_episodes.append(translated_buffer)\n",
    "    return translated_episodes\n",
    "\n",
    "\n",
    "\n",
    "def Forest_CI_multiple(translated_episodes,HD_model,chunk,abs_d,path = 'C:/Users/Student/Desktop/vs_git/HazardDetection/Plots/CI'):\n",
    "    '''\n",
    "    size of translated_episodes is limited by the number of colors available for one plot\n",
    "    '''\n",
    "    plt.figure(figsize=(20, 12))\n",
    "    results_Arr=[]\n",
    "    r_arr=[]\n",
    "    E=0\n",
    "    colors = ['red','blue','green','yellow','black','purple','orange','pink','brown','grey','cyan','magenta','lime','olive','teal','navy','maroon','violet','turquoise','salmon','gold','coral','indigo','crimson','azure','beige','chocolate','lavender','plum','orchid','tan','khaki','wheat','silver','sienna','peru','peachpuff','papayawhip','mistyrose','moccasin','lemonchiffon','lawngreen','lightgreen','limegreen']\n",
    "    for translated_episode , plt_color in zip(translated_episodes,colors[:len(translated_episodes)]):\n",
    "        E+=1\n",
    "        num_time_steps = len(translated_episode) # Number of time steps\n",
    "        num_trees = HD_model.n_estimators\n",
    "        predictions = np.zeros((num_time_steps, num_trees))\n",
    "        for i, tree in enumerate(HD_model.estimators_):\n",
    "            for j in range(len(translated_episode)):\n",
    "                Risk = tree.predict_proba(translated_episode[j])[0][1]\n",
    "                predictions[j, i] = Risk\n",
    "        # Calculate the mean prediction for each time step\n",
    "        mean_predictions = np.mean(predictions, axis=1)\n",
    "\n",
    "        # Calculate the standard deviation for each time step\n",
    "        std_predictions = np.std(predictions, axis=1)\n",
    "\n",
    "        # Calculate the lower and upper bounds for the confidence intervals\n",
    "        confidence_level = 0.95 # Change as needed\n",
    "        z_score = scipy.stats.norm.ppf((1 + confidence_level) / 2)\n",
    "        lower_bounds = mean_predictions - z_score * std_predictions / np.sqrt(num_trees)\n",
    "        upper_bounds = mean_predictions + z_score * std_predictions / np.sqrt(num_trees)\n",
    "        difference = upper_bounds - lower_bounds\n",
    "        # Store the results in a dataframe\n",
    "        results = pd.DataFrame({\n",
    "            'Mean prediction': mean_predictions,\n",
    "            'Lower bound': lower_bounds,\n",
    "            'Upper bound': upper_bounds\n",
    "        })\n",
    "        # Save the results to a file\n",
    "        results_Arr.append(results)\n",
    "        r_arr.append([mean_predictions, lower_bounds, upper_bounds,difference])\n",
    "        plt.fill_between(range(num_time_steps), lower_bounds, upper_bounds, color=plt_color, alpha=0.2)\n",
    "        plt.plot(mean_predictions, color=plt_color, label=f'Episode {E}')\n",
    "\n",
    "        # Add labels and title to the plot\n",
    "        plt.xlabel('Time step')\n",
    "        plt.ylabel('Prediction')\n",
    "        plt.title('Confidence Intervals of Random Forest Predictions')\n",
    "    # results_arr.append(r_arr)\n",
    "    # Save the plot as a file\n",
    "    current_time = datetime.now()\n",
    "    ID = current_time.strftime(\"%Y%m%d%H%M%S\")\n",
    "    # if save:\n",
    "    #     fig.savefig(f'{path}/RPV_C{data_chunk}_{ID}.png')\n",
    "    # plt.savefig(f'C:/Users/Student/Desktop/vs_git/HazardDetection/Plots/CI/abs_{d}/confidence_intervals_{chunk}_{ID}.png', bbox_inches='tight')\n",
    "    plt.legend()\n",
    "    plt.savefig(f'{path}/confidence_intervals_{chunk}_{ID}.png', bbox_inches='tight')\n",
    "    plt.close()\n",
    "    # np.array(results_Arr).to_csv('confidence_intervals.csv', index=False)\n",
    "    # save results_arr to pickle file\n",
    "    pickle_path = f'Data/CI/Abs_{abs_d}'\n",
    "    if not os.path.exists(pickle_path):\n",
    "        os.makedirs(pickle_path)\n",
    "    with open(f'{pickle_path}/results_arr_{chunk}.pkl', 'wb') as f:\n",
    "        pickle.dump(r_arr, f)\n",
    "\n",
    "\n",
    "\n",
    "\n",
    "    \n"
   ]
  },
  {
   "cell_type": "markdown",
   "metadata": {},
   "source": [
    "# CI plots"
   ]
  },
  {
   "cell_type": "code",
   "execution_count": 14,
   "metadata": {},
   "outputs": [
    {
     "name": "stdout",
     "output_type": "stream",
     "text": [
      "Abstraction level: 500\n"
     ]
    },
    {
     "name": "stderr",
     "output_type": "stream",
     "text": [
      "Plotting: 100%|██████████| 50/50 [24:02<00:00, 28.85s/it]\n"
     ]
    },
    {
     "name": "stdout",
     "output_type": "stream",
     "text": [
      "Abstraction level: 100\n"
     ]
    },
    {
     "name": "stderr",
     "output_type": "stream",
     "text": [
      "Plotting: 100%|██████████| 50/50 [25:03<00:00, 30.07s/it]\n"
     ]
    },
    {
     "name": "stdout",
     "output_type": "stream",
     "text": [
      "Abstraction level: 50\n"
     ]
    },
    {
     "name": "stderr",
     "output_type": "stream",
     "text": [
      "Plotting: 100%|██████████| 50/50 [26:43<00:00, 32.07s/it]\n"
     ]
    },
    {
     "name": "stdout",
     "output_type": "stream",
     "text": [
      "Abstraction level: 10\n"
     ]
    },
    {
     "name": "stderr",
     "output_type": "stream",
     "text": [
      "Plotting: 100%|██████████| 50/50 [37:09<00:00, 44.58s/it]\n"
     ]
    },
    {
     "name": "stdout",
     "output_type": "stream",
     "text": [
      "Abstraction level: 5\n"
     ]
    },
    {
     "name": "stderr",
     "output_type": "stream",
     "text": [
      "Plotting: 100%|██████████| 50/50 [17:55:15<00:00, 1290.31s/it]     \n"
     ]
    },
    {
     "name": "stdout",
     "output_type": "stream",
     "text": [
      "Abstraction level: 1\n"
     ]
    },
    {
     "name": "stderr",
     "output_type": "stream",
     "text": [
      "Plotting: 100%|██████████| 50/50 [2:30:23<00:00, 180.47s/it]  \n"
     ]
    },
    {
     "name": "stdout",
     "output_type": "stream",
     "text": [
      "Abstraction level: 0.5\n"
     ]
    },
    {
     "name": "stderr",
     "output_type": "stream",
     "text": [
      "Plotting: 100%|██████████| 50/50 [2:32:10<00:00, 182.62s/it]  \n"
     ]
    }
   ],
   "source": [
    "######################################################### Read abstract classes #############\n",
    "# data of abstract classes\n",
    "from tqdm import tqdm\n",
    "# d_set=[0.5,1,5,10,50,100,500]\n",
    "# d_set=[10000,8000,7000,6000,4000,3000,2000,0.1,0.07,0.03,0.01]\n",
    "\n",
    "d_set=[500,100,50,10,5,1,0.5]\n",
    "\n",
    "# d_set=[500]\n",
    "\n",
    "with open(f'{Dataset_path}/Random_episodes/FRT_training.pickle', 'rb') as file2:\n",
    "    final_episodes = pickle.load(file2)\n",
    "\n",
    "    \n",
    "for d in d_set:\n",
    "    print(f\"Abstraction level: {d}\")\n",
    "    Read_from_data = False\n",
    "\n",
    "    if Read_from_data:\n",
    "        with open(f'{Dataset_path}/Abstraction/Abstraction_data_sampled_200_{d}.pickle', 'rb') as file2:\n",
    "            unique1 = pickle.load(file2)\n",
    "            uni1=np.array(unique1)\n",
    "    if not Read_from_data:\n",
    "        unique1,uni1 = Abstract_classes(final_episodes,d,model)\n",
    "        with open(f'{Dataset_path}/Abstraction/Abstraction_data_sampled_200_{d}.pickle', 'wb') as file2:\n",
    "            pickle.dump(unique1, file2)\n",
    "\n",
    "\n",
    "\n",
    "    # #########################################################  Load ML - Functional fault predictor #############\n",
    "\n",
    "\n",
    "    with open(f'{Dataset_path}/ML_models/RF_FF_1rep_{d}.pickle', 'rb') as file2:\n",
    "        RF_FF_1rep = pickle.load(file2)\n",
    "\n",
    "    #read FRT and FRTS from pickle\n",
    "    with open(f'{Dataset_path}/Random_episodes/FRT.pickle', 'rb') as file2:\n",
    "        FRT = pickle.load(file2)\n",
    "    \n",
    "    # par = [d,unique1,model,RF_FF_1rep]\n",
    "\n",
    "    #########################################################  Plot Risk and Position #############\n",
    "    newpath = f'Plots/Abs_{d}'\n",
    "    if not os.path.exists(newpath):\n",
    "        os.makedirs(newpath)\n",
    "    Num_plot = 200 #number of episodes to plot\n",
    "    if len(FRT)<Num_plot:\n",
    "        print(\"number of available episodes is less than {Num_plot}}\")\n",
    "        Num_plot = len(FRT)\n",
    "    print(\"Number of episodes to plot:\",Num_plot)        \n",
    "    for i in tqdm(range(0,Num_plot,10), desc=\"Plotting\", total=Num_plot//10):\n",
    "        Forest_CI_multiple(translate_multiple_episodes_steps(FRT[i:i+10],model,translator,d,unique1),RF_FF_1rep,i,d,path=newpath)\n",
    "    \n",
    "\n"
   ]
  },
  {
   "attachments": {},
   "cell_type": "markdown",
   "metadata": {},
   "source": [
    "# accuracy "
   ]
  },
  {
   "cell_type": "code",
   "execution_count": 24,
   "metadata": {},
   "outputs": [],
   "source": [
    "def ACCu(translated_episodes,HD_model,chunk,abs_d,path='Data/Pred'):\n",
    "    '''\n",
    "    size of translated_episodes is limited by the number of colors available for one plot\n",
    "    '''\n",
    "    # plt.figure(figsize=(20, 12))\n",
    "    results_Arr=[]\n",
    "    r_arr=[]\n",
    "    E=0\n",
    "    RF_pred=[]\n",
    "    # translated_episodes = translate_multiple_episodes_steps(episode,RL_model,translator,d,unique1)\n",
    "    # colors = ['red','blue','green','yellow','black','purple','orange','pink','brown','grey','cyan','magenta','lime','olive'\\\n",
    "    # ,'teal','navy','maroon','violet','turquoise','salmon','gold','coral','indigo','crimson','azure','beige','chocolate',\\\n",
    "    # 'lavender','plum','orchid','tan','khaki','wheat','silver','sienna','peru','peachpuff','papayawhip','mistyrose','moccasin','lemonchiffon','lawngreen','lightgreen','limegreen']\n",
    "    for k, translated_episode in enumerate(translated_episodes):\n",
    "        RF_pred_E=[]\n",
    "        E+=1\n",
    "        num_time_steps = len(translated_episode) # Number of time steps\n",
    "        num_trees = HD_model.n_estimators\n",
    "        predictions = np.zeros((num_time_steps, num_trees))\n",
    "        for j in tqdm(range(len(translated_episode)),desc=f'extracting risk for episode {k}'):\n",
    "            RF_pred_E.append(HD_model.predict_proba(translated_episode[j])[0][1])\n",
    "            for i, tree in enumerate(HD_model.estimators_):\n",
    "                Risk = tree.predict_proba(translated_episode[j])[0][1]\n",
    "                predictions[j, i] = Risk\n",
    "        # Calculate the mean prediction for each time step\n",
    "        mean_predictions = np.mean(predictions, axis=1)\n",
    "            \n",
    "        # Calculate the standard deviation for each time step\n",
    "        std_predictions = np.std(predictions, axis=1)\n",
    "\n",
    "        # Calculate the lower and upper bounds for the confidence intervals\n",
    "        confidence_level = 0.95 # Change as needed\n",
    "        z_score = scipy.stats.norm.ppf((1 + confidence_level) / 2)\n",
    "        lower_bounds = mean_predictions - z_score * std_predictions / np.sqrt(num_trees)\n",
    "        upper_bounds = mean_predictions + z_score * std_predictions / np.sqrt(num_trees)\n",
    "        difference = upper_bounds - lower_bounds\n",
    "        # Store the results in a dataframe\n",
    "        results = pd.DataFrame({\n",
    "            'Mean prediction': mean_predictions,\n",
    "            'Lower bound': lower_bounds,\n",
    "            'Upper bound': upper_bounds\n",
    "        })\n",
    "        # Save the results to a file\n",
    "        results_Arr.append(results)\n",
    "        r_arr.append([mean_predictions, lower_bounds, upper_bounds,difference])\n",
    "\n",
    "        RF_pred.append(RF_pred_E)\n",
    "\n",
    "    return RF_pred\n",
    "\n",
    "\n",
    "\n",
    "def ACCURACY(translated_episodes,HD_model,chunk,abs_d,path='Data/Pred'):\n",
    "    '''\n",
    "    size of translated_episodes is limited by the number of colors available for one plot\n",
    "    '''\n",
    "    # plt.figure(figsize=(20, 12))\n",
    "    results_Arr=[]\n",
    "    r_arr=[]\n",
    "    E=0\n",
    "    RF_pred=[]\n",
    "    # translated_episodes = translate_multiple_episodes_steps(episode,RL_model,translator,d,unique1)\n",
    "    # colors = ['red','blue','green','yellow','black','purple','orange','pink','brown','grey','cyan','magenta','lime','olive'\\\n",
    "    # ,'teal','navy','maroon','violet','turquoise','salmon','gold','coral','indigo','crimson','azure','beige','chocolate',\\\n",
    "    # 'lavender','plum','orchid','tan','khaki','wheat','silver','sienna','peru','peachpuff','papayawhip','mistyrose','moccasin','lemonchiffon','lawngreen','lightgreen','limegreen']\n",
    "    for translated_episode in tqdm(translated_episodes, desc=f'extracting risk for episodes'):\n",
    "        RF_pred_E=[]\n",
    "        E+=1\n",
    "        num_time_steps = len(translated_episode) # Number of time steps\n",
    "        num_trees = HD_model.n_estimators\n",
    "        predictions = np.zeros((num_time_steps, num_trees))\n",
    "        for j in range(len(translated_episode)):\n",
    "            RF_pred_E.append(HD_model.predict_proba(translated_episode[j])[0][1])\n",
    "            for i, tree in enumerate(HD_model.estimators_):\n",
    "                Risk = tree.predict_proba(translated_episode[j])[0][1]\n",
    "                predictions[j, i] = Risk\n",
    "        # Calculate the mean prediction for each time step\n",
    "        mean_predictions = np.mean(predictions, axis=1)\n",
    "            \n",
    "        # Calculate the standard deviation for each time step\n",
    "        std_predictions = np.std(predictions, axis=1)\n",
    "\n",
    "        # Calculate the lower and upper bounds for the confidence intervals\n",
    "        confidence_level = 0.95 # Change as needed\n",
    "        z_score = scipy.stats.norm.ppf((1 + confidence_level) / 2)\n",
    "        lower_bounds = mean_predictions - z_score * std_predictions / np.sqrt(num_trees)\n",
    "        upper_bounds = mean_predictions + z_score * std_predictions / np.sqrt(num_trees)\n",
    "        difference = upper_bounds - lower_bounds\n",
    "        # Store the results in a dataframe\n",
    "        results = pd.DataFrame({\n",
    "            'Mean prediction': mean_predictions,\n",
    "            'Lower bound': lower_bounds,\n",
    "            'Upper bound': upper_bounds\n",
    "        })\n",
    "        # Save the results to a file\n",
    "        results_Arr.append(results)\n",
    "        r_arr.append([mean_predictions, lower_bounds, upper_bounds,difference])\n",
    "        RF_pred.append(RF_pred_E)\n",
    "    return RF_pred\n",
    "\n",
    "def extract_weighted_performance(Pred, FRT, T):\n",
    "    labels = []\n",
    "    for episode in FRT:\n",
    "        if is_functional_fault(episode):\n",
    "            labels.append([1.0 for i in range(len(episode)-1)])\n",
    "        else:\n",
    "            labels.append([0.0 for i in range(len(episode)-1)])\n",
    "    \n",
    "    accuracy = []\n",
    "    accuracy_w = []\n",
    "    precision = []\n",
    "    recall = []\n",
    "    f1 = []\n",
    "    max_len = max([len(i) for i in Pred])\n",
    "    for i in range(max_len):\n",
    "        pred_interval = [0 if pred[i]<=T else 1 for pred in Pred if len(pred)>i]\n",
    "        labels_interval = [label[i] for label in labels if len(label)>i]\n",
    "        accuracy.append(accuracy_score(labels_interval,pred_interval))\n",
    "        accuracy_w.append(balanced_accuracy_score(labels_interval, pred_interval))\n",
    "        precision.append(precision_score(labels_interval, pred_interval, average='weighted'))\n",
    "        recall.append(recall_score(labels_interval, pred_interval, average='weighted'))\n",
    "    #     f1.append(f1_score(labels_interval, pred_interval, average='weighted'))\n",
    "    # micro_f1 = f1_score(labels_interval, pred_interval, average='micro')\n",
    "    # macro_f1 = f1_score(labels_interval, pred_interval, average='macro')\n",
    "    return [accuracy,accuracy_w, precision, recall]\n",
    "\n",
    "def plot_and_save_metrics(metrics_w, save_path):\n",
    "    fig, axs = plt.subplots(2, 2, figsize=(15, 10))\n",
    "    accuracy,accuracy_w, precision, recall = metrics_w\n",
    "    axs[0, 0].plot(accuracy)\n",
    "    axs[0, 0].set_title(\"Accuracy\")\n",
    "    axs[0, 1].plot(accuracy_w)\n",
    "    axs[0, 1].set_title(\"Balanced Accuracy\")\n",
    "    axs[1, 0].plot(precision)\n",
    "    axs[1, 0].set_title(\"Precision\")\n",
    "    axs[1, 1].plot(recall)\n",
    "    axs[1, 1].set_title(\"Recall\")\n",
    "\n",
    "    plt.suptitle(\"Metrics Plot\")\n",
    "    plt.tight_layout()\n",
    "    plt.subplots_adjust(top=0.93)\n",
    "    plt.savefig(save_path)\n",
    "    plt.close()\n",
    "\n",
    "import scipy\n",
    "\n",
    "def translate_episode_steps(episode,RL_model,translator,d,abs_classes):\n",
    "    translated_episode = []\n",
    "    for i in range(len(episode)-1):\n",
    "        translated_episode.append(translator(episode[:i],RL_model,d,abs_classes))\n",
    "    return translated_episode\n",
    "\n",
    "def translate_multiple_episodes_steps(episodes,RL_model,translator,d,abs_classes):\n",
    "    translated_episodes = []\n",
    "    for n, episode in enumerate(episodes):\n",
    "        translated_buffer = []\n",
    "        for i in tqdm(range(len(episode)-1),desc=f'translating episode {n}'):\n",
    "            translated_buffer.append(translator(episode[:i],RL_model,d,abs_classes))\n",
    "        translated_episodes.append(translated_buffer)\n",
    "    return translated_episodes\n",
    "\n",
    "\n",
    "def translate_multiple_episodes_steps_tqdm(episodes,RL_model,translator,d,abs_classes):\n",
    "    translated_episodes = []\n",
    "    for episode in tqdm(episodes,desc=f'translating episodes'):\n",
    "        translated_buffer = []\n",
    "        for i in range(len(episode)-1):\n",
    "            translated_buffer.append(translator(episode[:i],RL_model,d,abs_classes))\n",
    "        translated_episodes.append(translated_buffer)\n",
    "    return translated_episodes\n",
    "\n",
    "\n",
    "def Forest_CI_multiple(translated_episodes,HD_model,chunk,abs_d,path = 'Plots/CI'):\n",
    "    '''\n",
    "    size of translated_episodes is limited by the number of colors available for one plot\n",
    "    '''\n",
    "    plt.figure(figsize=(20, 12))\n",
    "    results_Arr=[]\n",
    "    r_arr=[]\n",
    "    E=0\n",
    "    colors = ['red','blue','green','yellow','black','purple','orange','pink','brown','grey','cyan','magenta','lime','olive','teal','navy','maroon','violet','turquoise','salmon','gold','coral','indigo','crimson','azure','beige','chocolate','lavender','plum','orchid','tan','khaki','wheat','silver','sienna','peru','peachpuff','papayawhip','mistyrose','moccasin','lemonchiffon','lawngreen','lightgreen','limegreen']\n",
    "    for translated_episode , plt_color in zip(translated_episodes,colors[:len(translated_episodes)]):\n",
    "        E+=1\n",
    "        num_time_steps = len(translated_episode) # Number of time steps\n",
    "        num_trees = HD_model.n_estimators\n",
    "        predictions = np.zeros((num_time_steps, num_trees))\n",
    "        for i, tree in enumerate(HD_model.estimators_):\n",
    "            for j in range(len(translated_episode)):\n",
    "                Risk = tree.predict_proba(translated_episode[j])[0][1]\n",
    "                predictions[j, i] = Risk\n",
    "        # Calculate the mean prediction for each time step\n",
    "        mean_predictions = np.mean(predictions, axis=1)\n",
    "\n",
    "        # Calculate the standard deviation for each time step\n",
    "        std_predictions = np.std(predictions, axis=1)\n",
    "\n",
    "        # Calculate the lower and upper bounds for the confidence intervals\n",
    "        confidence_level = 0.95 # Change as needed\n",
    "        z_score = scipy.stats.norm.ppf((1 + confidence_level) / 2)\n",
    "        lower_bounds = mean_predictions - z_score * std_predictions / np.sqrt(num_trees)\n",
    "        upper_bounds = mean_predictions + z_score * std_predictions / np.sqrt(num_trees)\n",
    "        difference = upper_bounds - lower_bounds\n",
    "        # Store the results in a dataframe\n",
    "        results = pd.DataFrame({\n",
    "            'Mean prediction': mean_predictions,\n",
    "            'Lower bound': lower_bounds,\n",
    "            'Upper bound': upper_bounds\n",
    "        })\n",
    "        # Save the results to a file\n",
    "        results_Arr.append(results)\n",
    "        r_arr.append([mean_predictions, lower_bounds, upper_bounds,difference])\n",
    "        plt.fill_between(range(num_time_steps), lower_bounds, upper_bounds, color=plt_color, alpha=0.2)\n",
    "        plt.plot(mean_predictions, color=plt_color, label=f'Episode {E}')\n",
    "\n",
    "        # Add labels and title to the plot\n",
    "        plt.xlabel('Time step')\n",
    "        plt.ylabel('Prediction')\n",
    "        plt.title('Confidence Intervals of Random Forest Predictions')\n",
    "    # results_arr.append(r_arr)\n",
    "    # Save the plot as a file\n",
    "    current_time = datetime.now()\n",
    "    ID = current_time.strftime(\"%Y%m%d%H%M%S\")\n",
    "    # if save:\n",
    "    #     fig.savefig(f'{path}/RPV_C{data_chunk}_{ID}.png')\n",
    "    # plt.savefig(f'C:/Users/Student/Desktop/vs_git/HazardDetection/Plots/CI/abs_{d}/confidence_intervals_{chunk}_{ID}.png', bbox_inches='tight')\n",
    "    plt.legend()\n",
    "    plt.savefig(f'{path}/confidence_intervals_{chunk}_{ID}.png', bbox_inches='tight')\n",
    "    # np.array(results_Arr).to_csv('confidence_intervals.csv', index=False)\n",
    "    # save results_arr to pickle file\n",
    "    pickle_path = f'CI/Abs_{abs_d}'\n",
    "    if not os.path.exists(pickle_path):\n",
    "        os.makedirs(pickle_path)\n",
    "    with open(f'{pickle_path}/results_arr_{chunk}.pkl', 'wb') as f:\n",
    "        pickle.dump(r_arr, f)\n"
   ]
  },
  {
   "cell_type": "markdown",
   "metadata": {},
   "source": [
    "## generate accuracy data and plot metrics"
   ]
  },
  {
   "cell_type": "code",
   "execution_count": null,
   "metadata": {},
   "outputs": [],
   "source": [
    "d_set=[500,100,50,10,5,1]\n",
    "from tqdm import tqdm\n",
    "# d_set=[0.5]\n",
    "\n",
    "#read FRT and FRTS from pickle\n",
    "with open(f'{Dataset_path}/Random_episodes/FRT.pickle', 'rb') as file2:\n",
    "    FRT = pickle.load(file2)\n",
    "with open(f'{Dataset_path}Random_episodes/FRTS.pickle', 'rb') as file2:\n",
    "    FRTS = pickle.load(file2)\n",
    "\n",
    "for d in d_set:\n",
    "    print('\\n Abstraction level: ',d,'\\n\\n')\n",
    "\n",
    "    Read_from_data = True\n",
    "    if Read_from_data:\n",
    "        with open(f'{Dataset_path}/Abstraction/Abstraction_data_sampled_200_{d}.pickle', 'rb') as file2:\n",
    "            unique1 = pickle.load(file2)\n",
    "        uni1=np.array(unique1)\n",
    "    if not Read_from_data:\n",
    "        unique1,uni1 = Abstract_classes(final_episodes,d,model)\n",
    "\n",
    "    #read model from pickle\n",
    "    with open(f'{Dataset_path}/ML_models/RF_FF_1rep_{d}.pickle', 'rb') as file2:\n",
    "        RF_FF_1rep = pickle.load(file2)\n",
    "\n",
    "    #########################################################  Plot Risk and Position #############\n",
    "    newpath = f'Data/Episodes/Abs_{d}'\n",
    "    if not os.path.exists(newpath):\n",
    "        os.makedirs(newpath)\n",
    "\n",
    "    chunk_size = 200\n",
    "    start = 0\n",
    "    end = chunk_size\n",
    "    while start < len(FRT):\n",
    "        episode_chunk = translate_multiple_episodes_steps_tqdm(FRT[start:end], model, translator, d, unique1)\n",
    "        with open(f'{newpath}/episode_chunk_{start}_{end}.pickle', 'wb') as file2:\n",
    "            pickle.dump(episode_chunk, file2)\n",
    "        del episode_chunk\n",
    "        start += chunk_size\n",
    "        end += chunk_size\n",
    "        if end > len(FRT):\n",
    "            end = len(FRT)\n",
    "    \n",
    "    \n",
    "    Pred = []\n",
    "    chunk_size = 200\n",
    "    start = 0\n",
    "    end = chunk_size\n",
    "    while start < len(FRT):\n",
    "        #read episodes from pickle\n",
    "        with open(f'{newpath}/episode_chunk_{start}_{end}.pickle', 'rb') as file2:\n",
    "            episode_chunk = pickle.load(file2)\n",
    "        Pred += ACCURACY(episode_chunk,RF_FF_1rep,55,abs_d=d,path=newpath)\n",
    "        del episode_chunk\n",
    "        start += chunk_size\n",
    "        end += chunk_size\n",
    "        if end > len(FRT):\n",
    "            end = len(FRT)\n",
    "\n",
    "    met = extract_weighted_performance(Pred, FRT, 0.5)\n",
    "    #plot metrics and save them\n",
    "    plot_and_save_metrics(met, f'{newpath}/metrics.png')"
   ]
  }
 ],
 "metadata": {
  "kernelspec": {
   "display_name": "venv",
   "language": "python",
   "name": "python3"
  },
  "language_info": {
   "codemirror_mode": {
    "name": "ipython",
    "version": 3
   },
   "file_extension": ".py",
   "mimetype": "text/x-python",
   "name": "python",
   "nbconvert_exporter": "python",
   "pygments_lexer": "ipython3",
   "version": "3.7.8"
  },
  "orig_nbformat": 4,
  "vscode": {
   "interpreter": {
    "hash": "704142a53cc302aff65c9d37244a965c0815bdc7e36e6b2c7e9e17e0904d256a"
   }
  }
 },
 "nbformat": 4,
 "nbformat_minor": 2
}
